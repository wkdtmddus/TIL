{
 "cells": [
  {
   "cell_type": "markdown",
   "metadata": {},
   "source": [
    "### 부분집합\n",
    "##### `집합에 포함된 원소들을 선택`하는 것이다.\n",
    "##### 부분집합 예시\n",
    "- 아래 표는 집합 {A, B, C}로 만들 수 있는 부분집합의 예시이다.\n",
    "- 부분집합에는 `아무것도 선택하지 않은 경우`도 집합에 포함된다.(= 공집합)"
   ]
  },
  {
   "cell_type": "markdown",
   "metadata": {},
   "source": [
    "| {A, B, C} |\n",
    "| --- |\n",
    "| {} |\n",
    "| {A} |\n",
    "| {B} |\n",
    "| {A, B} |\n",
    "| {C} |\n",
    "| {A, C} |\n",
    "| {B, C} |\n",
    "| {A, B, C} |"
   ]
  },
  {
   "cell_type": "markdown",
   "metadata": {},
   "source": [
    "##### 집합에서 부분집합을 찾아내는 구현 방법\n",
    "1) 완전탐색\n",
    "    - 재귀호출을 이용한 완전탐색으로, 부분집합을 구할 수 있다.\n",
    "    - 실전보다는 완전탐색 `학습용으로 추천`하는 방법\n",
    "2) Binary Counting\n",
    "    - 2진수 & 비트연산을 이용하여, 부분집합을 구할 수 있다.\n",
    "    - `부분집합이 필요할 때 사용하는 추천 방법`"
   ]
  },
  {
   "cell_type": "markdown",
   "metadata": {},
   "source": [
    "### 부분집합 구현(완전탐색)\n",
    "##### 완전탐색으로 부분집합 구하기\n",
    "- 민철이에게는 세 명의 친구가 있다.\n",
    "    - MIN, CO, TIM\n",
    "- 함께 영화관에 갈 수 있는 멤버를 구성 하고자 한다.\n",
    "- 모든 경우를 출력해보자."
   ]
  },
  {
   "cell_type": "markdown",
   "metadata": {},
   "source": [
    "##### O, X로 집합에 포함 시킬지 말지 결정하는 완전탐색을 이용하여 구현한다."
   ]
  },
  {
   "cell_type": "markdown",
   "metadata": {},
   "source": [
    "##### 구현 방법\n",
    "- Level: 3개, Branch: 2개"
   ]
  },
  {
   "cell_type": "code",
   "execution_count": null,
   "metadata": {},
   "outputs": [],
   "source": [
    "arr = ['O', 'X']\n",
    "path = []\n",
    "\n",
    "def run(lev):\n",
    "    if lev == 3:\n",
    "        print(path)\n",
    "        return\n",
    "    \n",
    "    for i in range(2):\n",
    "        path.append(arr[i])\n",
    "        run(lev+1)\n",
    "        path.pop()\n",
    "\n",
    "run(0)"
   ]
  },
  {
   "cell_type": "markdown",
   "metadata": {},
   "source": [
    "##### 완성된 코드\n",
    "- 이름을 출력하는 코드를 추가하여 부분집합 코드를 완성"
   ]
  },
  {
   "cell_type": "code",
   "execution_count": null,
   "metadata": {},
   "outputs": [],
   "source": [
    "arr = ['O', 'X']\n",
    "path = []\n",
    "name = ['MIN', 'CO', 'TIM'] # 추가\n",
    "\n",
    "def print_name():   # 추가\n",
    "    for i in range(3):\n",
    "        if path[i] == 'O':\n",
    "            print(name[i], end='')\n",
    "    print()\n",
    "\n",
    "def run(lev):\n",
    "    if lev == 3:\n",
    "        print_name()    # 추가\n",
    "        return\n",
    "    \n",
    "    for i in range(2):\n",
    "        path.append(arr[i])\n",
    "        run(lev+1)\n",
    "        path.pop()\n",
    "\n",
    "run(0)"
   ]
  },
  {
   "cell_type": "markdown",
   "metadata": {},
   "source": [
    "### 부분집합 구현(바이너리 카운팅)\n",
    "##### 바이너리 카운팅(Binary Counting)\n",
    "- 원소 수에 해당하는 N개의 비트열을 이용한다."
   ]
  },
  {
   "cell_type": "markdown",
   "metadata": {},
   "source": [
    "| 10진수 | 2진수 | {A, B, C} |\n",
    "| --- | --- | --- |\n",
    "| 0 | 000 | {} |\n",
    "| 1 | 001 | {A} |\n",
    "| 2 | 010 | {B} |\n",
    "| 3 | 011 | {A, B} |\n",
    "| 4 | 100 | {C} |\n",
    "| 5 | 101 | {A, C} |\n",
    "| 6 | 110 | {B, C} |\n",
    "| 7 | 111 | {A, B, C} |"
   ]
  },
  {
   "cell_type": "markdown",
   "metadata": {},
   "source": [
    "##### 집합의 총 개수\n",
    "- 만들 수 있는 집합의 총 개수는 2^n이며 n = 3이기 때문에 총 8개 집합이다.\n",
    "- 2^n은 1 << n 공식을 이용하여 빠르게 구할 수 있다."
   ]
  },
  {
   "cell_type": "code",
   "execution_count": null,
   "metadata": {},
   "outputs": [],
   "source": [
    "print(pow(2, 3))    # 8\n",
    "print(1 << 3)       # 8"
   ]
  },
  {
   "cell_type": "markdown",
   "metadata": {},
   "source": [
    "##### 0b110이 주어지면, BC를 출력하는 함수\n",
    "- 6(0b110)에서 비트연산을 이용하여 마지막 한자리가 1인지 0인지 검사한다.\n",
    "- 검사한 한 자리를 제거한다.(tar >>= 1)"
   ]
  },
  {
   "cell_type": "code",
   "execution_count": null,
   "metadata": {},
   "outputs": [],
   "source": [
    "arr = ['A', 'B', 'C']\n",
    "n = len(arr)\n",
    "\n",
    "def get_sub(tar):\n",
    "    for i in range(n):\n",
    "        if tar & 0x1:\n",
    "            print(arr[i], end='')\n",
    "        tar >>= 1\n",
    "\n",
    "get_sub(6)"
   ]
  },
  {
   "cell_type": "markdown",
   "metadata": {},
   "source": [
    "##### 완성된 부분집합 코드\n",
    "- get_sub(0) ~ get_sub(7)까지 호출하여 모든 부분집합을 출력"
   ]
  },
  {
   "cell_type": "code",
   "execution_count": null,
   "metadata": {},
   "outputs": [],
   "source": [
    "arr = ['A', 'B', 'C']\n",
    "n = len(arr)\n",
    "\n",
    "def get_sub(tar):\n",
    "    for i in range(n):\n",
    "        if tar & 0x1:\n",
    "            print(arr[i], end='')\n",
    "        tar >>= 1\n",
    "\n",
    "for tar in range(0, 1 << n):    # range(0, 8)\n",
    "    get_sub(tar)\n",
    "    print()"
   ]
  },
  {
   "cell_type": "markdown",
   "metadata": {},
   "source": [
    "### 조합\n",
    "##### 서로 다른 n개의 원소 중 r개를 순서 없이 골라낸 것을 `조합(combination)`이라고 부른다.\n",
    "##### `순열과 조합 차이`\n",
    "- 순열: {A, B, C, D, E} 5명 중 1등, 2등, 3등 뽑기\n",
    "    - A B C와 C B A는 다른 경우이다.\n",
    "- 조합: 5명 중 3명 뽑기\n",
    "    - A B C와 C B A는 같은 경우이다.  \n",
    "\n",
    "nCr = (n!)/((n-1)!r!), (n >= r)  \n",
    "nCr = n-1Cr-1 + n-1Cr  \n",
    "nC0 = 1  "
   ]
  },
  {
   "cell_type": "markdown",
   "metadata": {},
   "source": [
    "##### for문으로 조합 구현하기\n",
    "- 5명 중 3명 뽑는 조합은 3중 for문으로 구현이 가능하다."
   ]
  },
  {
   "cell_type": "code",
   "execution_count": null,
   "metadata": {},
   "outputs": [],
   "source": [
    "arr = ['A', 'B', 'C', 'D', 'E']\n",
    "\n",
    "for a in range(5):\n",
    "    start1 = a+1\n",
    "    for b in range(start1, 5):\n",
    "        start2 = b+1\n",
    "        for c in range(start2, 5):\n",
    "            print(arr[a], arr[b], arr[c])"
   ]
  },
  {
   "cell_type": "markdown",
   "metadata": {},
   "source": [
    "### 만약 5명 중 n명을 뽑는 코드는 몇 중 for문이 필요할까?\n",
    "- n중 for문으로 구현이 가능하다. 즉, `재귀호출 구현이 필요`\n",
    "- branch: 최대 5개, Level: n"
   ]
  },
  {
   "cell_type": "markdown",
   "metadata": {},
   "source": [
    "##### 코드에 start 파라미터를 추가하여 조합 코드를 완성한다.\n",
    "1) 처음 run함수의 start값은 0이다. 따라서 0 ~ 5까지 반복하면서 재구호출을 한다.\n",
    "2) 만약 i가 3이 선택되는 경우는 재귀호출할 때 start는 4가 된다. 다음 for문은 4부터 수행한다."
   ]
  },
  {
   "cell_type": "code",
   "execution_count": null,
   "metadata": {},
   "outputs": [],
   "source": [
    "arr = ['A', 'B', 'C', 'D', 'E']\n",
    "path = []\n",
    "n = 3\n",
    "\n",
    "def run(lev, start):\n",
    "    if lev == n:\n",
    "        print(path)\n",
    "        return\n",
    "\n",
    "    for i in range(start, 5):\n",
    "        path.append(arr[i])\n",
    "        run(lev+1, i+1)\n",
    "        path.pop()\n",
    "\n",
    "run(0, 0)"
   ]
  },
  {
   "cell_type": "markdown",
   "metadata": {},
   "source": [
    "### 문제를 해결하는 방법\n",
    "##### Greedy(욕심쟁이 기법, 알고리즘)\n",
    "- 결정이 필요할 때, `현재` 기준으로 `가장 좋아보이는 선택지로` 결정하여 답을 도축하는 알고리즘\n",
    "##### 대표적인 문제해결기법\n",
    "1) 완전탐색(Brute-Force)\n",
    "    - 답이 될 수 있는 모든 경우를 시도해보는 알고리즘\n",
    "2) `Greedy`\n",
    "    - 결정이 필요할 때 `가장 좋아보이는 선택지`로 결정하는 알고리즘\n",
    "3) DP\n",
    "    - 현재에서 가장 좋아보이는 것을 선택하는 것이 아니라, 과거의 데이터를 이용하여, 현재의 데이터를 만들어내는 문제해결기법\n",
    "4) 분할정복\n",
    "    - 큰 문제를 작은 문제로 나누어 해결하는 문제해결기법"
   ]
  },
  {
   "cell_type": "markdown",
   "metadata": {},
   "source": [
    "### 그리디(동전교환 문제)\n",
    "##### 문제: 동전교환\n",
    "##### 10, 50, 100, 500원 총 네 종류의 동전이 있다.\n",
    "##### 손님의 돈을 최소한의 동전 수를 사용하여 교환해 주려고 한다.\n",
    "##### 만약 1730원을 거슬러 주기 위해 사용할 수 있는 최소 동전 수는 몇 개인가?"
   ]
  },
  {
   "cell_type": "markdown",
   "metadata": {},
   "source": [
    "##### 1730원을 거슬러 줄 수 있는 최소 동전의 수\n",
    "- 큰 동전부터 최대한 거슬러 주면 된다.\n",
    "- 이 처럼, 좋아보이는 값을 먼저 선택하는 것을 `그리디(Greedy), 욕심쟁이 알고리즘`이라고 한다.\n",
    "    - 500원 -> 3개 = 누적 1500원\n",
    "    - 100원 -> 2개 = 누적 1700원\n",
    "    - 10원 -> 3개 = 누적 1730원"
   ]
  },
  {
   "cell_type": "markdown",
   "metadata": {},
   "source": [
    "##### 그리디로 성립하는 조건인 코드"
   ]
  },
  {
   "cell_type": "code",
   "execution_count": null,
   "metadata": {},
   "outputs": [],
   "source": [
    "coin_list = [500, 100, 50, 10]\n",
    "tar = 1730\n",
    "cnt = 0\n",
    "\n",
    "for coin in coin_list:\n",
    "    possible_cnt = tar // coin  # 사용 가능한 동전의 수(만약 500원이라면 3개 가능)\n",
    "    cnt += possible_cnt # 3개를 추가한다.\n",
    "    tar -= coin * possible_cnt  # 3개로 만들 수 있는 금액인 1500원을 뺀다.\n",
    "\n",
    "print(cnt)  # 8"
   ]
  },
  {
   "cell_type": "markdown",
   "metadata": {},
   "source": [
    "##### 아래의 경우에도 가장 큰 동전부터 최대한 거슬러 주면 된다.\n",
    "- 5, 20, 100원 동전\n",
    "- 530원을 거슬러 주기 위해서 사용해야하는 최소 동전의 수"
   ]
  },
  {
   "cell_type": "markdown",
   "metadata": {},
   "source": [
    "##### 문제를 해결하는 데, 그리디 알고리즘이 아닌 완전탐색을 이용하는 방법\n",
    "- `0원이` 될 때까지 모든 경우를 다 해본다.\n",
    "- `최소 Level이 되는 경우를 찾으면 정답이 된다.`"
   ]
  },
  {
   "cell_type": "markdown",
   "metadata": {},
   "source": [
    "##### `그리디 알고리즘으로 동전교환 문제를 접근하면 아래 케이스에서 예외가 발생할 수 있다.`\n",
    "- 10, 50, 70원 동전\n",
    "- 100원을 거슬러 주어야 하는 경우 총 몇개의 동전이 필요한가?  \n",
    "    - 그리디로 접근 -> 액수가 큰 동전을 먼저 선택하면 4개이다.\n",
    "    - 정답 -> 50원 동전만 사용하면 2개이다."
   ]
  },
  {
   "cell_type": "markdown",
   "metadata": {},
   "source": [
    "##### 그리디가 성립하는 경우와 성립하지 않는 경우\n",
    "- 10, 50, 100, 500처럼 모든 동전이 배수관계인 경우는 그리디가 성립한다.\n",
    "- 10, 50, 70처럼 모든 동전이 배수관계가 아닌 경우는 그리디가 성립하지 않는다.\n",
    "    - `그리디 알고리즘은 쉬워보이나, 예외없이 모든 경우가 맞는 규칙인지 아닌지 증명이 어렵다.`"
   ]
  },
  {
   "cell_type": "markdown",
   "metadata": {},
   "source": [
    "### 그리디(0-1 Knapsack)\n",
    "##### 도둑은 보물들이 있는 창고에 침입하였다. 도둑은 최대 30kg까지 짐을 담아갈 수 있다.\n",
    "##### 물건의 개수(N) 그리고 물건 별 무게(W)와 가격(P)이 주어질 때, 어떤 물건을 담아야, 도둑이 최대 이득을 볼 수 있는지 구하시오."
   ]
  },
  {
   "cell_type": "markdown",
   "metadata": {},
   "source": [
    "|| 무게 | 값 |\n",
    "| --- | --- | --- |\n",
    "| 물건1 | 5kg | 50만원 |\n",
    "| 물건2 | 10kg | 60만원 |\n",
    "| 물건3 | 20kg | 140만원 |"
   ]
  },
  {
   "cell_type": "markdown",
   "metadata": {},
   "source": [
    "##### 이 문제를 그리디로 접근한다면, 어떤 기준으로 선택을 하는 것이 좋을까?\n",
    "- 물건은 하나씩만 존재한다.\n",
    "- 최대 30kg까지 짐을 담고자 할 때, 어떤 물건을 담아야, 최대로 수익을 낼 수 있는 지 찾는 문제"
   ]
  },
  {
   "cell_type": "markdown",
   "metadata": {},
   "source": [
    "##### 이 문제는 kg당 가치가 가장 높은 것을 먼저 담으면 안 된다.\n",
    "- 0-1 Knapsack을 그리디로 접근하면 안 되는 예외 케이스가 존재한다.\n",
    "- `0-1 Knapsack 문제는 그리디로 해결할 수 없다. 완전탐색 or DP로 접근해야한다.`"
   ]
  },
  {
   "cell_type": "markdown",
   "metadata": {},
   "source": [
    "### 그리디(Fractional Knapsack)\n",
    "##### Fractional Knapsack 문제\n",
    "- 0-1 Knapsack과 달리, 물건을 원하는 만큼 자를 수 있는 Knapsack 문제."
   ]
  },
  {
   "cell_type": "markdown",
   "metadata": {},
   "source": [
    "|| 무게 | 값 | 값/kg |\n",
    "| --- | --- | --- | --- |\n",
    "| 물건1 | 5kg | 50만원 | 10만원/kg |\n",
    "| 물건2 | 10kg | 60만원 | 6만원/kg |\n",
    "| 물건3 | 20kg | 140만원 | 7만원/kg |"
   ]
  },
  {
   "cell_type": "markdown",
   "metadata": {},
   "source": [
    "- 정답은 아니지만, 가방에 담을 수 있는 예시\n",
    "    - 물건1에서 5kg + 물건2에서 10kg + 물건3에서 15kg  \n",
    "    = 50 + 60 + 105 = 215만원\n",
    "- 그리디로 접근해도 될 지 고민해보자."
   ]
  },
  {
   "cell_type": "markdown",
   "metadata": {},
   "source": [
    "##### Fractional Knapsack 문제 해결 방법\n",
    "- 그리디가 성립한다.\n",
    "- `kg당 가격이 가장 높은 물건을 최대한 담으면 된다.`\n",
    "- 최대 수익\n",
    "    - kg당 금액이 가장 높은 물건1, 전체 사용(50만원)\n",
    "    - 두번째로 높은 물건3, 전체 사용(140만원)\n",
    "    - 세번째로 높은 물건2, 나머지 모두 사용(5kg만 사용, 30만원)\n",
    "    - = 50 + 140 + 30 = 220만원"
   ]
  },
  {
   "cell_type": "code",
   "execution_count": null,
   "metadata": {},
   "outputs": [],
   "source": [
    "n = 3\n",
    "target = 30 # Knapsack kg\n",
    "things = [(5, 50), (10, 60), (20, 140)] # (kg, price)\n",
    "\n",
    "# (price / kg) 기준으로 내림차순\n",
    "things.sort(key = lambda x: (x[1] / x[0]), reverse=True)\n",
    "# sort 결과 = [(5, 50), (20, 140), (10, 60)]\n",
    "\n",
    "sum = 0\n",
    "for kg, price in things:\n",
    "    per_price = price // kg\n",
    "\n",
    "    # 만약 가방에 남은 용량이 얼마 되지 않는다면,\n",
    "    # 물건을 잘라 가방에 넣고 끝낸다.\n",
    "    if target < kg:\n",
    "        sum += target * per_price\n",
    "        break\n",
    "\n",
    "    sum += price\n",
    "    target -= kg\n",
    "\n",
    "print(sum)"
   ]
  }
 ],
 "metadata": {
  "language_info": {
   "name": "python"
  }
 },
 "nbformat": 4,
 "nbformat_minor": 2
}
