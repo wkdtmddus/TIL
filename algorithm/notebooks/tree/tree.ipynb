{
 "cells": [
  {
   "cell_type": "markdown",
   "metadata": {},
   "source": [
    "### 트리\n",
    "##### 트리의 개념\n",
    "- 비선형 구조\n",
    "- 원소들 간에 1:b 관계를 가지는 자료구조\n",
    "- 원소들 간에 계층관계를 가지는 계층형 자료구조\n",
    "- 상위 원소에서 하위 원소로 내려가면서 확장되는 트리(나무)모양의 구조"
   ]
  },
  {
   "cell_type": "markdown",
   "metadata": {},
   "source": [
    "### 트리-정의\n",
    "##### 한 개 이상의 노드로 이루어진 유한 집합이며 다음 조건을 만족한다.\n",
    "- 노드 중 최상의 노드를 루트(root)라 한다.\n",
    "- 나머지 노드들은 n(>= 0)개의 분리집합 T1, ..., TN으로 분리될 수 있다.\n",
    "##### 이들 T1, ..., TN은 각각 하나의 트리가 되며(재귀적 정의) 루트의 부트리(subtree)라 한다.\n",
    "- 정점(node, vertex)\n",
    "- 단말노드 또는 잎(leaf) 노드"
   ]
  },
  {
   "cell_type": "markdown",
   "metadata": {},
   "source": [
    "### 트리-용어정리\n",
    "##### 노드(node)-트리의 원소\n",
    "##### 간선(edge): 노드를 연결하는 선. 부모 노드와 자식 노드를 연결\n",
    "##### 루트 노드(root node): 트리의 시작 노드"
   ]
  },
  {
   "cell_type": "markdown",
   "metadata": {},
   "source": [
    "##### 형제 노드(sibling node): 같은 부모 노드의 자식 노드들\n",
    "##### 조상 노드: 간선을 따라 루트 노드까지 이르는 경로에 있는 모든 노드들\n",
    "##### 서브 트리(subtree): 부모 노드와 연결된 간선을 끊었을 때 생성되는 트리\n",
    "##### 자손 노드: 서브 트리에 있는 하위 레벨의 노드들"
   ]
  },
  {
   "cell_type": "markdown",
   "metadata": {},
   "source": [
    "##### 차수(degree)\n",
    "- 노드의 차수: 노드에 연결된 자식 노드의 수\n",
    "- 트리의 차수: 트리에 있는 노드의 차수 중에서 가장 큰 값\n",
    "- 단말 노드(리프 노드): 차수가 0인 노드. 자식 노드가 없는 노드"
   ]
  },
  {
   "cell_type": "markdown",
   "metadata": {},
   "source": [
    "##### 높이\n",
    "- 노드의 높이: 루트에서 노드에 이르는 간선의 수. 노드의 레벨\n",
    "- 트리의 높이: 트리에 있는 노드의 높이 중에서 가장 큰 값. 최대 레벨"
   ]
  },
  {
   "cell_type": "markdown",
   "metadata": {},
   "source": [
    "### 이진 트리\n",
    "##### 모든 노드들이 2개의 서브 트리를 갖는 특별한 형태의 트리\n",
    "##### 각 노드가 자식 노드를 최대한 2개까지만 가질 수 있는 트리\n",
    "- 왼쪽 자식 노드(left child node)\n",
    "- 오른쪽 자식 노드(right child node)"
   ]
  },
  {
   "cell_type": "markdown",
   "metadata": {},
   "source": [
    "### 이진 트리-특성\n",
    "##### 레벨 i에서의 노드의 최대 개수는 2**i개\n",
    "##### 높이가 h인 이진 트리가 가질 수 있는 노드의 최소 개수는 (h+1)개가 되며, 최대 개수는 (2**(h+1)-1)개가 된다."
   ]
  },
  {
   "cell_type": "markdown",
   "metadata": {},
   "source": [
    "### 이진 트리-종류\n",
    "##### 포화 이진 트리(Full Binary Tree)\n",
    "- 모든 레벨에 노드가 포화상태로 차 있는 이진 트리\n",
    "- 높이가 h일 때, 최대의 노드 개수인 (2**(h+1)-1)의 노드를 가진 이진 트리\n",
    "    - 높이 3일 때 2**(3+1)-1 = 15개의 노드\n",
    "- 루트를 1번으로 하여 2**(h+1)-1까지 정해진 위치에 대한 노드 번호를 가짐"
   ]
  },
  {
   "cell_type": "markdown",
   "metadata": {},
   "source": [
    "##### 완전 이진 트리(Complete Binary Tree)\n",
    "- 높이가 h이고 노드 수가 n개일 때(단, 2**h <= n <= 2(h+1)-1), 포화 이진 트리의 노드 번호 1번부터 n번까지 빈 자리가 없는 이진 트리"
   ]
  },
  {
   "cell_type": "markdown",
   "metadata": {},
   "source": [
    "##### 편향 이진 트리(Skewed Binary Tree)\n",
    "- 높이 h에 대한 최소 개수의 노드를 가지면서 한쪽 방향의 자식 노드만을 가진 이진 트리\n",
    "    - 왼쪽 편향 이진 트리\n",
    "    - 오른쪽 편향 이진 트리"
   ]
  },
  {
   "cell_type": "markdown",
   "metadata": {},
   "source": [
    "### 이진 트리-순회(traversal)\n",
    "##### 순회(traversal)란 트리의 각 노드를 중복되지 않게 전부 방문(visit) 하는 것을 말하는데 트리는 비선형구조이기 때문에 선형구조에서와 같이 선후 연결관계를 알 수 없다.\n",
    "##### 따라서 특별한 방법이 필요하다."
   ]
  },
  {
   "cell_type": "markdown",
   "metadata": {},
   "source": [
    "##### 순회(traversal): 트리의 노드들을 체계적으로 방문하는 것\n",
    "##### 3가지의 기본적인 순회방법\n",
    "- 전위순회(preorder traversal): VLR\n",
    "    - 부모노드 방문 후, 자식노드를 좌우 순서로 방문한다.\n",
    "- 중위순회(inorder traversal): LVR\n",
    "    - 왼쪽 자식노드, 부모노드, 오른쪽 자식노드 순으로 방문한다.\n",
    "- 후위순회(postorder traversal): LRV\n",
    "    - 자식노드를 좌우 순서로 방문한 후, 부모노드로 방문한다."
   ]
  },
  {
   "cell_type": "markdown",
   "metadata": {},
   "source": [
    "##### 전위순회(preorder traversal)\n",
    "- 수행 방법\n",
    "    1) 현재 노드 n을 방문하여 처리한다. -> V\n",
    "    2) 현재 노드 n의 왼쪽 서브트리로 이동한다. -> L\n",
    "    3) 현재 노드 n의 오른쪽 서브트리로 이동한다. -> R\n",
    "- 전위순회 알고리즘"
   ]
  },
  {
   "cell_type": "code",
   "execution_count": null,
   "metadata": {
    "vscode": {
     "languageId": "plaintext"
    }
   },
   "outputs": [],
   "source": [
    "def preorder_traverse(T):\n",
    "    # T is not None\n",
    "    if T:\n",
    "        # print(T.item)\n",
    "        visit(T)\n",
    "        # T.left\n",
    "        preorder_traverse(T.left)\n",
    "        # T.right\n",
    "        preorder_traverse(T.right)"
   ]
  },
  {
   "cell_type": "markdown",
   "metadata": {},
   "source": [
    "##### 중위순회(inorder traversal)\n",
    "- 수행 방법\n",
    "    1) 현재 노드 n의 왼쪽 서브트리로 이동한다. -> L\n",
    "    2) 현재 노드 n을 방문하여 처리한다. -> V\n",
    "    3) 현재 노드 n의 오른쪽 서브트리로 이동한다. -> R\n",
    "- 중위순회 알고리즘"
   ]
  },
  {
   "cell_type": "code",
   "execution_count": null,
   "metadata": {
    "vscode": {
     "languageId": "plaintext"
    }
   },
   "outputs": [],
   "source": [
    "def inorder_traverse(T):\n",
    "    # T is not None\n",
    "    if T:\n",
    "        # T.left\n",
    "        inorder_traverse(T.left)\n",
    "        # print(T.item)\n",
    "        visit(T)\n",
    "        # T.right\n",
    "        inorder_traverse(T.right)"
   ]
  },
  {
   "cell_type": "markdown",
   "metadata": {},
   "source": [
    "##### 후위순회(postorder traversal)\n",
    "- 수행 방법\n",
    "    1) 현재 노드 n의 왼쪽 서브트리로 이동한다. -> L\n",
    "    2) 현재 노드 n의 오른쪽 서브트리로 이동한다. -> R\n",
    "    3) 현재 노드 n을 방문하여 처리한다. -> V\n",
    "- 후위순회 알고리즘"
   ]
  },
  {
   "cell_type": "code",
   "execution_count": null,
   "metadata": {
    "vscode": {
     "languageId": "plaintext"
    }
   },
   "outputs": [],
   "source": [
    "def postorder_traverse(T):\n",
    "    # T is not None\n",
    "    if T:\n",
    "        # T.left\n",
    "        postorder_traverse(T.left)\n",
    "        # T.right\n",
    "        postorder_traverse(T.right)\n",
    "        # print(T.item)\n",
    "        visit(T)"
   ]
  },
  {
   "cell_type": "markdown",
   "metadata": {},
   "source": [
    "### 이진 트리의 표현\n",
    "##### 배열을 이용한 이진 트리의 표현\n",
    "- 이진 트리에 각 노드 번호를 다음과 같이 부여\n",
    "- 루트의 번호를 1로함\n",
    "- 레벨 n에 있는 노드에 대하여 왼쪽부터 오른쪽으로 2의 n승부터 2의 n+1승 - 1까지 번호를 차례로 부여"
   ]
  },
  {
   "cell_type": "markdown",
   "metadata": {},
   "source": [
    "### 이진 트리의 표현-배열\n",
    "##### 배열을 이용한 이진 트리의 표현\n",
    "##### 노드 번호의 성질\n",
    "- 노드 번호가 i인 노드의 부모노드 번호?         i/2\n",
    "- 노드 번호가 i인 노드의 왼쪽 자식노드 번호?    2*i\n",
    "- 노드 번호가 i인 노드의 오른쪽 자식노드 번호?  2*i+1\n",
    "- 레벨 n의 노드 번호 시작 번호는?               2**n"
   ]
  },
  {
   "cell_type": "markdown",
   "metadata": {},
   "source": [
    "- 노드 번호를 배열의 인덱스로 사용\n",
    "- 높이가 h인 이진 트리를 위한 배열의 크기는?\n",
    "    - 레벨 i의 최대 노드 수는? 2**i\n",
    "    - 따라서 1 + 2 + 4 + 8 + ... + 2**i = 2의 h+1승 - 1"
   ]
  },
  {
   "cell_type": "markdown",
   "metadata": {},
   "source": [
    "### [참고] 이진 트리의 저장"
   ]
  },
  {
   "cell_type": "code",
   "execution_count": null,
   "metadata": {
    "vscode": {
     "languageId": "plaintext"
    }
   },
   "outputs": [],
   "source": [
    "'''\n",
    "13\n",
    "1 2 1 3 2 4 3 5 3 6 4 7 5 8 5 9 6 10 6 11 7 12 11 13\n",
    "'''\n",
    "\n",
    "def pre_order(T):\n",
    "    if T:\n",
    "        print(T, end=' ')\n",
    "        pre_order(left[T])\n",
    "        pre_order(right[T])\n",
    "\n",
    "# 1번부터 N번까지인 정점\n",
    "N = int(input())\n",
    "E = N-1\n",
    "arr = list(map(int, input().split()))\n",
    "\n",
    "# 부모를 인덱스로 자식 번호 저장\n",
    "left = [0]*(N+1)\n",
    "right = [0]*(N+1)\n",
    "\n",
    "# 자식을 인덱스로 부모 저장\n",
    "par = [0]*(N+1)\n",
    "\n",
    "for i in range(E):\n",
    "    # for i in range(0, E*2, 2):\n",
    "    #     p, c = arr[i], arr[i+1]\n",
    "    p, c = arr[i*2], arr[i*2+1]\n",
    "\n",
    "    # 왼쪽자식이 없으면\n",
    "    if left[p]==0:\n",
    "        left[p] = c\n",
    "    else:\n",
    "        right[p] = c\n",
    "    par[c] = p\n",
    "\n",
    "c = N\n",
    "\n",
    "# 부모가 있으면\n",
    "while par[c]!=0:\n",
    "    # 부모를 새로운 자식으로 두고\n",
    "    c = par[c]\n",
    "# 더이상 부모가 없으면 root\n",
    "root = c\n",
    "print(root)\n",
    "pre_order(root)"
   ]
  },
  {
   "cell_type": "markdown",
   "metadata": {},
   "source": [
    "##### 배열을 이용한 이진 트리의 표현의 단점\n",
    "- 편향 이진 트리의 경우에 사용하지 않는 배열 원소에 대한 메모리 공간 낭비 발생\n",
    "- 트리의 중간에 새로운 노드를 삽입하거나 기존의 노드를 삭제할 경우 배열의 크기 변경 어려워 비효율적"
   ]
  },
  {
   "cell_type": "markdown",
   "metadata": {},
   "source": [
    "### 이진 트리의 표현-연결 리스트\n",
    "##### 배열을 이용한 이진 트리의 표현의 단점을 보완하기 위해 연결 리스트를 이용하여 트리를 표현할 수 있다.\n",
    "##### 연결 자료구조를 이용한 이진 트리의 표현\n",
    "- 이진 트리의 모든 노드는 최대 2개의 자식 노드를 가지므로 일정한 구조의 단순 연결 리스트 노드를 사용하여 구현"
   ]
  },
  {
   "cell_type": "markdown",
   "metadata": {},
   "source": [
    "### 이진 탐색 트리\n",
    "##### 탐색작업을 효율적으로 하기 위한 자료구조\n",
    "##### 모든 원소는 서로 다른 유일한 키를 갖는다.\n",
    "##### key(왼쪽 서브 트리) < key(루트 노드) < key(오른쪽 서브 트리)\n",
    "##### 왼쪽 서브 트리와 오른쪽 서브 트리도 이진 탐색 트리다.\n",
    "##### 중위순회하면 오름차순으로 정렬된 값을 얻을 수 있다."
   ]
  },
  {
   "cell_type": "markdown",
   "metadata": {},
   "source": [
    "### 이진 탐색 트리-연산\n",
    "##### 탐색연산\n",
    "- 루트에서 시작한다.\n",
    "- 탐색할 키값 x를 루트 노드의 키 값과 비교한다.\n",
    "    - (키값 x = 루트 노드의 키 값)인 경우: 원하는 원소를 찾았으므로 탐색연산 성공\n",
    "    - (키값 x < 루트 노드의 키 값)인 경우: 루트 노드의 왼쪽 서브 트리에 대해서 탐색연산 수행\n",
    "    - (키값 x > 루트 노드의 키 값)인 경우: 루트 노드의 오른쪽 서브 트리에 대해서 탐색연산 수행\n",
    "- 서브 트리에 대해서 순환적으로 탐색연산을 반복한다."
   ]
  },
  {
   "cell_type": "markdown",
   "metadata": {},
   "source": [
    "##### 삽입연산\n",
    "1) 먼저 탐색연산을 수행\n",
    "    - 삽입할 원소와 같은 원소가 트리에 있으면 삽입할 수 없으므로, 같은 원소가 트리에 있는지 탐색하여 확인한다.\n",
    "    - 탐색에서 탐색 실패가 결정되는 위치가 삽입 위치가 된다.\n",
    "2) 탐색 실패한 위치에 원소를 삽입한다."
   ]
  },
  {
   "cell_type": "markdown",
   "metadata": {},
   "source": [
    "### 이진 탐색 트리-성능\n",
    "##### 탐색(searching), 삽입(insertion), 삭제(deletion) 시간은 트리의 높이만큼 시간이 걸린다.\n",
    "- O(h), h: BST의 깊이(height)\n",
    "##### 평균의 경우\n",
    "- 이진 트리가 균형적으로 생성되어 있는 경우\n",
    "- O(logn)\n",
    "##### 최악의 경우\n",
    "- 한쪽으로 치우친 경사 이진 트리의 경우\n",
    "- O(n)\n",
    "- 순차탐색과 시간 복잡도가 같다."
   ]
  },
  {
   "cell_type": "markdown",
   "metadata": {},
   "source": [
    "##### 검색 알고리즘의 비교\n",
    "- 배열에서의 순차검색: O(N)\n",
    "- 정렬된 배열에서의 순차검색: O(N)\n",
    "- 정렬된 배열에서의 이진탐색: O(logN)\n",
    "    - 고정 배열 크기와 삽입, 삭제 시 추가 연산 필요\n",
    "- 이진 탐색 트리에서의 평균: O(logN)\n",
    "    - 최악의 경우: O(N)\n",
    "    - 완전 이진 트리 또는 균형 트리로 바꿀 수 있다면 최악의 경우를 없앨 수 있다.\n",
    "        - 새로운 원소를 삽입할 때 삽입 시간을 줄인다.\n",
    "        - 평균과 최악의 시간이 같다. O(logn)\n",
    "- 해쉬검색: O(1)\n",
    "    - 추가 저장 공간이 필요\n",
    "##### 상용에서 검색을 위해 어떤 알고리즘을 사용할까?"
   ]
  },
  {
   "cell_type": "markdown",
   "metadata": {},
   "source": [
    "### 힙(heap)\n",
    "##### 완전 이진 트리에 있는 노드 중에서 키값이 가장 큰 노드나 키값이 가장 작은 노드를 찾기 위해서 만든 자료구조\n",
    "##### 최대 힙(max heap)\n",
    "- 키값이 가장 큰 노드를 찾기 위한 `완전 이진 트리`\n",
    "- 부모 노드의 키값 > 자식 노드의 키값\n",
    "- 루트 노드: 키값이 가장 큰 노드\n",
    "##### 최소 힙(min heap)\n",
    "- 키값이 가장 작은 노드를 찾기 위한 `완전 이진 트리`\n",
    "- 부모 노드의 키값 < 자식 노드의 키값\n",
    "- 루트 노드: 키값이 가장 작은 노드"
   ]
  },
  {
   "cell_type": "markdown",
   "metadata": {},
   "source": [
    "### 힙 연산-삭제\n",
    "##### 힙에서는 루트 노드의 원소만을 삭제 할 수 있다.\n",
    "##### 루트 노드의 원소를 삭제하여 반환한다.\n",
    "##### 힙의 종류에 따라 최대값 또는 최소값을 구할 수 있다."
   ]
  },
  {
   "cell_type": "markdown",
   "metadata": {},
   "source": [
    "### 힙을 이용한 우선순위 큐\n",
    "##### 힙(Heap)\n",
    "- 완전 이진 트리로 구현된 자료구조로서, 키값이 가장 큰 노드나 가장 작은 노드를 찾기에 적합한 자료구조\n",
    "- 힙의 키를 우선순위로 활용하여 우선순위 큐를 구현할 수 있다."
   ]
  },
  {
   "cell_type": "code",
   "execution_count": null,
   "metadata": {
    "vscode": {
     "languageId": "plaintext"
    }
   },
   "outputs": [],
   "source": [
    "# 최대힙\n",
    "def enq(n):\n",
    "    global last\n",
    "    # 마지막 노드 추가(완전이진트리 유지)\n",
    "    last += 1\n",
    "    # 마지막 노드에 데이터 삽입\n",
    "    h[last] = n\n",
    "    # 부모 > 자식 비교를 위해\n",
    "    c = last\n",
    "    # 부모번호 계산\n",
    "    p = c // 2\n",
    "    # 부모가 있는데, 더 작으면\n",
    "    while p >= 1 and h[p] < h[c]:\n",
    "        # 교환\n",
    "        h[p] , h[c] = h[c], h[p]\n",
    "        c = p\n",
    "        p = c // 2\n",
    "\n",
    "\n",
    "def deq():\n",
    "    global last\n",
    "    # 루트의 키값 보관\n",
    "    tmp = h[1]\n",
    "    h[1] = h[last]\n",
    "    last -= 1\n",
    "    # 새로 옮긴 루트\n",
    "    p = 1\n",
    "    c = p * 2\n",
    "    # 자식이 있으면\n",
    "    while c <= last:\n",
    "        # 오른쪽자식이 있고 더 크면\n",
    "        if c + 1 <= last and h[c] < h[c+1]:\n",
    "            c += 1\n",
    "        if h[p] < h[c]:\n",
    "            h[p], h[c] = h[c], h[p]\n",
    "            p = c\n",
    "            c = p * 2\n",
    "        else:\n",
    "            break\n",
    "    return tmp\n",
    "\n",
    "# 필요한 노드 수\n",
    "N = 10\n",
    "# 최대힙\n",
    "h = [0]*(N+1)\n",
    "# 힙의 마지막 노드 번호\n",
    "last = 0\n",
    "\n",
    "enq(2)\n",
    "enq(5)\n",
    "enq(3)\n",
    "enq(6)\n",
    "enq(4)\n",
    "print(h)\n",
    "while last > 0:\n",
    "    print(deq())"
   ]
  }
 ],
 "metadata": {
  "language_info": {
   "name": "python"
  }
 },
 "nbformat": 4,
 "nbformat_minor": 2
}
