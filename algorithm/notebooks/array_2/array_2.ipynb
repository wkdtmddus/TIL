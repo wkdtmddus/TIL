{
 "cells": [
  {
   "cell_type": "markdown",
   "metadata": {},
   "source": [
    "### 2차원 배열\n",
    "##### 2차원 배열의 선언\n",
    "- 1차원 List를 묶어놓은 List\n",
    "- 2차원 이상의 다차원 List는 차원에 따라 Index를 선언\n",
    "- 2차원 List의 선언: 세로길이(행의 개수), 가로길이(열의 개수)를 필요로 함\n",
    "- Python에서는 데이터 초기화를 통해 변수선언과 초기화가 가능함\n",
    "- 2행 4열의 2차원 List  \n",
    "`arr = [[0, 1, 2, 3], [4, 5, 6, 7]]`"
   ]
  },
  {
   "cell_type": "code",
   "execution_count": null,
   "metadata": {
    "vscode": {
     "languageId": "plaintext"
    }
   },
   "outputs": [],
   "source": [
    "# 참고\n",
    "\n",
    "'''\n",
    "3\n",
    "1 2 3\n",
    "4 5 6\n",
    "7 8 9\n",
    "'''\n",
    "\n",
    "N = int(input)\n",
    "arr = [list(map(int, input().split())) for _ in range(N)]\n",
    "\n",
    "'''\n",
    "3\n",
    "123\n",
    "456\n",
    "789\n",
    "'''\n",
    "\n",
    "N = int(input)\n",
    "arr = [list(map(int, input())) for _ in range(N)]"
   ]
  },
  {
   "cell_type": "markdown",
   "metadata": {},
   "source": [
    "##### 배열 순회\n",
    "- n * m 배열의 모든 원소를 빠짐없이 조사하는 방법\n",
    "\n",
    "##### 행 우선 순회"
   ]
  },
  {
   "cell_type": "code",
   "execution_count": null,
   "metadata": {
    "vscode": {
     "languageId": "plaintext"
    }
   },
   "outputs": [],
   "source": [
    "# i 행의 좌표\n",
    "# j 열의 좌표\n",
    "\n",
    "for i in range(n):\n",
    "    for j in range(m):\n",
    "        f(array[i][j])"
   ]
  },
  {
   "cell_type": "markdown",
   "metadata": {},
   "source": [
    "##### 열 우선 순회"
   ]
  },
  {
   "cell_type": "code",
   "execution_count": null,
   "metadata": {
    "vscode": {
     "languageId": "plaintext"
    }
   },
   "outputs": [],
   "source": [
    "# i 행의 좌표\n",
    "# j 열의 좌표\n",
    "\n",
    "for j in range(m):\n",
    "    for i in range(n):\n",
    "        f(array[i][j])"
   ]
  },
  {
   "cell_type": "markdown",
   "metadata": {},
   "source": [
    "##### 지그재그 순회"
   ]
  },
  {
   "cell_type": "code",
   "execution_count": null,
   "metadata": {
    "vscode": {
     "languageId": "plaintext"
    }
   },
   "outputs": [],
   "source": [
    "# i 행의 좌표\n",
    "# j 열의 좌표\n",
    "\n",
    "for i in range(n):\n",
    "    for j in range(m):\n",
    "        f(array[i][j + (m-1-2*j) * (i%2)])"
   ]
  },
  {
   "cell_type": "markdown",
   "metadata": {},
   "source": [
    "##### 델타를 이용한 2차 배열 탐색\n",
    "- 2차 배열의 한 좌표에서 4방향의 인접 배열 요소를 탐색하는 방법\n",
    "- 인덱스 (i, j)인 칸의 상하좌우 칸 (ni, nj)"
   ]
  },
  {
   "cell_type": "code",
   "execution_count": null,
   "metadata": {
    "vscode": {
     "languageId": "plaintext"
    }
   },
   "outputs": [],
   "source": [
    "# N * N 배열\n",
    "arr[0...N-1][0...N-1]\n",
    "\n",
    "# 방향별로 더할 값\n",
    "di[] <- [0, 1, 0, -1]\n",
    "dj[] <- [1, 0, -1, 0]\n",
    "\n",
    "for i: 0 -> N-1\n",
    "    for j: 0 -> N-1\n",
    "        for k in range(4):\n",
    "            ni <- i + di[k]\n",
    "            nj <- j + dj[k]\n",
    "\n",
    "            # 유효한 인덱스면\n",
    "            if 0 <= ni < N and 0 <= nj < ni:\n",
    "                f(arr[ni][nj])"
   ]
  },
  {
   "cell_type": "markdown",
   "metadata": {},
   "source": [
    "##### 전치 행렬"
   ]
  },
  {
   "cell_type": "code",
   "execution_count": null,
   "metadata": {
    "vscode": {
     "languageId": "plaintext"
    }
   },
   "outputs": [],
   "source": [
    "# i: 행의 좌표, len(arr)\n",
    "# j: 열의 좌표, len(arr[0])\n",
    "\n",
    "# 3 * 3 행렬\n",
    "arr = [[1, 2, 3], [4, 5, 6], [7, 8, 9]]\n",
    "\n",
    "for i in range(3):\n",
    "    for j in range(3):\n",
    "        if i < j:\n",
    "            arr[i][j], arr[j][i] = arr[j][i], arr[i][j]"
   ]
  },
  {
   "cell_type": "markdown",
   "metadata": {},
   "source": [
    "### 부분집합 합(Subser Sum) 문제\n",
    "##### 유한 개의 정수로 이루어진 집합이 있을 때, 이 집합의 부분집합 중에서 그 집합의 원소를 모두 더한 값이 0이 되는 경우가 있는지를 알아내는 문제\n",
    "##### 예를 들어, [-7, -3, -2, 5, 8]이라는 집합이 있을 때, [-3, -2, 5]는 이 집합의 부분집합이면서 (-3) + (-2) + 5 = 0 이므로 이 경우의 답은 참이 된다."
   ]
  },
  {
   "cell_type": "markdown",
   "metadata": {},
   "source": [
    "### 부분집합 생성하기\n",
    "##### 완전 검색 기법으로 부분집합 합 문제를 풀기 위해서는, 우선 집합의 모든 부분집합을 생성한 후에 각 부분집합의 합을 계산해야 한다.\n",
    "##### 주어진 집합의 부분집합을 생성하는 방법에 대해서 생각해보자."
   ]
  },
  {
   "cell_type": "markdown",
   "metadata": {},
   "source": [
    "##### 부분집합의 수\n",
    "- 집합의 원소가 n개일 때, 공집합을 포함한 부분집합의 수는 2**n개이다.\n",
    "- 이는 각 원소를 부분집합에 포함시키거나 포함시키지 않는 2가지 경우를 모든 원소에 적용한 경우의 수와 같다.\n",
    "- 예: {1, 2, 3, 4} -> `2 * 2 * 2 * 2 = 16 가지`"
   ]
  },
  {
   "cell_type": "markdown",
   "metadata": {},
   "source": [
    "##### 각 원소가 부분집합에 포함되었는지 loop를 이용하여 확인하고 부분집합을 생성하는 방법"
   ]
  },
  {
   "cell_type": "code",
   "execution_count": null,
   "metadata": {
    "vscode": {
     "languageId": "plaintext"
    }
   },
   "outputs": [],
   "source": [
    "bit = [0, 0, 0, 0]\n",
    "\n",
    "for i in range(2):\n",
    "    # 0번 원소\n",
    "    bit[0] = i\n",
    "\n",
    "    for j in range(2):\n",
    "    # 1번 원소\n",
    "    bit[1] = j\n",
    "\n",
    "        for k in range(2):\n",
    "            # 2번 원소\n",
    "            bit[2] = k\n",
    "\n",
    "            for l in range(2):\n",
    "            # 3번 원소\n",
    "            bit[3] = l\n",
    "\n",
    "            # 생성된 부분집합 출력\n",
    "            print_subset(bit)"
   ]
  },
  {
   "cell_type": "markdown",
   "metadata": {},
   "source": [
    "### 비트 연산자\n",
    "##### 비트 연산자\n",
    "`&` 비트 단위로 AND 연산을 한다.  \n",
    "`|` 비트 단위로 OR 연산을 한다.  \n",
    "`<<` 피연산자의 비트 열을 왼쪽으로 이동시킨다.  \n",
    "`>>` 피연산자의 비트 열을 오른쪽으로 이동시킨다.  \n",
    "##### << 연산자\n",
    "- 1 << n: 2**n 즉, 원소가 n개일 경우의 모든 부분집합의 수를 의미한다.\n",
    "##### & 연산자\n",
    "- i & (1 << j): i의 j번째 비트가 1인지 아닌지를 검사한다."
   ]
  },
  {
   "cell_type": "markdown",
   "metadata": {},
   "source": [
    "##### 보다 간결하게 부분집합을 생성하는 방법"
   ]
  },
  {
   "cell_type": "code",
   "execution_count": null,
   "metadata": {
    "vscode": {
     "languageId": "plaintext"
    }
   },
   "outputs": [],
   "source": [
    "arr = [3, 6, 7, 1, 5 , 4]\n",
    "\n",
    "# n: 원소의 개수\n",
    "n = len(arr)\n",
    "\n",
    "for i in range(1 << n):             # 1 << n: 부분집합의 개수\n",
    "    for j in range(n):              # 원소의 수 만큼 비트를 비교함\n",
    "        if i & (1 << j):            # i의 j번 비트가 1인 경우\n",
    "            print(arr[j], end=', ') # j번 원소 출력\n",
    "    print()\n",
    "print()"
   ]
  },
  {
   "cell_type": "markdown",
   "metadata": {},
   "source": [
    "### 검색(Search)\n",
    "##### 저장되어 있는 자료 중에서 원하는 항목을 찾는 작업\n",
    "##### 목적하는 탐색 키를 가진 항목을 찾는 것\n",
    "- 탐색 키(search key): 자료를 구별하여 인식할 수 있는 키\n",
    "##### 검색의 종류\n",
    "- 순차 검색(sequential search)\n",
    "- 이진 검색(binary search)\n",
    "- 해쉬(hash)"
   ]
  },
  {
   "cell_type": "markdown",
   "metadata": {},
   "source": [
    "### 순차 검색(Sequential Search)\n",
    "##### 일렬로 되어 있는 자료를 순서대로 검색하는 방법\n",
    "- 가장 간단하고 직관적인 검색 방법\n",
    "- 배열이나 연결 리스트 등 순차구조로 구현된 자료구조에서 원하는 항목을 찾을 때 유용함\n",
    "- 알고리즘이 단순하여 구현이 쉽지만, 검색 대상의 수가 많은 경우에는 수행시간이 급격히 증가하여 비효율적임\n",
    "##### 2가지 경우\n",
    "- 정렬되어 있지 않은 경우\n",
    "- 정렬되어 있는 경우"
   ]
  },
  {
   "cell_type": "markdown",
   "metadata": {},
   "source": [
    "### 정렬되어 있지 않은 경우\n",
    "##### 검색 과정\n",
    "- 첫 번째 원소부터 순서대로 검색 대상과 키 값이 같은 원소가 있는지 비교하며 찾는다.\n",
    "- 키 값이 동일한 원소를 찾으면 그 원소의 인덱스를 반환한다.\n",
    "- 자료구조의 마지막에 이를 때까지 검색 대상을 찾지 못하면 검색 실패"
   ]
  },
  {
   "cell_type": "markdown",
   "metadata": {},
   "source": [
    "##### 찾고자 하는 원소의 순서에 따라 비교 횟수가 결정됨\n",
    "- 첫 번째 원소를 찾을 때는 1번 비교, 두 번째 원소를 찾을 때는 2번 비교\n",
    "- 정렬되지 않은 자료에서의 순차 검색의 평균 비교 횟수  \n",
    "= (1/n) * (1 + 2 + 3 + ... + n) = (n+1)/2\n",
    "- 시간 복잡도: O(n)\n",
    "##### 구현 예"
   ]
  },
  {
   "cell_type": "code",
   "execution_count": null,
   "metadata": {
    "vscode": {
     "languageId": "plaintext"
    }
   },
   "outputs": [],
   "source": [
    "def sequential_search(a, n, key):\n",
    "    i <- 0\n",
    "    while i < n and a[i] != key:\n",
    "        i <- i + 1\n",
    "    if i < n: return i\n",
    "    else: return -1"
   ]
  },
  {
   "cell_type": "markdown",
   "metadata": {},
   "source": [
    "### 정렬되어 있는 경우\n",
    "##### 검색 과정\n",
    "- 자료가 오름차순으로 정렬된 상태에서 검색을 실시한다고 가정하자.\n",
    "- 자료를 순차적으로 검색하면서 키 값을 비교하여, 원소의 키 값이 검색 대상의 키 값보다 크면 찾는 원소가 없다는 것이므로 더 이상 검색하지 않고 검색을 종료한다."
   ]
  },
  {
   "cell_type": "markdown",
   "metadata": {},
   "source": [
    "##### 찾고자 하는 원소의 순서에 따라 비교 횟수가 결정됨\n",
    "- 정렬이 되어있으므로, 검색 실패를 반환하는 경우 평균 비교 횟수가 반으로 줄어든다.\n",
    "- 시간 복잡도: O(n)\n",
    "##### 구현 예"
   ]
  },
  {
   "cell_type": "code",
   "execution_count": null,
   "metadata": {
    "vscode": {
     "languageId": "plaintext"
    }
   },
   "outputs": [],
   "source": [
    "def sequential_search2(a, n, key):\n",
    "    i <- 0\n",
    "    while i < n and a[i] < key:\n",
    "        i <- i + 1\n",
    "    if i < n and a[i] == key:\n",
    "        return i\n",
    "    else:\n",
    "        return -1"
   ]
  },
  {
   "cell_type": "markdown",
   "metadata": {},
   "source": [
    "### 이진 검색(Binary Search)\n",
    "##### 자료의 가운데에 있는 항목의 키 값과 비교하여 다음 검색의 위치를 결정하고 검색을 계속 진행하는 방법\n",
    "- 목적 키를 찾을 때까지 이진 검색을 순환적으로 반복 수행함으로써 검색 범위를 반으로 줄여가면서 보다 빠르게 검색을 수행함\n",
    "##### 이진 검색을 하기 위해서는 자료가 정렬된 상태여야 한다."
   ]
  },
  {
   "cell_type": "markdown",
   "metadata": {},
   "source": [
    "##### 검색 과정\n",
    "- 자료의 중앙에 있는 원소를 고른다.\n",
    "- 중앙 원소의 값과 찾고자 하는 목표 값을 비교한다.\n",
    "- 목표 값이 중앙 원소의 값보다 작으면 자료의 왼쪽 반에 대해서 새로 검색을 수행하고, 크다면 자료의 오른쪽 반에 대해서 새로 검색을 수행한다.\n",
    "- 찾고자 하는 값을 찾을 때까지 위의 과정을 반복한다."
   ]
  },
  {
   "cell_type": "markdown",
   "metadata": {},
   "source": [
    "##### 구현\n",
    "- 검색 범위의 시작점과 종료점을 이용하여 검색을 반복 수행한다.\n",
    "- 이진 검색의 경우, 자료에 삽입이나 삭제가 발생했을 때 배열의 상태를 항상 정렬 상태로 유지하는 추가 작업이 필요하다."
   ]
  },
  {
   "cell_type": "code",
   "execution_count": null,
   "metadata": {
    "vscode": {
     "languageId": "plaintext"
    }
   },
   "outputs": [],
   "source": [
    "def binarySearch(a, N, key):\n",
    "    start = 0\n",
    "    end = N-1\n",
    "    while start <= end:\n",
    "        middle = (start + end) // 2\n",
    "\n",
    "        # 검색 성공\n",
    "        if a[middle] == key:\n",
    "            return True\n",
    "        elif a[middle] > key:\n",
    "            end = middle - 1\n",
    "        else:\n",
    "            start = middle + 1\n",
    "\n",
    "    # 검색 실패\n",
    "    return False"
   ]
  },
  {
   "cell_type": "markdown",
   "metadata": {},
   "source": [
    "##### 재귀 함수 이용\n",
    "- 아래와 같이 재귀 함수를 이용하여 이진 검색을 구현할 수도 있다.\n",
    "- 재귀 함수에 대해서는 나중에 더 자세히 배우도록 한다."
   ]
  },
  {
   "cell_type": "code",
   "execution_count": null,
   "metadata": {
    "vscode": {
     "languageId": "plaintext"
    }
   },
   "outputs": [],
   "source": [
    "def binarySearch(a, low, high, key):\n",
    "    \n",
    "    # 검색 실패\n",
    "    if low > high:\n",
    "        return False\n",
    "    else:\n",
    "        middle = (low + high) // 2\n",
    "\n",
    "        # 검색 성공\n",
    "        if key == a[middle]:\n",
    "            return True\n",
    "        elif key < a[middle]:\n",
    "            return binarySearch(a, low, middle-1, key)\n",
    "        elif a[middle] < key:\n",
    "            return binarySearch(a, middle+1, high, key)"
   ]
  },
  {
   "cell_type": "markdown",
   "metadata": {},
   "source": [
    "### 인덱스\n",
    "##### 인덱스라는 용어는 Databases에서 유래했으며, 테이블에 대한 동작 속도를 높여주는 자료 구조를 일컫는다. Database 분야가 아닌 곳에서는 Look up table 등의 용어를 사용하기도 한다.\n",
    "##### 인덱스를 저장하는데 필요한 디스크 공간은 보통 테이블을 저장하는데 필요한 디스크 공간보다 작다. 왜냐하면 보통 인데스는 키-필드만 갖고있고, 테이블의 다른 세부 항목들은 갖고 있지 않기 때문이다.\n",
    "##### 배열을 사용한 인덱스\n",
    "- 대량의 데이터를 매번 정렬하면, 프로그램의 반응은 느려질 수 밖에 없다. 이러한 대량 데이터의 성능 저하 문제를 해결하기 위해 배열 인덱스를 사용할 수 있다.\n",
    "- 원본 데이터에 데이터가 삽입될 경우 상대적으로 크기가 작은 인덱스 배열을 정렬하기 때문에 속도가 빠르다."
   ]
  },
  {
   "cell_type": "markdown",
   "metadata": {},
   "source": [
    "### 선택 정렬(Selection Sort)\n",
    "##### 포켓볼 순서대로 정렬하기\n",
    "- 흩어진 당구공을 오른쪽 정리한다고 하자.\n",
    "- 많은 사람들은 당구대 위에 있는 공 중 가장 작은 숫자의 공부터 골라서 차례대로 정리할 것이다. 이것이 선택 정렬이다."
   ]
  },
  {
   "cell_type": "markdown",
   "metadata": {},
   "source": [
    "##### 주어진 자료들 중 가장 작은 값의 원소부터 차례대로 선택하여 위치를 교환하는 방식\n",
    "- 앞서 살펴본 셀렉션 알고리즘을 전체 자료에 적용한 것이다.\n",
    "##### 정렬 과정\n",
    "- 주어진 리스트 중에서 최소값을 찾는다.\n",
    "- 그 값을 리스트의 맨 앞에 위치한 값과 교환한다.\n",
    "- 맨 처음 위치를 제외한 나머지 리스트를 대상으로 위의 과정을 반복한다.\n",
    "##### 시간 복잡도\n",
    "- O(n**2)"
   ]
  },
  {
   "cell_type": "markdown",
   "metadata": {},
   "source": [
    "##### 알고리즘"
   ]
  },
  {
   "cell_type": "code",
   "execution_count": null,
   "metadata": {
    "vscode": {
     "languageId": "plaintext"
    }
   },
   "outputs": [],
   "source": [
    "def selectionSort(a, N):\n",
    "    for i in range(N-1):\n",
    "        min_idx = i\n",
    "        for j in range(i+1, N):\n",
    "            if a[min_idx] > a[j]:\n",
    "                min_idx = j\n",
    "        a[i], a[min_idx] = a[min_idx], a[i]"
   ]
  },
  {
   "cell_type": "markdown",
   "metadata": {},
   "source": [
    "##### 저장되어 있는 자료로부터 k번째로 큰 혹은 작은 원소를 찾는 방법을 셀렉션 알고리즘이라 한다.\n",
    "- 최소값, 최대값 혹은 중간값을 찾는 알고리즘을 의미하기도 한다.\n",
    "##### 선택 과정\n",
    "- 셀렉션은 아래와 같은 과정을 통해 이루어진다.\n",
    "    - 정렬 알고리즘을 이용하여 자료 정렬하기\n",
    "    - 원하는 순서에 있는 원소 가져오기"
   ]
  },
  {
   "cell_type": "markdown",
   "metadata": {},
   "source": [
    "##### 아래는 k번째로 작은 원소를 찾는 알고리즘\n",
    "- 1번부터 k번째까지 작은 원소들을 찾아 배열의 앞쪽으로 이동시키고, 배열의 k번째를 반환한다.\n",
    "- k가 비교적 작을 때 유용하며 O(kn)의 수행시간을 필요로 한다."
   ]
  },
  {
   "cell_type": "code",
   "execution_count": null,
   "metadata": {
    "vscode": {
     "languageId": "plaintext"
    }
   },
   "outputs": [],
   "source": [
    "def select(arr, k):\n",
    "    for i in range(0, k):\n",
    "        min_idx = i\n",
    "        for j in range(i+1, len(arr)):\n",
    "            if a[min_idx] > a[j]:\n",
    "                min_idx = j\n",
    "        a[i], a[min_idx] = a[min_idx], a[i]\n",
    "    return arr[k-1]"
   ]
  }
 ],
 "metadata": {
  "language_info": {
   "name": "python"
  }
 },
 "nbformat": 4,
 "nbformat_minor": 2
}
