{
 "cells": [
  {
   "cell_type": "markdown",
   "metadata": {},
   "source": [
    "### 학습목표\n",
    "##### 재귀적 알고리즘의 특성을 이해하고 이를 구현하기 위한 재귀호출에 대해 학습한다.\n",
    "##### 완전탐색의 개념을 이해하고 완전탐색을 통한 문제 해결 방법에 대해 학습한다."
   ]
  },
  {
   "cell_type": "markdown",
   "metadata": {},
   "source": [
    "### 반복(Iteration)과 재귀(Recursion)\n",
    "##### 반복과 재귀는 유사한 작업을 수행할 수 있다.\n",
    "##### 반복은 수행하는 작업이 완료될 때까지 계속 반복\n",
    "- 루프(for, while 구조)\n",
    "- `반복문은 코드를 n번 반복시킬 수 있다.`\n",
    "##### 재귀는 주어진 문재의 해를 구하기 위해 동일하면서 더 작은 문제의 해를 이용하는 방법\n",
    "- 하나의 큰 문제를 해결할 수 있는(해결하기 쉬운) 더 작은 문제로 쪼개고 결과들을 결합한다.\n",
    "- `재귀호출은 n중 반복문을 만들어낼 수 있다.`"
   ]
  },
  {
   "cell_type": "markdown",
   "metadata": {},
   "source": [
    "##### 아래처럼, 11 ~ 33까지 출력하는 프로그램을 작성하시오."
   ]
  },
  {
   "cell_type": "code",
   "execution_count": null,
   "metadata": {},
   "outputs": [],
   "source": [
    "11\n",
    "12\n",
    "13\n",
    "21\n",
    "22\n",
    "23\n",
    "31\n",
    "32\n",
    "33"
   ]
  },
  {
   "cell_type": "markdown",
   "metadata": {},
   "source": [
    "##### 정답 소스코드\n",
    "- 2중 for문을 이용하여 구현할 수 있다."
   ]
  },
  {
   "cell_type": "code",
   "execution_count": null,
   "metadata": {},
   "outputs": [],
   "source": [
    "for a in range(1, 4):\n",
    "    for b in range(1, 4):\n",
    "        print(a, b)"
   ]
  },
  {
   "cell_type": "markdown",
   "metadata": {},
   "source": [
    "##### 반복문으로는 n번 반복을 구현할 수 있고, 재귀호출로 n중 for문을 구현할 수 있다.\n",
    "- N 입력 후 111 ~ 333을 출력하는 문제는 for문으로 구현이 어렵다.\n",
    "- 아래처럼 재귀호출로 구현할 수 있다."
   ]
  },
  {
   "cell_type": "code",
   "execution_count": null,
   "metadata": {},
   "outputs": [],
   "source": [
    "path = []\n",
    "N = 3\n",
    "\n",
    "def run(lev):\n",
    "    if lev == N:\n",
    "        print(path)\n",
    "        return\n",
    "    \n",
    "    for i in range(1, 4):\n",
    "        path.append(i)\n",
    "        run(lev+1)\n",
    "        path.pop()\n",
    "\n",
    "run(0)"
   ]
  },
  {
   "cell_type": "markdown",
   "metadata": {},
   "source": [
    "##### 재귀를 연습하기 전, 알아야 할 함수의 특징1\n",
    "- 함수를 호출할 때, int 타입 객체를 전달하면 `값만 복사`가 된다."
   ]
  },
  {
   "cell_type": "markdown",
   "metadata": {},
   "source": [
    "##### 재귀를 연습하기 전, 알아야 할 함수의 특징2\n",
    "- 함수가 끝나면, main으로 되돌아 오는 것이 아니라, `해당 함수를 호출했던 곳으로 돌아온다.`"
   ]
  },
  {
   "cell_type": "markdown",
   "metadata": {},
   "source": [
    "##### 재귀호출 공부의 시작은, 무한 재귀호출을 막는 것 부터 시작한다.\n",
    "- `기저조건(base case)`를 작성하여 함수를 끝낸다."
   ]
  },
  {
   "cell_type": "markdown",
   "metadata": {},
   "source": [
    "##### 깊이를 Level이라고 부를 수 있다. 가지 수는 Branch라고 할 수 있다.\n",
    "- `Level은 3, Branch는 4인` 코드를 아래와 같이 for문으로 표현할 수 있다."
   ]
  },
  {
   "cell_type": "code",
   "execution_count": null,
   "metadata": {},
   "outputs": [],
   "source": [
    "def run(x):\n",
    "    if x == 3:\n",
    "        return\n",
    "    \n",
    "    for i in range(4):\n",
    "        run(x+1)\n",
    "\n",
    "run(0)"
   ]
  },
  {
   "cell_type": "markdown",
   "metadata": {},
   "source": [
    "##### 재귀호출을 이용한 코딩 기법을 익히기 위해서는, 먼저 위 코드의 원리를 이해해야 한다.\n",
    "##### 여기까지 지식으로 순열을 학습할 준비를 마쳤다."
   ]
  },
  {
   "cell_type": "markdown",
   "metadata": {},
   "source": [
    "### 순열(Permutation)\n",
    "##### 순열이란?\n",
    "- 서로 다른 N개에서, R개를 중복없이, 순서를 고려하여 나열하는 것\n",
    "- 예시\n",
    "    - 0, 1, 2로 구성된 3장의 카드가 다량으로 존재한다.\n",
    "    - 이 중에 2장을 뽑아, 순열을 나열하라.\n",
    "    - `순열은 중복을 취급하지 않는다.`"
   ]
  },
  {
   "cell_type": "code",
   "execution_count": null,
   "metadata": {},
   "outputs": [],
   "source": [
    "[0, 1]\n",
    "[0, 2]\n",
    "[1, 0]\n",
    "[1, 2]\n",
    "[2, 0]\n",
    "[2, 1]"
   ]
  },
  {
   "cell_type": "markdown",
   "metadata": {},
   "source": [
    "##### 중복순열이란?\n",
    "- 서로 다른 N개에서, R개를 `중복을 허용하고`, 순서를 고려하여 나열하는 것\n",
    "- 예시\n",
    "    - 0, 1, 2로 구성된 3장의 카드가 다량으로 존재한다.\n",
    "    - 이 중에 2장을 뽑아, 중복순열을 나열하라."
   ]
  },
  {
   "cell_type": "code",
   "execution_count": null,
   "metadata": {},
   "outputs": [],
   "source": [
    "[0, 0]\n",
    "[0, 1]\n",
    "[0, 2]\n",
    "[1, 0]\n",
    "[1, 1]\n",
    "[1, 2]\n",
    "[2, 0]\n",
    "[2, 1]\n",
    "[2, 2]"
   ]
  },
  {
   "cell_type": "markdown",
   "metadata": {},
   "source": [
    "##### 중복순열 구현 원리\n",
    "1) 재귀호출을 할 때마다, 이동 경로를 흔적으로 남긴다.\n",
    "2) 가장 마지막 레벨에 도착했을 때, 이동 경로를 출력한다."
   ]
  },
  {
   "cell_type": "markdown",
   "metadata": {},
   "source": [
    "##### 먼저 path라는 전역 리스트를 준비한다.\n",
    "##### 그리고 Level 2, Branch 3으로 동작되는 재귀코드를 구현한다."
   ]
  },
  {
   "cell_type": "code",
   "execution_count": null,
   "metadata": {},
   "outputs": [],
   "source": [
    "path = []\n",
    "\n",
    "def run(x):\n",
    "    if x == 2:\n",
    "        return\n",
    "    \n",
    "    for i in range(3):\n",
    "        run(x+1)\n",
    "\n",
    "run(0)"
   ]
  },
  {
   "cell_type": "markdown",
   "metadata": {},
   "source": [
    "##### `재귀호출을 하기 직전에` 이동할 곳의 위치를 path 리스트에 기록한다."
   ]
  },
  {
   "cell_type": "code",
   "execution_count": null,
   "metadata": {},
   "outputs": [],
   "source": [
    "path = []\n",
    "\n",
    "def run(x):\n",
    "    if x == 2:\n",
    "        return\n",
    "    \n",
    "    for i in range(3):\n",
    "        path.append(i)  # 추가\n",
    "        run(x+1)\n",
    "\n",
    "run(0)"
   ]
  },
  {
   "cell_type": "markdown",
   "metadata": {},
   "source": [
    "##### 바닥에 도착하면 출력하는 코드를 작성한다"
   ]
  },
  {
   "cell_type": "code",
   "execution_count": null,
   "metadata": {},
   "outputs": [],
   "source": [
    "path = []\n",
    "\n",
    "def run(x):\n",
    "    if x == 2:\n",
    "        print(path) # 추가\n",
    "        return\n",
    "    \n",
    "    for i in range(3):\n",
    "        path.append(i)\n",
    "        run(x+1)\n",
    "\n",
    "run(0)"
   ]
  },
  {
   "cell_type": "markdown",
   "metadata": {},
   "source": [
    "##### 함수가 리턴되고, 되돌아오면 기록을 삭제한다."
   ]
  },
  {
   "cell_type": "code",
   "execution_count": null,
   "metadata": {},
   "outputs": [],
   "source": [
    "path = []\n",
    "\n",
    "def run(x):\n",
    "    if x == 2:\n",
    "        print(path)\n",
    "        return\n",
    "    \n",
    "    for i in range(3):\n",
    "        path.append(i)\n",
    "        run(x+1)\n",
    "        path.pop()  # 추가\n",
    "\n",
    "run(0)"
   ]
  },
  {
   "cell_type": "markdown",
   "metadata": {},
   "source": [
    "##### 중복을 취급하지 않는 `순열` 구현 방법\n",
    "1) 중복순열 코드를 작성한다.\n",
    "2) `중복을 제거하는 코드`를 추가하면 순열 코드가 된다.\n",
    "##### 중복을 제거하는 원리\n",
    "- `전역 리스트`를 사용하면 이미 선택했던 숫자인지 아닌지 구분을 할 수 있다.\n",
    "- 이를 used 배열 또는 visited 배열이라고 한다.(DFS, BFS에 사용되는 것과 같다.)"
   ]
  },
  {
   "cell_type": "markdown",
   "metadata": {},
   "source": [
    "##### 순열 구현하기1\n",
    "##### `이미 사용을 한 숫자인지 아닌지 구분하는 코드`\n",
    "##### 만약 이미 사용한 숫자일 경우, 재귀호출을 생략하는 코드를 추가\n"
   ]
  },
  {
   "cell_type": "code",
   "execution_count": null,
   "metadata": {},
   "outputs": [],
   "source": [
    "path = []\n",
    "used = [False, False, False]    # 추가\n",
    "\n",
    "def run(x):\n",
    "    if x == 2:\n",
    "        print(path)\n",
    "        return\n",
    "    \n",
    "    for i in range(3):\n",
    "        if used[i] == True: continue    # 추가\n",
    "        path.append(i)\n",
    "        run(x+1)\n",
    "        path.pop()\n",
    "\n",
    "run(0)"
   ]
  },
  {
   "cell_type": "markdown",
   "metadata": {},
   "source": [
    "##### 순열 구현하기2\n",
    "##### 처음 사용하는 숫자라면 `used에 기록을 한다.`\n",
    "##### 그리고 모든 처리가 끝나고 돌아왔다면, `used의 기록을 지운다.`"
   ]
  },
  {
   "cell_type": "code",
   "execution_count": null,
   "metadata": {},
   "outputs": [],
   "source": [
    "path = []\n",
    "used = [False, False, False]\n",
    "\n",
    "def run(x):\n",
    "    if x == 2:\n",
    "        print(path)\n",
    "        return\n",
    "    \n",
    "    for i in range(3):\n",
    "        if used[i] == True: continue\n",
    "        used[i] = True  # 추가\n",
    "        path.append(i)\n",
    "        run(x+1)\n",
    "        path.pop()\n",
    "        used[i] = False # 추가\n",
    "\n",
    "run(0)"
   ]
  },
  {
   "cell_type": "markdown",
   "metadata": {},
   "source": [
    "### 완전탐색\n",
    "##### 완전탐색(Brute-Force)\n",
    "- 모든 가능한 경우를 시도를 하여, 정답을 찾아내는 알고리즘\n",
    "##### 완전탐색 예시\n",
    "- 자전거 열쇠 비밀번호 맞추기\n",
    "    - 만약 1111 ~ 9999 네 자리 숫자를 맞춰야 한다면?  \n",
    "        솔루션 -> 4중 for문으로 모두 시도한다.\n",
    "    - 만약 1 ~ 9까지 이뤄진 N자리의 숫자를 맞춰야 한다면?  \n",
    "        솔루션 -> 순열코드(재귀호출)로 구현하여 모두 시도한다."
   ]
  },
  {
   "cell_type": "markdown",
   "metadata": {},
   "source": [
    "##### 이번 챕터의 목표\n",
    "- 완전탐색 세 문제를 통해 재귀호출을 이용한 완전탐색 구현 방법에 대해 학습한다.\n",
    "    1) 주사위 눈금의 합\n",
    "    2) 연속 3장의 트럼프 카드"
   ]
  },
  {
   "cell_type": "markdown",
   "metadata": {},
   "source": [
    "##### 완전탐색 문제1\n",
    "##### 주사위 눈금의 합\n",
    "- 3개의 주사위를 던져 나올 수 있는 모든 경우에 대해, 합이 10 이하가 나오는 경우는 총 몇 가지 인가?"
   ]
  },
  {
   "cell_type": "markdown",
   "metadata": {},
   "source": [
    "##### 먼저 합을 출력하는 코드를 작성한다.\n",
    "- 재귀호출을 할 때마다 선택한 값의 `누적합`을 구한다."
   ]
  },
  {
   "cell_type": "markdown",
   "metadata": {},
   "source": [
    "##### 파라미터에 sum을 추가하여 구현한다.\n",
    "- sum = 지금까지 구한 합\n",
    "- i = 선택한 주사위 눈금\n",
    "- 재귀호출을 할 때 `sum + i` 값을 전달한다."
   ]
  },
  {
   "cell_type": "code",
   "execution_count": null,
   "metadata": {},
   "outputs": [],
   "source": [
    "path = []\n",
    "\n",
    "def run(x, sum):\n",
    "    if x == 3:\n",
    "        print(f'{path} = {sum}')\n",
    "        return\n",
    "\n",
    "    for i in range(1, 7):\n",
    "        path.append(i)\n",
    "        run(x+1, sum+i)\n",
    "        path.pop()\n",
    "\n",
    "run(0, 0)"
   ]
  },
  {
   "cell_type": "markdown",
   "metadata": {},
   "source": [
    "##### sum이 10 이하일 때만 출력\n",
    "- 실제로는 모두 탐색하지만, 출력만 하지 않는 방법"
   ]
  },
  {
   "cell_type": "code",
   "execution_count": null,
   "metadata": {},
   "outputs": [],
   "source": [
    "path = []\n",
    "\n",
    "def run(x, sum):\n",
    "    if x == 3:\n",
    "        if sum <= 10:   # 추가\n",
    "            print(f'{path} = {sum}')\n",
    "        return\n",
    "\n",
    "    for i in range(1, 7):\n",
    "        path.append(i)\n",
    "        run(x+1, sum+i)\n",
    "        path.pop()\n",
    "\n",
    "run(0, 0)"
   ]
  },
  {
   "cell_type": "markdown",
   "metadata": {},
   "source": [
    "##### 위 코드는 모든 방법에 대해 탐색을 하고, 합이 10이 넘어가는 수는 출력만 생략하는 방법\n",
    "##### `재귀호출 중간에 sum이 10을 넘으면,` 재귀호출을 할 필요가 없다."
   ]
  },
  {
   "cell_type": "markdown",
   "metadata": {},
   "source": [
    "##### 가지치기\n",
    "- 답이 아닌 것에 대해 즉시 되돌아 간다.\n",
    "- 누적합이 10이 넘어가는 순간, 더 탐색할 필요가 없어 return(빠른 성능)"
   ]
  },
  {
   "cell_type": "code",
   "execution_count": null,
   "metadata": {},
   "outputs": [],
   "source": [
    "path = []\n",
    "\n",
    "def run(x, sum):\n",
    "    if sum > 10:    # 추가\n",
    "        return\n",
    "    if x == 3:\n",
    "        print(f'{path} = {sum}')\n",
    "        return\n",
    "\n",
    "    for i in range(1, 7):\n",
    "        path.append(i)\n",
    "        run(x+1, sum+i)\n",
    "        path.pop()\n",
    "\n",
    "run(0, 0)"
   ]
  },
  {
   "cell_type": "markdown",
   "metadata": {},
   "source": [
    "##### 완성된 코드\n",
    "##### 합이 10 이하가 되는 경우의 수를 구하는 코드\n",
    "- 합이 10 이하일 때를 찾을 때마다, cnt += 1을 수행\n",
    "- cnt 값이 정답이 된다."
   ]
  },
  {
   "cell_type": "code",
   "execution_count": null,
   "metadata": {},
   "outputs": [],
   "source": [
    "path = []\n",
    "cnt = 0 # 추가\n",
    "\n",
    "def run(x, sum):\n",
    "    global cnt  # 추가\n",
    "    if sum > 10:\n",
    "        return\n",
    "    if x == 3:\n",
    "        cnt += 1    # 추가\n",
    "        return\n",
    "\n",
    "    for i in range(1, 7):\n",
    "        path.append(i)\n",
    "        run(x+1, sum+i)\n",
    "        path.pop()\n",
    "\n",
    "run(0, 0)\n",
    "print(cnt)  # 추가"
   ]
  },
  {
   "cell_type": "markdown",
   "metadata": {},
   "source": [
    "##### 완전탐색 문제2\n",
    "##### 연속 3장의 트럼프 카드\n",
    "##### A, J, Q, K 네 종류의 카드들이 다량으로 쌓여져 있다. 이 중, 5장의 카드를 뽑아서 나열하고자 한다. 같은 종류의 카드가 `세 장 연속`으로 나오는 경우의 수를 구하여라."
   ]
  },
  {
   "cell_type": "markdown",
   "metadata": {},
   "source": [
    "##### 모든 경우에 대해 다 시도해보자.\n",
    "1) 순열코드를 작성한다.\n",
    "    -`먼저 [A, J, Q, K] 카드에 대해 [AAAAA ~ KKKKK]까지 출력해보자.`\n",
    "2) 같은 종류의 연속 세 장이 나왔다면 counting 한다."
   ]
  },
  {
   "cell_type": "markdown",
   "metadata": {},
   "source": [
    "##### 순열코드 작성하기\n",
    "- Branch는 4개, Level은 5개까지 탐색한다."
   ]
  },
  {
   "cell_type": "code",
   "execution_count": null,
   "metadata": {},
   "outputs": [],
   "source": [
    "card = ['A', 'J', 'Q', 'K']\n",
    "path = []\n",
    "\n",
    "def run(lev):\n",
    "    if lev == 5:\n",
    "        print(path)\n",
    "        return\n",
    "    \n",
    "    for i in range(4):\n",
    "        path.append(card[i])\n",
    "        run(lev+1)\n",
    "        path.pop()\n",
    "\n",
    "run(0)"
   ]
  },
  {
   "cell_type": "markdown",
   "metadata": {},
   "source": [
    "##### 같은 카드가 연속 세 장인지 검사하는 코드\n",
    "- check()\n",
    "    - 연속 세 장이 있으면 True를 리턴\n",
    "    - 아니면 False를 리턴"
   ]
  },
  {
   "cell_type": "code",
   "execution_count": null,
   "metadata": {},
   "outputs": [],
   "source": [
    "def check():\n",
    "    if path[0] == path[1] == path[2]: return True\n",
    "    if path[1] == path[2] == path[3]: return True\n",
    "    if path[2] == path[3] == path[4]: return True\n",
    "    return False"
   ]
  },
  {
   "cell_type": "markdown",
   "metadata": {},
   "source": [
    "##### 정답코드"
   ]
  },
  {
   "cell_type": "code",
   "execution_count": null,
   "metadata": {},
   "outputs": [],
   "source": [
    "card = ['A', 'J', 'Q', 'K']\n",
    "path = []\n",
    "cnt = 0 # 추가\n",
    "\n",
    "def check():    # 추가\n",
    "    if path[0] == path[1] == path[2]: return True\n",
    "    if path[1] == path[2] == path[3]: return True\n",
    "    if path[2] == path[3] == path[4]: return True\n",
    "    return False\n",
    "\n",
    "def run(lev):\n",
    "    global cnt  # 추가\n",
    "    if lev == 5:\n",
    "        if check(): cnt += 1    # 추가\n",
    "        return\n",
    "    \n",
    "    for i in range(4):\n",
    "        path.append(card[i])\n",
    "        run(lev+1)\n",
    "        path.pop()\n",
    "\n",
    "run(0)\n",
    "print(cnt)  # 추가"
   ]
  }
 ],
 "metadata": {
  "language_info": {
   "name": "python"
  }
 },
 "nbformat": 4,
 "nbformat_minor": 2
}
