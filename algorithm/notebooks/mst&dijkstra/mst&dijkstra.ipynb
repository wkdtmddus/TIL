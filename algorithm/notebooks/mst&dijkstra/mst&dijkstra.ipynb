{
 "cells": [
  {
   "cell_type": "markdown",
   "metadata": {},
   "source": [
    "### 최소 신장 트리(MST)\n",
    "##### 그래프에서 최소 비용 문제\n",
    "1. 모든 정점을 연결하는 간선들의 가중치의 합이 최소가 되는 트리\n",
    "2. 두 정점 사이의 최소 비용의 경로 찾기\n",
    "##### 신장 트리\n",
    "- n개의 정점으로 이루어진 무방향 그래프에서 n개의 정점과 n-1개의 간선으로 이루어진 트리\n",
    "##### 최소 신장 트리(Minimum Spanning Tree)\n",
    "- 무방향 가중치 그래프에서 신장 트리를 구성하는 간선들의 가중치의 합이 최소인 신장 트리"
   ]
  },
  {
   "cell_type": "markdown",
   "metadata": {},
   "source": [
    "### MST 구현 방법\n",
    "##### 아래 두 가지 알고리즘을 활용한다.\n",
    "1. Prim 알고리즘\n",
    "2. Kruskal 알고리즘"
   ]
  },
  {
   "cell_type": "markdown",
   "metadata": {},
   "source": [
    "### Prim 알고리즘\n",
    "##### 하나의 정점에서 연결된 간선들 중에 하나씩 선택하면서 MST를 만들어 가는 방식\n",
    "1. 임의 정점을 하나 선택해서 시작\n",
    "2. 선택한 정점과 인접하는 정점들 중의 최소 비용의 간선이 존재하는 정점을 선택\n",
    "3. 모든 정점이 선택될 때까지 1, 2 과정을 반복\n",
    "##### 서로소인 2개의 집합(2 disjoint-sets) 정보를 유지\n",
    "- 트리 정점들(tree vertices): MST를 만들기 위해 선택된 정점들\n",
    "- 비트리 정점들(nontree vertices): 선택되지 않은 정점들"
   ]
  },
  {
   "cell_type": "code",
   "execution_count": null,
   "metadata": {},
   "outputs": [],
   "source": [
    "'''\n",
    "MST_PRIM(G, r)         // G: 그래프, r: 시작 정점\n",
    "    FOR u in G.V\n",
    "        u.key <- 무한   // u.key: u에 연결된 간선중 최소 가중치\n",
    "        u.p <- NULL    // u.p: 트리에서 u의 부모\n",
    "    r.key <- 0\n",
    "    Q <- G.V           // 우선순위 Q에 모든 정점을 넣는다.\n",
    "    WHILE Q != 0       // 빈 Q가 아닐동안 반복\n",
    "        u <- Extract_MIN(Q)     // key값이 가장 작은 정점 가져오기\n",
    "        FOR v in G.adj[u]       // u의 인접 정점들\n",
    "            IF v가 Q에 포함 AND w(u, v) < v.key     // Q에 있는 v의 key값 갱신\n",
    "                v.p <- u\n",
    "                v.key <- w(u.v)\n",
    "'''"
   ]
  },
  {
   "cell_type": "markdown",
   "metadata": {},
   "source": [
    "### Kruskal 알고리즘\n",
    "##### 간선을 하나씩 선택해서 MST를 찾는 알고리즘\n",
    "1. 최초, 모든 간선을 가중치에 따라 `오름차순`으로 정렬\n",
    "2. 가중치가 가장 낮은 간선부터 선택하면서 트리를 증가시킴\n",
    "   - 사이클이 존재하면 다음으로 가중치가 낮은 간선 선택\n",
    "3. n-1개의 간선이 선택될 때까지 2를 반복"
   ]
  },
  {
   "cell_type": "code",
   "execution_count": null,
   "metadata": {},
   "outputs": [],
   "source": [
    "'''\n",
    "MST_KRUSKAL(G, w)\n",
    "    A <-    // 0: 공집합\n",
    "    FOR vertex v in G.V     // G.V: 그래프의 정점 집합\n",
    "        Make_Set(v)         // G.E: 그래프의 간선 집합\n",
    "    \n",
    "    G.E에 포함된 간선들을 가중치 w에 의해 정렬\n",
    "\n",
    "    FOR 가중치가 가장 낮은 간선 (u, v) 포함 G.E 선택(n-1개)\n",
    "        IF Find_Set(u) != Find_Set(v)\n",
    "            A <- A 합집합 {(u, v)}\n",
    "            Union(u, v)\n",
    "    \n",
    "    RETURN A\n",
    "'''"
   ]
  },
  {
   "cell_type": "markdown",
   "metadata": {},
   "source": [
    "### 최단경로(Dijkstra)\n",
    "##### 최단경로 정의\n",
    "- 간선의 가중치가 있는 그래프에서 두 정점 사이의 경로들 중에 간선의 가중치의 합이 최소인 경로\n",
    "##### 하나의 시작 정점에서 끝 정점까지의 최단경로\n",
    "- 다익스트라(dijkstra) 알고리즘\n",
    "  - 음의 가중치를 허용하지 않음\n",
    "- 벨만-포드(Bellman-Ford) 알고리즘\n",
    "  - 음의 가중치 허용\n",
    "##### 모든 정점들에 대한 최단 경로\n",
    "- 플로이드-워샬(Floyd-Warshall) 알고리즘"
   ]
  },
  {
   "cell_type": "markdown",
   "metadata": {},
   "source": [
    "### Dijkstra 알고리즘\n",
    "##### 시작정점에서 거리가 최소인 정점을 선택해 나가면서 최단경로를 구하는 방식이다.\n",
    "##### 시작정점(s)에서 끝정점(t)까지의 최단경로에 정점x가 존재한다.\n",
    "##### 이때, 최단경로는 s에서 x까지의 최단경로와 x에서 t까지의 최단경로로 구성된다.\n",
    "##### 탐욕기법을 사용한 알고리즘으로 MST의 프림 알고리즘과 유사하다."
   ]
  },
  {
   "cell_type": "code",
   "execution_count": null,
   "metadata": {},
   "outputs": [],
   "source": [
    "'''\n",
    "s: 시작 정점, A: 인접행렬, D: 거리\n",
    "V: 정점 집합, U: 선택된 정점 집합\n",
    "\n",
    "Dijkstra(s, A, D)\n",
    "    U = {s}\n",
    "\n",
    "    FOR 모든 정점 v\n",
    "    D[v] <- A[s][v]\n",
    "\n",
    "    WHILE U!= V\n",
    "        D[w]가 최소인 정점 w 포함 V-U를 선택\n",
    "        U <- U 합집합 {w}\n",
    "\n",
    "        FOR w에 인접한 모든 정점 v\n",
    "            D[v] <- min(D[v], D[w], + A[w][v])\n",
    "'''"
   ]
  }
 ],
 "metadata": {
  "language_info": {
   "name": "python"
  }
 },
 "nbformat": 4,
 "nbformat_minor": 2
}
