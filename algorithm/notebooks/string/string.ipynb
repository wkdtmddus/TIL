{
 "cells": [
  {
   "cell_type": "markdown",
   "metadata": {},
   "source": [
    "### 문자의 표현\n",
    "##### 컴퓨터에서의 문자 표현\n",
    "- 글자 A를 메모리에 저장하는 방법에 대해서 생각해보자\n",
    "- 물론 칼로 A라는 글자를 새기는 방식은 아닐 것이다. 메모리는 숫자만을 저장할 수 있기 때문에 A라는 글자의 모양 그대로 비트맵으로 저장하는 방법을 사용하지 않는 한(이 방법은 메모리 낭비가 심하다) 각 문자에 대해서 대응되는 숫자를 정해 놓고 이것을 메모리에 저장하는 방법이 사용될 것이다.\n",
    "- 영어가 대소문자를 합쳐서 52이므로 6(64가지)비트면 모두 표현할 수 있다. 이를 코드체계라고 한다.  \n",
    "`000000 -> 'a', 000001 -> 'b'`"
   ]
  },
  {
   "cell_type": "markdown",
   "metadata": {},
   "source": [
    "##### 그런데 네트워크가 발전되기 전 미국의 각 지역 별로 코드체계를 정해놓고 사용했지만\n",
    "##### 네트워크(인터넷: 인터넷은 미국에서 발전했다)가 발전하면서 서로간에 정보를 주고 받을 때 정보를 달리 해석한다는 문제가 생겼다."
   ]
  },
  {
   "cell_type": "markdown",
   "metadata": {},
   "source": [
    "##### 그래서 혼동을 피하기 위해 표준안을 만들기로 했다.\n",
    "##### 바로 이러한 목적으로 1967년, 미국에서 ASCII(American Standard Code for Information interchange)라는 문자 인코딩 표준이 제정되었다.\n",
    "##### ASCII는 7bit 인코딩으로 128문자를 표현하며 33개의 출력 불가능한 제어 문자들과 공백을 비롯한 95개의 출력 가능한 문자들로 이루어져있다."
   ]
  },
  {
   "cell_type": "markdown",
   "metadata": {},
   "source": [
    "##### 확장 아스키는 표준 문자 이외의 악센트 문자, 도형 문자, 특수 문자, 특수 기호 등 부가적인 문자를 128개 추가할 수 있게 하는 부호이다.\n",
    "- 표준 아스키는 7bit를 사용하여 문자를 표현하는 데 비해 확장 아스키는 1Byte내의 8bit를 모두 사용함으로써 추가적인 문자를 표현할 수 있다.\n",
    "- 컴퓨터 생산자와 소프트웨어 개발자가 여러 가지 다양한 문자에 할당할 수 있도록 하고 있다. 이렇게 할당된 확장 부호는 표준 아스키와 같이 서로 다른 프로그램이나 컴퓨터 사이에 교환되지 못한다.\n",
    "- 그러므로 표준 아스키는 마이크로컴퓨터 하드웨어 및 소프트웨어 사이에서 세계적으로 툥용되는 데 비해, 확장 아스키는 프로그램이나 컴퓨터 또는 프린터가 그것을 해독할 수 있도록 설계되어 있어야만 올바르게 해독될 수 있다."
   ]
  },
  {
   "cell_type": "markdown",
   "metadata": {},
   "source": [
    "##### 오늘날 대부분의 컴퓨터는 문자를 읽고 쓰는 데 ASCII형식을 사용한다.\n",
    "##### 그런데 컴퓨터가 발전하면서 미국 뿐 아니라 각 나라에서도 컴퓨터가 발전했으며 각 국가들은 자국의 문자를 표현하기 위하여 코드체계를 만들어서 사용하게 되었다.\n",
    "- 우리나라도 한글 코드체계를 만들어 사용했고 조합형, 완성형 두 종류를 가지고 있었다."
   ]
  },
  {
   "cell_type": "markdown",
   "metadata": {},
   "source": [
    "##### 인터넷이 전 세계로 발전하면서 ASCII를 만들었을 때의 문제와 같은 문제가 국가간에 정보를 주고 받을 때 발생했다.\n",
    "##### 자국의 코드체계를 타 국가가 가지고 있지 않으면 정보를 잘못 해석 할 수 밖에 없었다.\n",
    "##### 그래서 다국어 처리를 위해 표준을 마련했다. 이를 유니코드라고 한다."
   ]
  },
  {
   "cell_type": "markdown",
   "metadata": {},
   "source": [
    "##### 유니코드도 다시 Character Set으로 분류된다.\n",
    "- UCS-2(Universal Charater Set 2)\n",
    "- UCS-4(Universal Charater Set 4)\n",
    "- 유니코드를 저장하는 변수의 크기를 정의\n",
    "- 그러나, 바이트 순서에 대해서 표준화하지 못했다.\n",
    "- 다시 말해 파일을 인식 시 이 파일이 UCS-2, UCS-4인지 인식하고 각 경우를 구분해서 모두 다르게 구현해야 하는 문제 발생\n",
    "- 그래서 유니코드의 적당한 외부 인코딩이 필요하게 되었다."
   ]
  },
  {
   "cell_type": "markdown",
   "metadata": {},
   "source": [
    "##### 유니코드 인코딩(UTF: Unicode Transformation Format)\n",
    "- UTF-8(in web)\n",
    "    - MIN: 8bit, MAX: 32bit(1Byte * 4)\n",
    "- UTF-16(in windows, java)\n",
    "    - MIN: 16bit, MAX: 32bit(2Byte * 2)\n",
    "- UTF-32(in unix)\n",
    "    - MIN: 32bit, MAX: 32bit(4Byte * 1)"
   ]
  },
  {
   "cell_type": "markdown",
   "metadata": {},
   "source": [
    "##### Python 인코딩\n",
    "- 2.x 버전: ASCII -> #-*-coding: utf-8-*-(첫 줄에 명시)\n",
    "- 3.x 버전: 유니코드 UTF-8 -> 생략 가능\n",
    "- 다른 인코딩 방식으로 처리 시 첫 줄에 작성하는 위 항목에 원하는 인코딩 방식을 지정해주면 됨"
   ]
  },
  {
   "cell_type": "markdown",
   "metadata": {},
   "source": [
    "### 문자열\n",
    "##### 문자열의 분류\n",
    "- 문자열(string)\n",
    "    - fixed length\n",
    "    - variable length\n",
    "        - length controlled(java언어에서의 문자열)\n",
    "        - delimited(c언어에서의 문자열)"
   ]
  },
  {
   "cell_type": "markdown",
   "metadata": {},
   "source": [
    "##### java에서 String 클래스에 대한 메모리 배치\n",
    "- java.lang.String 클래스에는 기본적인 객체 메타 데이터 외에도 네가지 필드들이 포함되어 있는데, hash값(hash), 문자열의 길이(count), 문자열 데이터의 시작점(offset), 그리고 실제 문자열 배열에 대한 참조(value)이다."
   ]
  },
  {
   "cell_type": "markdown",
   "metadata": {},
   "source": [
    "##### C언어에서 문자열 처리\n",
    "- 문자열은 문자들의 배열 형태로 구현된 응용 자료형\n",
    "- 문자배열에서 문자열을 저장할 때는 항상 마지막에 끝을 표시하는 널문자('\\0')를 넣어줘야 한다.  \n",
    "`char ary={'a','b','c','\\0'};` 또는 `char ary[]=\"abc\";`\n",
    "- 문자열 처리에 필요한 연산을 함수 형태로 제공한다.  \n",
    "`strlen(), strcpu(), strcmp(), ...`"
   ]
  },
  {
   "cell_type": "markdown",
   "metadata": {},
   "source": [
    "##### Java(객체지향 언어)에서의 문자열 처리\n",
    "- 문자열 데이터를 저장, 처리해주는 클래스를 제공한다.\n",
    "- String 클래스를 사용한다.  \n",
    "`String str=\"abc\";` 또는 `String str = new String(\"abc\")`\n",
    "- 문자열 처리에 필요한 연산을 연산자, 메소드 형태로 제공한다.  \n",
    "`+, length(), replace(), split(), substring(), ...`  \n",
    "보다 풍부한 연산을 제공한다"
   ]
  },
  {
   "cell_type": "markdown",
   "metadata": {},
   "source": [
    "##### Python에서의 문자열 처리\n",
    "- char 타입 없음\n",
    "- 텍스트 데이터의 취급방법이 통일되어 있음\n",
    "- 문자열 기호  \n",
    "    - `'(홑따옴표), \"(쌍따옴표), '''(홑따옴표 3개), \"\"\"(쌍따옴표 3개)`  \n",
    "    - `+` 연결(Concatenation)\n",
    "        - 문자열 + 문자열: 이어 붙여주는 역할  \n",
    "    - `*` 반복\n",
    "        - 문자열 * 수: 수만큼 문자열이 반복"
   ]
  },
  {
   "cell_type": "markdown",
   "metadata": {},
   "source": [
    "##### Python에서의 문자열 처리\n",
    "- 문자열은 시퀀스 자료형으로 분류되고, 시퀀스 자료형에서 사용할 수 있는 인덱싱, 슬라이싱 연산들을 사용할 수 있음\n",
    "- 문자열 클래스에서 제공되는 메소드  \n",
    "`replace(), split(), isalpha(), find()`\n",
    "- 문자열은 튜플과 같이 요소값을 변경 할 수 없음(immutable)"
   ]
  },
  {
   "cell_type": "markdown",
   "metadata": {},
   "source": [
    "##### C와 Java의 String 처리의 기본적인 차이점\n",
    "- c는 아스키 코드로 저장한다.\n",
    "- java는 유니코드(UTF16, 2byte)로 저장한다.\n",
    "- 파이썬은 유니코드(UTF8)로 저장한다."
   ]
  },
  {
   "cell_type": "markdown",
   "metadata": {},
   "source": [
    "### 문자열 뒤집기\n",
    "##### 자기 문자열에서 뒤집는 방법이 있고 새로운 빈 문자열을 만들어 소스의 뒤에서부터 읽어서 타겟에 쓰는 방법이 있다.\n",
    "##### 자기 문자열을 이용할 경우는 swap을 위한 임시 변수가 필요하며 반복 수행을 문자열 길이의 반만을 수행해야 한다."
   ]
  },
  {
   "cell_type": "markdown",
   "metadata": {},
   "source": [
    "##### Python에서 문자열 뒤집기"
   ]
  },
  {
   "cell_type": "code",
   "execution_count": null,
   "metadata": {
    "vscode": {
     "languageId": "plaintext"
    }
   },
   "outputs": [],
   "source": [
    "# 'sgnirts siht esreveR'\n",
    "s = 'Reverse this strings'\n",
    "s = s[::-1]"
   ]
  },
  {
   "cell_type": "code",
   "execution_count": null,
   "metadata": {
    "vscode": {
     "languageId": "plaintext"
    }
   },
   "outputs": [],
   "source": [
    "s = 'abcd'\n",
    "s = list(s)\n",
    "s.reverse()\n",
    "s = ''.join(s)"
   ]
  },
  {
   "cell_type": "markdown",
   "metadata": {},
   "source": [
    "### 문자열 비교\n",
    "##### C에서는 strcmp() 함수를 제공한다.\n",
    "##### Java에서는 equals() 메소드를 제공한다.\n",
    "- 문자열 비교에서 == 연산은 메모리 참조가 같은지를 묻는 것\n",
    "##### Python에서는 == 연산자와 is 연산자를 제공한다.\n",
    "- == 연산자는 내부적으로 특수 메서드 `__eq__()`를 호출"
   ]
  },
  {
   "cell_type": "markdown",
   "metadata": {},
   "source": [
    "### 문자열 숫자를 정수로 변환하기\n",
    "##### C에서는 atoi() 함수를 제공한다. 역함수로는 itoa()가 있다.\n",
    "##### Java에서는 숫자 클래스의 parse 메소드를 제공한다.\n",
    "- 예: Integer.parseInt(String)\n",
    "- 역함수로는 toString() 메소드를 제공한다.\n",
    "##### Python에서는 숫자와 문자변환 함수를 제공한다.\n",
    "- 예: int('123'), float('3.14'), str(123), repr(123)"
   ]
  },
  {
   "cell_type": "markdown",
   "metadata": {},
   "source": [
    "##### int()와 같은 atoi() 함수 만들기"
   ]
  },
  {
   "cell_type": "code",
   "execution_count": null,
   "metadata": {
    "vscode": {
     "languageId": "plaintext"
    }
   },
   "outputs": [],
   "source": [
    "def atoi(s):\n",
    "    i = 0\n",
    "    for x in s:\n",
    "        i = i*10 + ord(x)-ord('0')\n",
    "    return i\n",
    "\n",
    "s = '123'\n",
    "a = atoi(s)\n",
    "print(a + 1)"
   ]
  },
  {
   "cell_type": "markdown",
   "metadata": {},
   "source": [
    "### 패턴 매칭\n",
    "##### 패턴 매칭에 사용되는 알고리즘들\n",
    "- 고지식한 패턴 검색 알고리즘\n",
    "- 카프-라빈 알고리즘\n",
    "- KMP 알고리즘\n",
    "- 보이어-무어 알고리즘"
   ]
  },
  {
   "cell_type": "markdown",
   "metadata": {},
   "source": [
    "##### 고지식한 알고리즘(Brute Force)\n",
    "- 본문 문자열을 처음부터 끝까지 차례대로 순회하면서 패턴 내의 문자들을 일일이 비교하는 방식으로 동작"
   ]
  },
  {
   "cell_type": "code",
   "execution_count": null,
   "metadata": {
    "vscode": {
     "languageId": "plaintext"
    }
   },
   "outputs": [],
   "source": [
    "# 찾을 패턴\n",
    "p = 'is'\n",
    "\n",
    "# 전체 텍스트\n",
    "t = 'This is a book~!'\n",
    "\n",
    "# 찾을 패턴의 길이\n",
    "M = len(p)\n",
    "\n",
    "#전체 텍스트의 길이\n",
    "N = len(t)\n",
    "\n",
    "def BruteForce(p, t):\n",
    "    \n",
    "    # t의 인덱스\n",
    "    i = 0\n",
    "\n",
    "    # p의 인덱스\n",
    "    j = 0\n",
    "\n",
    "    while j < M and i < N:\n",
    "        if t[i] != p[j]:\n",
    "            i = i - j\n",
    "            j = -1\n",
    "        i = i + 1\n",
    "        j = j + 1\n",
    "\n",
    "    # 검색 성공\n",
    "    if j == M: return i - M\n",
    "    else: return -1"
   ]
  },
  {
   "cell_type": "markdown",
   "metadata": {},
   "source": [
    "##### 고지식한 패턴 검색 알고리즘의 시간 복잡도\n",
    "- 최악의 경우 시간 복잡도는 텍스트의 모든 위치에서 패턴을 비교해야 하므로 O(MN)이 됨\n",
    "- 길이가 10000인 문자열에서 길이 80인 패턴을 찾는다고 할 때, 최악의 경우 약 10,000 * 80 = 800,000번의 비교가 일어난다.\n",
    "- 비교 횟수를 줄일 수 있는 방법은?"
   ]
  },
  {
   "cell_type": "markdown",
   "metadata": {},
   "source": [
    "### KMP 알고리즘\n",
    "##### 불일치가 발생한 텍스트 스트링의 앞 부분에 어떤 문자가 있는지를 미리 알고 있으므로, 불일치가 발생한 앞 부분에 대하여 다시 비교하지 않고 매칭을 수행\n",
    "##### 패턴을 전처리하여 배열 next[M]을 구해서 잘못된 시작을 최소화함\n",
    "- next[M]: 불일치가 발생했을 경우 이동할 다음 위치\n",
    "##### 시간 복잡도\n",
    "- O(M + N)"
   ]
  },
  {
   "cell_type": "markdown",
   "metadata": {},
   "source": [
    "### 보이어-무어 알고리즘\n",
    "##### 오른쪽에서 왼쪽으로 비교\n",
    "##### 대부분의 상용 소프트웨어에서 채택하고 있는 알고리즘\n",
    "##### 패턴의 오른쪽 끝에 있는 문자가 불일치 하고 이 문자가 패턴 내에 존재하지 않는 경우, 이동 거리는 무려 패턴의 길이만큼이 된다."
   ]
  },
  {
   "cell_type": "markdown",
   "metadata": {},
   "source": [
    "##### 문자열 매칭 알고리즘 비교\n",
    "- 찾고자 하는 문자열 패턴의 길이 m, 총 문자열 길이 n\n",
    "- 고지식한 패턴 검색 알고리즘: 수행시간 O(mn)\n",
    "- 카프-라빈 알고리즘: 수행시간 O(theta)(n)\n",
    "- KMP 알고리즘: 수행시간 O(theta)(n)"
   ]
  },
  {
   "cell_type": "markdown",
   "metadata": {},
   "source": [
    "##### 보이어-무어 알고리즘\n",
    "- 앞의 두 매칭 알고리즘들의 공통점 텍스트 문자열의 문자를 적어도 한 번씩 훑는다는 것이다. 따라서 최선의 경우에도 O(omega)(n)\n",
    "- 텍스트 문자를 다 보지 않아도 된다.\n",
    "- 발상의 전환: 패턴의 오른쪽부터 비교한다.\n",
    "- 최악의 경우 수행시간: O(theta)(mn)\n",
    "- 입력에 따라 다르지만 일반적으로 O(theta)(n)보다 시간이 덜 든다."
   ]
  },
  {
   "cell_type": "markdown",
   "metadata": {},
   "source": [
    "##### 시저 암호(Caesar cipher)\n",
    "- 줄리어스 시저가 사용했다고 하는 암호이다.\n",
    "- 시저는 기원전 100년경에 로마에서 활약했던 장군이었다.\n",
    "- 시저 암호에서는 평문에서 사용되고 있는 알파벳을 일정한 문자 수만큼 `평행이동` 시킴으로써 암호화를 행한다."
   ]
  }
 ],
 "metadata": {
  "language_info": {
   "name": "python"
  }
 },
 "nbformat": 4,
 "nbformat_minor": 2
}
