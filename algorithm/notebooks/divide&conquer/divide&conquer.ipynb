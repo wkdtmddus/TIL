{
 "cells": [
  {
   "cell_type": "markdown",
   "metadata": {},
   "source": [
    "### 학습 목표\n",
    "##### 문제를 분할해서 해결하는 분할 정복(Divide and Conquer) 기법을 이해한다.\n",
    "##### 대표적인 알고리즘인 퀵 정렬과 병합 정렬에 대해 학습한다."
   ]
  },
  {
   "cell_type": "markdown",
   "metadata": {},
   "source": [
    "### 분할 정복 기법\n",
    "##### 유래\n",
    "- 1805년 12월 2일 아우스터리츠 전투에서 나폴레옹이 사용한 전략\n",
    "- 전력이 우세한 연합군을 공격하기 위해 나폴레옹은 연합군의 중앙부로 쳐들어가 연합군을 둘로 나눔.\n",
    "- 둘로 나뉜 연합군을 한 부분씩 격파함.\n",
    "##### 설계 전략\n",
    "- 분할(Divide): 해결할 문제를 여러 개의 작은 부분으로 나눈다.\n",
    "- 정복(Conquer): 나눈 작은 문제를 각각 해결한다.\n",
    "- 통합(Combine): (필요하다면) 해결된 해답을 모은다."
   ]
  },
  {
   "cell_type": "markdown",
   "metadata": {},
   "source": [
    "### 분할 정복 기법 예시-거듭 제곱\n",
    "##### 반복(Iterative) 알고리즘: O(n)"
   ]
  },
  {
   "cell_type": "code",
   "execution_count": null,
   "metadata": {},
   "outputs": [],
   "source": [
    "'''\n",
    "C^2 = C*C  \n",
    "C^3 = C*C*C  \n",
    "...  \n",
    "C^n = C*C*...*C\n",
    "'''\n",
    "'''\n",
    "Iterative_Power(x, n)\n",
    "    result <- 1\n",
    "\n",
    "    FOR i in 1 -> n\n",
    "        result <- result*x\n",
    "    \n",
    "    RETURN result\n",
    "'''"
   ]
  },
  {
   "cell_type": "markdown",
   "metadata": {},
   "source": [
    "### 거듭 제곱\n",
    "##### 분할 정복 기반의 알고리즘: O(logn)"
   ]
  },
  {
   "cell_type": "code",
   "execution_count": null,
   "metadata": {},
   "outputs": [],
   "source": [
    "'''\n",
    "C^8 = C*C*C*C*C*C*C*C\n",
    "C^8 = C^4*C^4 = (C^4)^2 = ((C^2)^2)^2\n",
    "C^n = C^((n-2)/2)*C^((n-2)/2)*C = (C^((n-2)/2))^2*C\n",
    "\n",
    "n 짝수\n",
    "C^n = C^((n-2)/2)*C^((n-2)/2)\n",
    "n 홀수\n",
    "C^n = C^((n-2)/2)*C^((n-2)/2)*C\n",
    "'''\n",
    "'''\n",
    "Recursive_Power(x, n)\n",
    "    IF n == 1: RETURN x\n",
    "    IF n is even\n",
    "        y <- Recursive_Power(x, n/2)\n",
    "        RETURN y*y\n",
    "    ELSE\n",
    "        y <- Recursive_Power(x, (n-1)/2)\n",
    "        RETURN y*y*x\n",
    "'''"
   ]
  },
  {
   "cell_type": "markdown",
   "metadata": {},
   "source": [
    "### 병합 정렬(Merge Sort)\n",
    "##### 여러 개의 정렬된 자료의 집합을 병합하여 한 개의 정렬된 집합으로 만드는 방식\n",
    "##### 분할 정복 알고리즘 활용\n",
    "- 자료를 최소 단위의 문제까지 나눈 후에 차례대로 정렬하여 최종 결과를 얻어냄.\n",
    "- top-down 방식\n",
    "##### 시간복잡도\n",
    "- O(nlogn)"
   ]
  },
  {
   "cell_type": "markdown",
   "metadata": {},
   "source": [
    "##### 병합 정렬 과정\n",
    "- {69, 10, 30, 2, 16, 8, 31, 22}를 병합 정렬하는 과정\n",
    "- 분할 단계: 전체 자료 집합에 대하여, `최소 크기의 부분집하이 될 때까지` 분할 작업을 계속한다."
   ]
  },
  {
   "cell_type": "markdown",
   "metadata": {},
   "source": [
    "- 병합 단계: 2개의 부분집합을 정렬하면서 하나의 집합으로 병합\n",
    "- 8개의 부분집합이 1개로 병합될 때까지 반복함"
   ]
  },
  {
   "cell_type": "markdown",
   "metadata": {},
   "source": [
    "##### 알고리즘: 분할 과정"
   ]
  },
  {
   "cell_type": "code",
   "execution_count": null,
   "metadata": {},
   "outputs": [],
   "source": [
    "'''\n",
    "merge_sort(LIST m)\n",
    "    IF length(m) == 1: RETURN m\n",
    "\n",
    "    LIST left, right\n",
    "    middle <- length(m)/2\n",
    "    FOR x in m before middle\n",
    "        add x to left\n",
    "    FOR x m after or equal middle\n",
    "        add x to right\n",
    "    \n",
    "    left <- mergo_sort(left)\n",
    "    right <- merge_sort(right)\n",
    "\n",
    "    RETURN merge(left, right)\n",
    "'''"
   ]
  },
  {
   "cell_type": "markdown",
   "metadata": {},
   "source": [
    "##### 알고리즘: 병합 과정"
   ]
  },
  {
   "cell_type": "code",
   "execution_count": null,
   "metadata": {},
   "outputs": [],
   "source": [
    "'''\n",
    "merge(LIST left, LIST right)\n",
    "    LIST result\n",
    "\n",
    "    WHILE length(left) > 0 OR length(right) > 0\n",
    "        IF length(left) > 0 AND length(right) > 0\n",
    "            IF first(left) <- first(right)\n",
    "                append popfirst(left) to result\n",
    "            ELSE\n",
    "                append popfirst(right) to result\n",
    "        ELIF length(left) > 0\n",
    "            append popfirst(left) to result\n",
    "        ELIF length(right) > 0\n",
    "            append popfirst(right) to result\n",
    "    RETURN result\n",
    "'''"
   ]
  },
  {
   "cell_type": "markdown",
   "metadata": {},
   "source": [
    "### 퀵 정렬\n",
    "##### 주어진 배열을 두 개로 분할하고, 각각을 정렬한다.\n",
    "- 병합 정렬과 동일?\n",
    "##### 다른 점1: 병합 정렬은 그냥 두 부분으로 나누는 반면에, 퀵 정렬은 분할할 때, `기준 아이템(pivot item) 중심으로 분할`한다.\n",
    "- 기준보다 작은 것은 왼편, 큰 것은 오른편에 위치시킨다.\n",
    "##### 다른 점2: 각 부분 정렬이 끝난 후, 병합 정렬은 \"병합\"이란 후처리 작업이 필요하나, 퀵 정렬은 필요로 하지 않는다."
   ]
  },
  {
   "cell_type": "markdown",
   "metadata": {},
   "source": [
    "##### 알고리즘"
   ]
  },
  {
   "cell_type": "code",
   "execution_count": null,
   "metadata": {},
   "outputs": [],
   "source": [
    "'''\n",
    "quickSort(A[], l, r)\n",
    "    if l < r\n",
    "        s <- partition(a, l, r)\n",
    "        quickSort(A[], l, s-1)\n",
    "        quickSort(A[], s+1, r)\n",
    "'''"
   ]
  },
  {
   "cell_type": "markdown",
   "metadata": {},
   "source": [
    "##### Hoare-Partition 알고리즘"
   ]
  },
  {
   "cell_type": "code",
   "execution_count": null,
   "metadata": {},
   "outputs": [],
   "source": [
    "'''\n",
    "partition(A[], l, r)\n",
    "    p <- A[l]   # p: 피봇 값\n",
    "    i <- l, j <- r\n",
    "    WHILE i <= j\n",
    "        WHILE i <= j and A[i] <= p: i++\n",
    "        WHILE i <= j and A[j] >= p: j--\n",
    "        IF i < j: swap(A[i], A[j])\n",
    "    \n",
    "    swap(A[l], A[j])\n",
    "    RETURN j\n",
    "'''"
   ]
  },
  {
   "cell_type": "markdown",
   "metadata": {},
   "source": [
    "##### 아이디어\n",
    "- P(피봇)값들 보다 큰 값은 오른쪽, 작은 값들은 왼쪽 집합에 위치하도록 한다.\n",
    "- 피봇을 두 집합의 가운데에 위치시킨다."
   ]
  },
  {
   "cell_type": "markdown",
   "metadata": {},
   "source": [
    "##### 피봇 선택\n",
    "- 왼쪽 끝/오른쪽 끝/임의의 세 값 중에 중간 값"
   ]
  },
  {
   "cell_type": "markdown",
   "metadata": {},
   "source": [
    "##### Lomuto partition 알고리즘"
   ]
  },
  {
   "cell_type": "code",
   "execution_count": null,
   "metadata": {},
   "outputs": [],
   "source": [
    "'''\n",
    "partition(A[], p, r)\n",
    "    x <- A[r]\n",
    "    i <- p-1\n",
    "\n",
    "    FOR j in p -> r-1\n",
    "        IF A[j] <= x\n",
    "            i ++, swap(A[i], A[j])\n",
    "    \n",
    "    swap(A[i+1], A[r])\n",
    "    RETURN i+1\n",
    "'''"
   ]
  },
  {
   "cell_type": "markdown",
   "metadata": {},
   "source": [
    "### 이진 검색(Binary Search)\n",
    "##### 자료의 가운데에 있는 항목의 키 값과 비교하여 다음 검색의 위치를 결정하고 검색을 계속 진행하는 방법\n",
    "- 목적 키를 찾을 때까지 이진 검색을 순환적으로 반복 수행함으로써 검색 범위를 반으로 줄여가면서 보다 빠르게 검색을 수행함\n",
    "##### `이진 검색을 하기 위해서는 자료가 정렬된 상태여야 한다.`"
   ]
  },
  {
   "cell_type": "markdown",
   "metadata": {},
   "source": [
    "##### 검색 과정\n",
    "1. 자료의 중앙에 있는 원소를 고른다.\n",
    "2. 중앙 원소의 값과 찾고자 하는 목표 값을 비교한다.\n",
    "3. 목표 값이 중앙 원소의 값보다 작으면 자료의 왼쪽 반에 대해서 새로 검색을 수행하고, 크다면 자료의 오른쪽 반에 대해서 새로 검색을 수행한다.\n",
    "4. 찾고자 하는 값을 찾을 때까지 1~3 과정을 반복한다."
   ]
  },
  {
   "cell_type": "markdown",
   "metadata": {},
   "source": [
    "##### 알고리즘: 반복구조"
   ]
  },
  {
   "cell_type": "code",
   "execution_count": null,
   "metadata": {},
   "outputs": [],
   "source": [
    "'''\n",
    "binarySearch(n, S[], key)\n",
    "    low <- 0\n",
    "    high <- n-1\n",
    "    WHILE low <= high\n",
    "        mid <- low+(high-low)/2\n",
    "\n",
    "        IF S[mid] == key\n",
    "            RETURN mid\n",
    "        ELIF S[mid] > key\n",
    "            high <- mid-1\n",
    "        ELSE\n",
    "            low <- mid+1\n",
    "    RETURN -1\n",
    "'''"
   ]
  },
  {
   "cell_type": "markdown",
   "metadata": {},
   "source": [
    "##### 알고리즘: 재귀구조"
   ]
  },
  {
   "cell_type": "code",
   "execution_count": null,
   "metadata": {},
   "outputs": [],
   "source": [
    "'''\n",
    "binarySearch(a[], low, high, key)\n",
    "    IF low > high\n",
    "        RETURN -1\n",
    "    ELSE\n",
    "        mid <- (low+high)/2\n",
    "        IF key == a[mid]\n",
    "            RETURN mid\n",
    "        ELIF key < a[mid]\n",
    "            RETURN binarySearch(a[], low, mid-1, key)\n",
    "        ELSE\n",
    "            RETURN binarySearch(a[], mid+1, high, key)\n",
    "'''"
   ]
  },
  {
   "cell_type": "markdown",
   "metadata": {},
   "source": [
    "### 분할 정복 알고리즘 정리\n",
    "##### 병합 정렬\n",
    "- 외부 정렬의 기본이 되는 정렬 알고리즘이다.\n",
    "- 멀티코어(Multi-Core) CPU 나 다수의 프로세서에서 정렬 알고리즘을 병렬화하기 위해 병합 정렬 알고리즘이 활용된다.\n",
    "##### 퀵 정렬\n",
    "- 매우 큰 입력 데이터에 대해서 좋은 성능을 보이는 알고리즘이다."
   ]
  },
  {
   "cell_type": "markdown",
   "metadata": {},
   "source": [
    "##### 이진 검색\n",
    "- 정렬된 데이터를 기준으로 특정 값이나 범위를 검색하는 데 사용\n",
    "- 이진 검색을 활용한 심화 학습 키워드: `Lower Bound`, `Upper Bound`\n",
    "  - 정렬된 배열에서 특정 값 이상 또는 이하가 처음으로 나타나는 위치를 찾는 알고리즘\n",
    "  - 특정 데이터의 범위 검색 등에서 활용"
   ]
  }
 ],
 "metadata": {
  "language_info": {
   "name": "python"
  }
 },
 "nbformat": 4,
 "nbformat_minor": 2
}
