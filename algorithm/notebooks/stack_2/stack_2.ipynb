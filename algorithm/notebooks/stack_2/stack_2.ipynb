{
 "cells": [
  {
   "cell_type": "markdown",
   "metadata": {},
   "source": [
    "### 계산기1\n",
    "##### 문자열로 된 계산식이 주어질 때, 스택을 이용하여 이 계산식의 값을 계산할 수 있다.\n",
    "##### 문자열 수식 계산의 일반적 방법\n",
    "- step1. 중위 표기법의 수식을 후위 표기법으로 변경한다.(스택 이용)\n",
    "    - 중위 표기법(infix notation)\n",
    "        - 연산자를 피연산자의 가운데 표기하는 방법  \n",
    "        예: A+B\n",
    "    - 후위 표기법(postfix notation)\n",
    "        - 연산자를 피연산자 뒤에 표기하는 방법  \n",
    "        예: AB+\n",
    "- step2. 후위 표기법의 수식을 스택을 이용하여 계산한다."
   ]
  },
  {
   "cell_type": "markdown",
   "metadata": {},
   "source": [
    "##### step1. 중위 표기식의 후위 표기식 변환 방법1\n",
    "- 수식의 각 연산자에 대해서 우선순위에 따라 괄호를 사용하여 다시 표현한다.\n",
    "- 각 연산자를 그에 대응하는 오른쪽 괄호의 뒤로 이동시킨다.\n",
    "- 괄호를 제거한다.\n",
    "    예: A*B-C/D  \n",
    "    1단계: ((A*B)-(C/D))  \n",
    "    2단계: ((AB)*(CD)/)-  \n",
    "    3단계: AB*CD/-  "
   ]
  },
  {
   "cell_type": "markdown",
   "metadata": {},
   "source": [
    "##### step1. 중위 표기법에서 후위 표기법으로의 변환 알고리즘(스택 이용)2\n",
    "1) 입력 받은 중위 표기식에서 토큰을 읽는다.\n",
    "2) 토큰이 피연산자이면 토큰을 출력한다.\n",
    "3) 토큰이 연산자(괄호포함)일 때, 이 토큰이 스택의 top에 저장되어 있는 연산자보다 우선순위가 높으면 스택에 push하고, 그렇지 않다면 스택 top의 연산자의 우선순위가 토큰의 우선순위보다 작을 때까지 스택에서 pop한 후 토큰의 연산자를 push한다. 만약 top에 연산자가 없으면 push한다."
   ]
  },
  {
   "cell_type": "markdown",
   "metadata": {},
   "source": [
    "4) 토큰이  오른쪽 괄호')'이면 스택 top에 왼쪽 괄호'('가 올 때까지 스택에 pop 연산을 수행하고 pop한 연산자를 출력한다. 왼쪽 괄호를 만나면 pop만 하고 출력하지는 않는다.\n",
    "5) 중위 표기식에 더 읽을 것이 없다면 중지하고, 더 읽을 것이 있다면 1부터 다시 반복한다.\n",
    "6) 스택에 남아 있는 연산자를 모두 pop하여 출력한다.\n",
    "    - 스택 밖의 왼쪽 괄호는 우선 순위가 가장 높으며, 스택 안의 왼쪽 괄호는 우선 순위가 가장 낮다."
   ]
  },
  {
   "cell_type": "markdown",
   "metadata": {},
   "source": [
    "##### step2. 후위 표기법의 수식을 스택을 이용하여 계산\n",
    "1) 피연산자를 만나면 스택에 push한다.\n",
    "2) 연산자를 만나면 필요한 만큼의 피연산자를 스택에서 pop하여 연산하고, 연산 결과를 다시 스택에 psuh한다.\n",
    "3) 수식이 끝나면, 마지막으로 스택을 pop하여 출력한다."
   ]
  },
  {
   "cell_type": "markdown",
   "metadata": {},
   "source": [
    "### 백트래킹\n",
    "##### 백트래킹(Backtracking) 기법은 해를 찾는 도중에 '막히면'(즉, 해가 아니면) 되돌아가서 다시 해를 찾아 가는 기법이다.\n",
    "##### 백트래킹 기법은 최적화(optimization) 문제와 결정(decision) 문제를 해결할 수 있다.\n",
    "##### 결정 문제: 문제의 조건을 만족하는 해가 존재하는지의 여부를 'yes' 또는 'no'가 답하는 문제\n",
    "- 미로 찾기\n",
    "- n-Queen 문제\n",
    "- Map coloring\n",
    "- 부분집합의 합(Subset Sum) 문제 등"
   ]
  },
  {
   "cell_type": "markdown",
   "metadata": {},
   "source": [
    "##### 백트래킹과 깊이우선탐색과의 차이\n",
    "- 어떤 노드에서 출발하는 경로가 해결책으로 이어질 것 같지 않으면 더 이상 그 경로를 따라가지 않음으로써 시도의 횟수를 줄임(prunning 가지치기)\n",
    "- 깊이우선탐색이 모든 경로를 추적하는데 비해 백트래킹은 불필요한 경로를 조기에 차단\n",
    "- 깊이우선탐색을 가하기에는 경우의 수가 너무나 많음. 즉, N! 가지의 경우의 수를 가진 문제에 대해 깊이우선탐색을 가하면 당연히 처리 불가능한 문제\n",
    "- 백트래킹 알고리즘을 적용하면 일반적으로 경우의 수가 줄어들지만 이 역시 최악의 경우에는 여전히 지수함수 시간(Exponential Time)을 요하므로 처리 불가능"
   ]
  },
  {
   "cell_type": "markdown",
   "metadata": {},
   "source": [
    "##### 모든 후보를 검사?\n",
    "- No!\n",
    "##### 백트래킹 기법\n",
    "- 어떤 노드의 유망성을 점검한 후에 유망(promising)하지 않다고 결정되면 그 노드의 부모로 되돌아가(backtracking) 다음 자식 노드로 감\n",
    "- 어떤 노드를 방문하였을 때 그 노드를 포함한 경로가 해답이 될 수 없으면 그 노드는 유망하지 않다고 하며, 반대로 해답의 가능성이 있으면 유망하다고 한다.\n",
    "- 가지치기(pruning): 유망하지 않는 노드가 포함되는 경로는 더 이상 고려하지 않는다."
   ]
  },
  {
   "cell_type": "markdown",
   "metadata": {},
   "source": [
    "##### 백트래킹을 이용한 알고리즘은 다음과 같은 절차로 진행된다.\n",
    "1) 상태 공간 트리의 깊이 우선 검색을 실시한다.\n",
    "2) 각 노드가 유망한지를 점검한다.\n",
    "3) 만일 그 노드가 유망하지 않으면, 그 노드의 부모 노드로 돌아가서 검색을 계속한다."
   ]
  },
  {
   "cell_type": "markdown",
   "metadata": {},
   "source": [
    "##### 일반 백트래킹 알고리즘"
   ]
  },
  {
   "cell_type": "code",
   "execution_count": null,
   "metadata": {
    "vscode": {
     "languageId": "plaintext"
    }
   },
   "outputs": [],
   "source": [
    "def checknode(v):\n",
    "    if promising(v):\n",
    "        if there is a solution at v:\n",
    "            write tje solution\n",
    "        else:\n",
    "            for u in each child of v:\n",
    "                checknode(u)"
   ]
  },
  {
   "cell_type": "markdown",
   "metadata": {},
   "source": [
    "##### 깊이 우선 검색 vs 백트래킹\n",
    "- 순수한 깊이 우선 검색 = 155 노드\n",
    "- 백트래킹 = 27 노드"
   ]
  },
  {
   "cell_type": "markdown",
   "metadata": {},
   "source": [
    "### 부분집합\n",
    "##### 어떤 집합의 공집합과 자기자신을 포함한 모든 부분집합을 powerset이라고 하며 구하고자 하는 어떤 집합의 원소 개수가 n일 경우 부분집합의 개수는 2**n개 이다.\n",
    "##### 백트래킹 기법으로 powerset을 만들어 보자.\n",
    "- 앞에서 설명한 일반적인 백트래킹 접근 방법을 이용한다.\n",
    "- n개의 원소가 들어있는 집합의 2**n개의 부분집합을 만들 때는, true 또는 false값을 가지는 항목들로 구성된 n개의 배열을 만드는 방법을 이용.\n",
    "- 여기서 배열의 i번째 항목은 i번째의 원소가 부분집합의 값인지 아닌지를 나타내느 값이다."
   ]
  },
  {
   "cell_type": "markdown",
   "metadata": {},
   "source": [
    "##### 각 원소가 부분집합에 포함되었는지를 loop를 이용하여 확인하고 부분집합을 생성하는 방법"
   ]
  },
  {
   "cell_type": "code",
   "execution_count": null,
   "metadata": {
    "vscode": {
     "languageId": "plaintext"
    }
   },
   "outputs": [],
   "source": [
    "bit = [0, 0, 0, 0]\n",
    "\n",
    "for i in range(2):\n",
    "    # 0번째 원소\n",
    "    bit[0] = i\n",
    "    \n",
    "    for j in range(2):\n",
    "        # 1번째 원소\n",
    "        bit[1] = j\n",
    "\n",
    "        for k in range(2):\n",
    "            # 2번째 원소\n",
    "            bit[2] = k\n",
    "\n",
    "            for l in range(2):\n",
    "                # 3번째 원소\n",
    "                bit[3] = l\n",
    "\n",
    "                # 생성된 부분집합 출력\n",
    "                print(bit)"
   ]
  },
  {
   "cell_type": "markdown",
   "metadata": {},
   "source": [
    "##### powerset을 구하는 백트래킹 알고리즘"
   ]
  },
  {
   "cell_type": "code",
   "execution_count": null,
   "metadata": {
    "vscode": {
     "languageId": "plaintext"
    }
   },
   "outputs": [],
   "source": [
    "def backtrack(a, k, input):\n",
    "    global MAXCANDIDATES\n",
    "    c = [0] * MAXCANDIDATES\n",
    "\n",
    "    if k == input:\n",
    "        # 답이면 원하는 작업을 한다\n",
    "        process_solution(a, k)\n",
    "    else:\n",
    "        k += 1\n",
    "        ncandidates = construct_candidates(a, k, input, c)\n",
    "\n",
    "        for i in range(ncandidates):\n",
    "            a[k] = c[i]\n",
    "            backtrack(a, k, input)\n",
    "\n",
    "def construct_candidates(a, k, input, c):\n",
    "    c[0] = True\n",
    "    c[1] = False\n",
    "    return 2\n",
    "\n",
    "MAXCANDIDATES = 2\n",
    "NMAX = 4\n",
    "a = [0]*NMAX\n",
    "backtrack(a, 0, 3)"
   ]
  },
  {
   "cell_type": "markdown",
   "metadata": {},
   "source": [
    "### 단순하게 순열을 생성하는 방법\n",
    "#### 예: {1, 2, 3}을 포함하는 모든 순열을 생성하는 함수\n",
    "- 동일한 숫자가 포함되지 않았을 때, 각 자리 수 별로 loop를 이용해 아래와 같이 구현할 수 있다."
   ]
  },
  {
   "cell_type": "code",
   "execution_count": null,
   "metadata": {
    "vscode": {
     "languageId": "plaintext"
    }
   },
   "outputs": [],
   "source": [
    "for i1 in range(1, 4):\n",
    "    for i2 in range(1, 4):\n",
    "        if i2 != i1:\n",
    "            for i3 in range(1, 4):\n",
    "                if i3 != i1 and i3 != i2:\n",
    "                    print(i1, i2, i3)"
   ]
  },
  {
   "cell_type": "markdown",
   "metadata": {},
   "source": [
    "### 순열 구하기\n",
    "##### 백트래킹을 이용하는 순열 구하기\n",
    "- 접근 방법은 앞의 부분집합 구하는 방법과 유사하다."
   ]
  },
  {
   "cell_type": "code",
   "execution_count": null,
   "metadata": {
    "vscode": {
     "languageId": "plaintext"
    }
   },
   "outputs": [],
   "source": [
    "def backtrack(a, k, input):\n",
    "    global MAXCANDIDATES\n",
    "    c = [0]*MAXCANDIDATES\n",
    "\n",
    "    if k == input:\n",
    "        for i in range(1, k+1):\n",
    "            print(a[i], end=' ')\n",
    "        print()\n",
    "    else:\n",
    "        k += 1\n",
    "        ncandidates = construct_candidates(a, k, input, c)\n",
    "        for i in range(ncandidates):\n",
    "            a[k] = c[i]\n",
    "            backtrack(a, k, input)\n",
    "\n",
    "def construct_candidates(a, k, input, c):\n",
    "    in_perm = [False]*NMAX\n",
    "\n",
    "    for i in range(1, k):\n",
    "        in_perm[a[i]] = True\n",
    "\n",
    "    ncandidates = 0\n",
    "\n",
    "    for i in range(1, input+1):\n",
    "        if in_perm[i] == False:\n",
    "            c[ncandidates] = i\n",
    "            ncandidates += 1\n",
    "    return ncandidates"
   ]
  },
  {
   "cell_type": "markdown",
   "metadata": {},
   "source": [
    "### [참고] 부분집합의 합\n",
    "##### A[i]의 원소를 부분집합의 원소로 고려하는 재귀함수(A는 서로 다른 자연수의 집합)"
   ]
  },
  {
   "cell_type": "code",
   "execution_count": null,
   "metadata": {
    "vscode": {
     "languageId": "plaintext"
    }
   },
   "outputs": [],
   "source": [
    "# i-1 원소까지 고려한 합 s, 찾으려는 합 t\n",
    "f(i, N, s, t):\n",
    "    # i-1 원소까지의 합이 찾는 값인 경우\n",
    "    if s == t:\n",
    "        ...\n",
    "    \n",
    "    # 모든 원소에 대한 고려가 끝난 경우\n",
    "    elif i == N:\n",
    "        ...\n",
    "    \n",
    "    # 남은 원소를 고려할 필요가 없는 경우\n",
    "    elif s > t:\n",
    "        ...\n",
    "\n",
    "    # 남은 원소가 있고 s < t인 경우\n",
    "    else:\n",
    "        subset[i] = 1\n",
    "        # i 원소 포함\n",
    "        f(i+1, N, s+A[i], t)\n",
    "\n",
    "        subset[i] = 0\n",
    "        # i 원소 미포함\n",
    "        f(i+1, N, s, t)"
   ]
  },
  {
   "cell_type": "markdown",
   "metadata": {},
   "source": [
    "- 추가 고려 사항\n",
    "    남은 원소의 합을 다 더해도 찾는 값 T 미만인 경우 중단\n",
    "    - 고려한 구간의 합 S  \n",
    "        S > T이면 중단\n",
    "    - 남은 구간의 합 RS  \n",
    "        S + RS < T"
   ]
  },
  {
   "cell_type": "markdown",
   "metadata": {},
   "source": [
    "### [참고] 순열"
   ]
  },
  {
   "cell_type": "code",
   "execution_count": null,
   "metadata": {
    "vscode": {
     "languageId": "plaintext"
    }
   },
   "outputs": [],
   "source": [
    "f(i, N):\n",
    "    # 순열 완성\n",
    "    if i == N:\n",
    "        ...\n",
    "    else\n",
    "        # 가능한 모든 원소에 대해\n",
    "        P[i] 결정\n",
    "        f(i+1, N)\n",
    "        P[i] 복구"
   ]
  },
  {
   "cell_type": "code",
   "execution_count": null,
   "metadata": {
    "vscode": {
     "languageId": "plaintext"
    }
   },
   "outputs": [],
   "source": [
    "f(i, N):\n",
    "    # 순열 완성\n",
    "    if i == N:\n",
    "        ...\n",
    "    else\n",
    "        for j: i-> N-1\n",
    "        P[i] <-> P[j]\n",
    "        f(i+1, N)\n",
    "        P[i] <-> P[j]"
   ]
  },
  {
   "cell_type": "markdown",
   "metadata": {},
   "source": [
    "### 분할 정복 알고리즘\n",
    "##### 유래\n",
    "- 1805년 12월 2일 아우스터리츠 전투에서 나폴레옹이 사용한 전략\n",
    "- 전력이 우세한 연합군을 공격하기 위해 나폴레옹은 연합군의 중앙부로 쳐들어가 연합군을 둘로 나눔\n",
    "- 둘로 나뉜 연합군을 한 부분씩 격파함\n",
    "##### 설계 전략\n",
    "- 분할(Divide): 해결할 문제를 여러 개의 작은 부분으로 나눈다.\n",
    "- 정복(Conquer): 나눈 작은 문제를 각각 해결한다.\n",
    "- 통합(Combine): (필요하다면) 해결된 해답을 모은다."
   ]
  },
  {
   "cell_type": "markdown",
   "metadata": {},
   "source": [
    "### 분할정복 예제\n",
    "##### 거듭 제곱(Exponentiation)"
   ]
  },
  {
   "cell_type": "code",
   "execution_count": null,
   "metadata": {
    "vscode": {
     "languageId": "plaintext"
    }
   },
   "outputs": [],
   "source": [
    "'''\n",
    "O(n)\n",
    "C**2 = C * C  \n",
    "C**3 = C * C * C  \n",
    "...  \n",
    "C**n = C * C * ... * C\n",
    "'''\n",
    "\n",
    "def Power(Base, Exponent):\n",
    "    if Base == 0:\n",
    "        # Base**0은 1이므로\n",
    "        return 1\n",
    "    \n",
    "    for i in range(Exponent):\n",
    "        result *= Base\n",
    "    return result"
   ]
  },
  {
   "cell_type": "markdown",
   "metadata": {},
   "source": [
    "##### 분할 정복 기반의 알고리즘: O(logn) # 밑은 2"
   ]
  },
  {
   "cell_type": "code",
   "execution_count": null,
   "metadata": {
    "vscode": {
     "languageId": "plaintext"
    }
   },
   "outputs": [],
   "source": [
    "C**8 = C * C * C * C * C * C * C * C\n",
    "C**8 = C**4 * C**4 = (C**4)**2 = ((C**2)**2)**2\n",
    "C**n = C**((n-1)/2) * C**((n-1)/2) * C = (C**((n-1)/2))**2 * C\n",
    "\n",
    "# n은 짝수\n",
    "C**n = C**(n/2) * C**(n/2)\n",
    "\n",
    "# n은 홀수\n",
    "C**n = C**((n-1)/2) * C**((n-1)/2) * C"
   ]
  },
  {
   "cell_type": "code",
   "execution_count": null,
   "metadata": {
    "vscode": {
     "languageId": "plaintext"
    }
   },
   "outputs": [],
   "source": [
    "def Power(Base, Exponent):\n",
    "    if Exponent == 0 or Base == 0:\n",
    "        return 1\n",
    "\n",
    "    if Exponent % 2 == 0:\n",
    "        NewBase = Power(Base, Exponent/2)\n",
    "        return NewBase * NewBase\n",
    "    else:\n",
    "        NewBase = Power(Base, (Exponent-1)/2)\n",
    "        return (NewBase * NewBase) * Base"
   ]
  },
  {
   "cell_type": "markdown",
   "metadata": {},
   "source": [
    "### 퀵 정렬\n",
    "##### 주어진 배열을 두 개로 분할하고, 각각을 정렬한다.\n",
    "- 합병정렬과 동일?\n",
    "##### 다른점1: 합병정렬은 그냥 두 부분으로 나누는 반면에, 퀵 정렬은 분할할 때, 기준 아이템(pivot item) 중심으로, 이보다 작은 것은 왼편, 큰 것은 오른편에 위치시킨다.\n",
    "##### 다른점2: 각 부분 정렬이 끝난 후, 합병정렬은 \"합병\"이란 후처리 작업이 필요하나, 퀵 정렬은 필요로 하지 않는다."
   ]
  },
  {
   "cell_type": "markdown",
   "metadata": {},
   "source": [
    "##### 알고리즘"
   ]
  },
  {
   "cell_type": "code",
   "execution_count": null,
   "metadata": {
    "vscode": {
     "languageId": "plaintext"
    }
   },
   "outputs": [],
   "source": [
    "def quickSort(a, begin, end):\n",
    "    if begin < end:\n",
    "        p = partition(a, begin, end)\n",
    "        quickSort(a, begin, p=1)\n",
    "        quickSort(a, p+1, end)\n",
    "\n",
    "def partition(a, begin, end):\n",
    "    pivot = (begin + end) // 2\n",
    "    L = begin\n",
    "    R = end\n",
    "    while L < R:\n",
    "        while(L < R and a[L] < a[pivot]): L += 1\n",
    "        while(L < R and a[R] >= a[pivot]): R -= 1\n",
    "        if L < R:\n",
    "            if L == pivot: pivot = R\n",
    "            a[L], a[R] = a[R] = a[L]\n",
    "    a[pivot], a[R] = a[R], a[pivot]\n",
    "    return R"
   ]
  },
  {
   "cell_type": "markdown",
   "metadata": {},
   "source": [
    "##### 퀵 정렬 수행 과정\n",
    "- 예제: {69, 10, 30, 2, 16, 8, 31, 22}\n",
    "- 원소의 개수가 8개이므로 네 번째 자리에 있는 원소 2를 첫 번째 피봇으로 선택하고 퀵 정렬 시작"
   ]
  },
  {
   "cell_type": "markdown",
   "metadata": {},
   "source": [
    "1) 원소 2를 피봇으로 선택하고 퀵 정렬 시작.\n",
    "    - L이 오른쪽으로 이동하면서 피봇보다 크거나 같은 원소를 찾고, R은 왼쪽으로 이동하면서 피봇보다 작은 원소를 찾는다.\n",
    "    - L은 원소 69를 찾았지만, R은 피봇보다 작은 원소를 찾지 못한 채로 원소 69에서 L과 만나게 된다.\n",
    "    - `L과 R이 만났으므로`, 원소 69를 피봇과 교환하여 피봇 원소 2의 위치를 확정한다."
   ]
  },
  {
   "cell_type": "markdown",
   "metadata": {},
   "source": [
    "2) 피봇 2의 왼쪽 부분집합은 공집합이므로 퀵 정렬을 수행하지 않고, 오른쪽 부분집합에 대해서 퀵 정렬 수행.\n",
    "    - 오른쪽 부분집합의 원소가 7개이므로 가운데 있는 원소 16을 피봇으로 선택.\n",
    "    - L이 찾은 30과 R이 찾은 8을 서로 교환한다.\n",
    "    - 현재 위치에서 L과 R의 작업을 반복한다.\n",
    "    - L은 원소 69를 찾았지만, R은 피봇보다 작은 원소를 찾지 못한 채로 원소 69에서 L과 만나게 된다.\n",
    "    - `L과 R이 만났으므로`, 원소 69를 피봇과 교환하여 피봇 원소 16의 위치를 확정한다."
   ]
  },
  {
   "cell_type": "markdown",
   "metadata": {},
   "source": [
    "3) 피봇 16의 왼쪽 부분집합에서 원소 10을 피봇으로 선택하여 퀵 정렬 수행.\n",
    "    - L의 원소 10과 R의 원소 8을 교환하는데, L의 원소가 피봇이므로 피봇 원소에 대한 자리교환이 발생한 것이므로 교환한 자리를 피봇 원소 10의 위치로 확정한다."
   ]
  },
  {
   "cell_type": "markdown",
   "metadata": {},
   "source": [
    "4) 피봇 10의 확정된 위치에서의 왼쪽 부분 집합은 원소가 한 개이므로 퀵 정렬을 수행하지 않고, 오른쪽 부분 집합은 공집합이므로 역시 퀵 정렬을 수행하지 않는다.\n",
    "    - 이제 1단계의 피봇이었던 원소 16에 대한 오른쪽 부분집합에 대해 퀵 정렬을 수행한다.\n",
    "    - 오른쪽 부분집합의 원소가 4개이므로 두 번째 원소 30을 피봇으로 선택한다.\n",
    "    - L이 찾은 69와 R이 찾은 22를 서로 교환한다.\n",
    "    - 현재 위치에서 L과 R의 작업을 반복한다. L은 오른쪽으로 이동하면서 피봇보다 크거나 같은 원소인 30을 찾고, R은 왼쪽으로 이동하면서 피봇보다 작은 원소를 찾다가 못 찾고 원소 30에서 L과 만난다.\n",
    "    - `L과 R이 만났으므로` 피봇과 교환한다. 이 경우는 R의 원소가 피봇이므로 피봇에 대한 자리교환이 발생한 것이므로 교환한 자리를 피봇의 자리로 확정한다."
   ]
  },
  {
   "cell_type": "markdown",
   "metadata": {},
   "source": [
    "5) 피봇 30의 확정된 위치에서의 왼쪽 부분집합의 원소가 한 개이므로 퀵 정렬을 수행하지 않고, 오른쪽 부분집합에 대해서 퀵 정렬 수행.\n",
    "    - 오른쪽 부분집합의 원소 2개 중에서 원소 31을 피봇으로 선택한다.\n",
    "    - L은 오른쪽으로 이동하면서 원소 31을 찾고, R은 왼쪽으로 이동하면서 피봇보다 작은 원소를 찾다가 못 찾은 채로 원소 31에서 L과 만난다. L과 R이 만났으므로 피봇과 교환하는데 R의 원소가 피봇이므로 결국 제자리가 확정된다.\n",
    "    - 피봇 31의 오른쪽 부분집합의 원소가 한 개이므로 퀵 정렬을 수행하지 않는다. 이것으로써 전체 퀵 정렬이 모두 완성되었다."
   ]
  },
  {
   "cell_type": "markdown",
   "metadata": {},
   "source": [
    "##### 퀵 정렬의 최악의 시간 복잡도는 O(n**2)으로, 합병정렬에 비해 좋지 못하다.\n",
    "##### 그런데, 왜 \"빠른\"정렬이라고 했을까?\n",
    "##### 이는 퀵 정렬의 평균 복잡도는 `nlogn` 이기 때문이다."
   ]
  }
 ],
 "metadata": {
  "language_info": {
   "name": "python"
  }
 },
 "nbformat": 4,
 "nbformat_minor": 2
}
