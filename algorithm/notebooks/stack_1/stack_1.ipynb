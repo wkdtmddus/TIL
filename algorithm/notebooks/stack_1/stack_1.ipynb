{
 "cells": [
  {
   "cell_type": "markdown",
   "metadata": {},
   "source": [
    "### 스택\n",
    "##### 스택(stack)의 특성\n",
    "- 물건을 쌓아 올리듯 자료를 쌓아 올린 형태의 자료구조이다.\n",
    "- 스택에 저장된 자료는 선형구조를 갖는다.\n",
    "    - 선형구조: 자료 간의 관계가 1대1의 관계를 갖는다.\n",
    "    - 비선형구조: 자료 간의 관계가 1대N의 관계를 갖는다.(예: 트리)\n",
    "- 스택에 자료를 삽입하거나 스택에서 자료를 꺼낼 수 있다."
   ]
  },
  {
   "cell_type": "markdown",
   "metadata": {},
   "source": [
    "- 마지막에 삽입한 자료를 가장 먼저 꺼낸다. `후입선출(LIFO, Last-In-First-Out)`이라고 부른다.\n",
    "- 예를 들어 스택에 1, 2, 3 순으로 자료를 삽입한 후 꺼내면 역순으로 3, 2, 1 순으로 꺼낼 수 있다."
   ]
  },
  {
   "cell_type": "markdown",
   "metadata": {},
   "source": [
    "##### 스택을 프로그램에서 구현하기 위해서 필요한 자료구조와 연산\n",
    "- 자료구조: 자료를 선형으로 저장할 저장소\n",
    "    - 배열을 사용할 수 있다.\n",
    "    - 저장소 자체를 스택이라 부르기도 한다.\n",
    "    - 스택에서 마지막 삽입된 원소의 위치를 top이라 부른다."
   ]
  },
  {
   "cell_type": "markdown",
   "metadata": {},
   "source": [
    "- 연산\n",
    "    - 삽입: 저장소에 자료를 저장한다. 보통 `push`라고 부른다.\n",
    "    - 삭제: 저장소에서 자료를 꺼낸다. 꺼낸 자료는 삽입한 자료의 역순으로 꺼낸다. 보통 `pop`이라고 부른다.\n",
    "    - 스택이 공백인지 아닌지를 확인하는 연산. `isEmpty`\n",
    "    - 스택의 top에 있는 item(원소)을 반환하는 연산. `peek`"
   ]
  },
  {
   "cell_type": "markdown",
   "metadata": {},
   "source": [
    "### 스택의 구현\n",
    "##### 스택의 push 알고리즘\n",
    "- append 메소드를 통해 리스트의 마지막에 데이터를 삽입"
   ]
  },
  {
   "cell_type": "code",
   "execution_count": null,
   "metadata": {
    "vscode": {
     "languageId": "plaintext"
    }
   },
   "outputs": [],
   "source": [
    "s = []\n",
    "\n",
    "def push(item):\n",
    "    s.append(item)"
   ]
  },
  {
   "cell_type": "code",
   "execution_count": null,
   "metadata": {
    "vscode": {
     "languageId": "plaintext"
    }
   },
   "outputs": [],
   "source": [
    "def push(item, siza):\n",
    "    global top\n",
    "    top += 1\n",
    "    if top == size:\n",
    "        print('overflow!')\n",
    "    else:\n",
    "        stack[top] = item\n",
    "\n",
    "size = 10\n",
    "stack = [0]*size\n",
    "top = -1\n",
    "\n",
    "push(10, size)\n",
    "\n",
    "# push(20)\n",
    "top += 1\n",
    "stack[top] = 20"
   ]
  },
  {
   "cell_type": "markdown",
   "metadata": {},
   "source": [
    "##### 스택의 pop 알고리즘"
   ]
  },
  {
   "cell_type": "code",
   "execution_count": null,
   "metadata": {
    "vscode": {
     "languageId": "plaintext"
    }
   },
   "outputs": [],
   "source": [
    "def pop():\n",
    "    if len(s) == 0:\n",
    "\n",
    "        # underflow\n",
    "        return\n",
    "    else:\n",
    "        return s.pop()"
   ]
  },
  {
   "cell_type": "code",
   "execution_count": null,
   "metadata": {
    "vscode": {
     "languageId": "plaintext"
    }
   },
   "outputs": [],
   "source": [
    "def pop():\n",
    "    global top\n",
    "    if top == -1:\n",
    "        print('underflow')\n",
    "        return 0\n",
    "    else:\n",
    "        top -= 1\n",
    "        return stack[top+1]\n",
    "\n",
    "print(pop())\n",
    "\n",
    "# pop()\n",
    "if top > -1\n",
    "    top -= 1\n",
    "    print(stack[top+1])"
   ]
  },
  {
   "cell_type": "markdown",
   "metadata": {},
   "source": [
    "### 스택 구현 고려 사항\n",
    "##### 1차원 배열을 사용하여 구현할 경우 구현이 용이하다는 장접이 있지만 스택의 크기를 변경하기가 어렵다는 단접이 있다.\n",
    "##### 이를 해결하기 위한 방법으로 저장소를 동적으로 할당하여 스택을 구현하는 방법이 있다. 동적 연결리스트를 이용하여 구현하는 방법을 의미한다. 구현이 복잡하다는 단점이 있지만 메모리를 효율적으로 사용한다는 장점을 가진다. 스택의 동적 구현은 생략한다."
   ]
  },
  {
   "cell_type": "markdown",
   "metadata": {},
   "source": [
    "### 스택의 응용\n",
    "##### Function call\n",
    "- 프로그램에서의 함수 호출과 복귀에 따른 수행 순서를 관리\n",
    "    - 가장 마지막에 호출된 함수가 가장 먼저 실행을 완료하고 복귀하는 후입선출 구조이므로, 후입선출 구조의 스택을 이용하여 수행순서 관리"
   ]
  },
  {
   "cell_type": "markdown",
   "metadata": {},
   "source": [
    "- 함수 호출이 발생하면 호출한 함수 수행에 필요한 지역변수, 매개변수 및 수행 후 복귀할 주소 등의 정보를 스택 프레임(stack frame)에 저장하여 시스템 스택에 삽입"
   ]
  },
  {
   "cell_type": "markdown",
   "metadata": {},
   "source": [
    "- 함수의 실행이 끝나면 시스템 스택의 top 원소(스택 프레임)를 삭제(pop)하면서 프레임에 저장되어 있던 복귀주소를 확인하고 복귀\n",
    "- 함수 호출과 복귀에 따라 이 과정을 반복하여 전체 프로그램 수행이 종료되면 시스템 스택은 공백 스택이 된다."
   ]
  },
  {
   "cell_type": "markdown",
   "metadata": {},
   "source": [
    "### 재귀호출\n",
    "##### 필요한 함수가 자신과 같은 경우 자신을 다시 호출하는 구조\n",
    "##### 함수에서 실행해야 하는 작업의 특성에 따라 일반적인 호출방식보다 재귀호출방식을 사용하여 함수를 만들면 프로그램의 크기를 줄이고 간단하게 작성\n",
    "- 재귀호출의 예: factorial"
   ]
  },
  {
   "cell_type": "markdown",
   "metadata": {},
   "source": [
    "##### 0과 1로 시작하고 이전의 두 수 합을 다음 항으로 하는 수열을 피보나치라 한다.\n",
    "- 0, 1, 1, 2, 3, 5, 8, 13, ...\n",
    "##### 피보나치 수열의 i번째 값을 계산하는 함수 F를 정의하면 다음과 같다.\n",
    "- F0 = 0, F1 = 1\n",
    "- Fi = Fi-1 + Fi-2 for i >= 2\n",
    "##### 위의 정의로부터 피보나치 수열의 i번째 항을 반환하는 함수를 재귀함수로 구현할 수 있다."
   ]
  },
  {
   "cell_type": "markdown",
   "metadata": {},
   "source": [
    "##### 피보나치 수를 구하는 재귀함수"
   ]
  },
  {
   "cell_type": "code",
   "execution_count": null,
   "metadata": {
    "vscode": {
     "languageId": "plaintext"
    }
   },
   "outputs": [],
   "source": [
    "def fibo(n):\n",
    "    if n < 2:\n",
    "        return n\n",
    "    else:\n",
    "        return fibo(n-1) + fibo(n-2)"
   ]
  },
  {
   "cell_type": "markdown",
   "metadata": {},
   "source": [
    "### Memoization\n",
    "##### 앞의 예에서 피보나치 수를 구하는 함수를 재귀함수로 구현한 알고리즘은 문제점이 있다.\n",
    "##### `엄청난 중복 호출이 존재한다`는 것이다."
   ]
  },
  {
   "cell_type": "markdown",
   "metadata": {},
   "source": [
    "##### 메모이제이션(memoization)은 컴퓨터 프로그램을 실행할 때 이전에 계산한 값을 메모리에 저장해서 매번 다시 계산하지 않도록 하여 전체적인 실행속도를 빠르게 하는 기술이다. 동적 계획법의 핵심이 되는 기술이다.\n",
    "##### 'memoization'은 글자 그대로 해석하면 '메모리에 넣기(to put in memory)'라는 의미이며 '기억되어야 할 것'이라는 뜻의 라틴어 memorandum에서 파생되었다. 동사형은 memoize이다."
   ]
  },
  {
   "cell_type": "markdown",
   "metadata": {},
   "source": [
    "##### 앞의 예에서 피보나치 수를 구하는 알고리즘에서 fibo(n)의 값을 계산하자마자 저장하면(memoize), 실행시간을 O(theta)(n)으로 줄일 수 있다."
   ]
  },
  {
   "cell_type": "markdown",
   "metadata": {},
   "source": [
    "##### Memoization 방법을 적용한 알고리즘은 다음과 같다."
   ]
  },
  {
   "cell_type": "code",
   "execution_count": null,
   "metadata": {
    "vscode": {
     "languageId": "plaintext"
    }
   },
   "outputs": [],
   "source": [
    "# memo를 위한 배열을 할당하고, 모두 0으로 초기화 한다.\n",
    "# memo[0]을 0으로 memo[1]은 1로 초기화 한다.\n",
    "\n",
    "def fibo1(n):\n",
    "    global memo\n",
    "    if n >= 2 and memo(n) == 0:\n",
    "        memo[n] = fibo1(n-1) + fibo1(n-2)\n",
    "    return memo[n]\n",
    "\n",
    "memo = [0]*(n+1)\n",
    "memo[0] = 0\n",
    "memo[1] = 1"
   ]
  },
  {
   "cell_type": "markdown",
   "metadata": {},
   "source": [
    "### DP(Dynamic Programming)\n",
    "##### 동적 계획(Dynamic Programming) 알고리즘은 그리디 알고리즘과 같이 최적화 문제를 해결하는 알고리즘이다.\n",
    "##### 동적 계획 알고리즘은 먼저 입력 크기가 작은 부분 문제들을 모두 해결한 후에 그 해들을 이용하여 보다 큰 크기의 부분 문제들을 해결하여, 최종적으로 원래 주어진 입력의 문제를 해결하는 알고리즘이다."
   ]
  },
  {
   "cell_type": "markdown",
   "metadata": {},
   "source": [
    "##### 피보나치 수 DP 적용\n",
    "- 피보나치 수는 부분 문제의 답으로부터 본 문제의 답을 얻을 수 있으므로 최적 부분 구조로 이루어져 있다.\n",
    "1) 문제를 부분 문제로 분할한다.\n",
    "    - Fibonacci(n) 함수는 Fibonacci(n-1)과 Fibonacci(n-2)의 합\n",
    "    - Fibonacci(n-1)은 Fibonacci(n-2)와 Fibonacci(n-3)의 합\n",
    "    - Fibonacci(2)는 Fibonacci(1)과 Fibonacci(0)의 합\n",
    "    - Fibonacci(n)은 Fibonacci(n-1), Fibonacci(n-2), ..., Fibonacci(2), Fibonacci(1), Fibonacci(0)의 부분집합으로 나뉜다."
   ]
  },
  {
   "cell_type": "markdown",
   "metadata": {},
   "source": [
    "2) 부분 문제로 나누는 일을 끝냈으면 가장 작은 부분 문제부터 해를 구한다.\n",
    "3) 그 결과는 테이블에 저장하고, 테이블에 저장된 부분 문제의 해를 이용하여 상위 문제의 해를 구한다."
   ]
  },
  {
   "cell_type": "markdown",
   "metadata": {},
   "source": [
    "##### 피보나치 수 DP 적용 알고리즘"
   ]
  },
  {
   "cell_type": "code",
   "execution_count": null,
   "metadata": {
    "vscode": {
     "languageId": "plaintext"
    }
   },
   "outputs": [],
   "source": [
    "def fibo2(n):\n",
    "    f = [0]*(n+1)\n",
    "    f[0] = 0\n",
    "    f[1] = 1\n",
    "    for i in range(2, n+1):\n",
    "        f[i] = f[i-1] + f[i-2]\n",
    "    return f[n]"
   ]
  },
  {
   "cell_type": "markdown",
   "metadata": {},
   "source": [
    "##### DP의 구현 방식\n",
    "- recursive 방식: fib1()\n",
    "- iterative 방식: fib2()\n",
    "- memoization을 재귀적 구조에 사용하는 것보다 반복적 구조로 DP를 구현한 것이 성능 면에서 보다 효율적이다.\n",
    "- 재귀적 구조는 내부에 시스템 호출 스택을 사용하는 오버헤드가 발생하기 때문이다."
   ]
  },
  {
   "cell_type": "markdown",
   "metadata": {},
   "source": [
    "### DFS(깊이우선탐색)\n",
    "##### 비선형구조인 그래프 구조는 그래프로 표현된 모든 자료를 빠짐없이 검색하는 것이 중요함\n",
    "##### 두 가지 방법\n",
    "- 깊이 우선 탐색(Depth First Search, DFS)\n",
    "- 너비 우선 탐색(Breadth First Search, BFS)"
   ]
  },
  {
   "cell_type": "markdown",
   "metadata": {},
   "source": [
    "##### 시작 정점의 한 방향으로 갈 수 있는 경로가 있는 곳까지 깊이 탐색해 가다가 더이상 갈 곳이 없게 되면, 가장 마지막에 만났던 갈림길 간선이 있는 정점으로 되돌아와서 다른 방향의 정점으로 탐색을 계속 반복하여 결국 모든 정점을 방문하는 순회방법\n",
    "##### 가장 마지막에 만났던 갈림길의 정점으로 되돌아가서 다시 깊이 우선 탐색을 반복해야 하므로 후입선출 구조의 스택 사용"
   ]
  },
  {
   "cell_type": "markdown",
   "metadata": {},
   "source": [
    "##### DFS 알고리즘\n",
    "1) 시작 정점 v를 결정하여 방문한다.\n",
    "2) 정점 v에 인접한 정점 중에서\n",
    "    1) 방문하지 않은 정점 w가 있으면, 정점 v를 스택에 push하고 정점 w를 방문한다. 그리고 w를 v로 하여 다시 2번을 반복한다.\n",
    "    2) 방문하지 않은 정점이 없으면, 탐색의 방향을 바꾸기 위해서 스택을 pop하여 받은 가장 마지막 방문 정점을 v로 하여 다시 2번을 반복한다.\n",
    "3) 스택이 공백이 될 때까지 2번을 반복한다."
   ]
  },
  {
   "cell_type": "code",
   "execution_count": null,
   "metadata": {
    "vscode": {
     "languageId": "plaintext"
    }
   },
   "outputs": [],
   "source": [
    "visited[], stack[] 초기화\n",
    "\n",
    "DFS(v):\n",
    "    시작점 v 방문\n",
    "    visited[v] <- true;\n",
    "    while {\n",
    "        if (v의 인접 정점 중 방문 안 한 정점 w가 있으면)\n",
    "            push(v);\n",
    "            v <- w; (w에 방문)\n",
    "            visited[w] <- true;\n",
    "        else\n",
    "            if (스택이 비어 있지 않으면)\n",
    "                v <- pop(stack);\n",
    "            else\n",
    "                break\n",
    "    }\n",
    "end DFS()"
   ]
  }
 ],
 "metadata": {
  "language_info": {
   "name": "python"
  }
 },
 "nbformat": 4,
 "nbformat_minor": 2
}
