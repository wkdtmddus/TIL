{
 "cells": [
  {
   "cell_type": "markdown",
   "metadata": {},
   "source": [
    "### 학습 목표\n",
    "##### 실 세계 문제를 그래프로 추상화해서 해결하는 방법을 학습한다.\n",
    "##### 그래프 탐색 기법인 BFS와 DFS에 대해 학습한다.\n",
    "##### 그래프 알고리즘에 활용되는 상호배타 집합(Disjoint-Sets)의 자료구조에 대해 학습한다."
   ]
  },
  {
   "cell_type": "markdown",
   "metadata": {},
   "source": [
    "### 그래프\n",
    "##### 그래프는 아이템(사물 또는 추상적 개념)들과 이들 사이의 연결 관계를 표현한다.\n",
    "##### 그래프는 정점(Vertex)들의 집합과 이들을 연결하는 간선(Edge)들의 집합으로 구성된 자료구조\n",
    "- |V|: 정점의 개수, |E|: 그래프에 포함된 간선의 개수\n",
    "- |V|개의 정점을 가지는 그래프는 최대 |V|(|V|-1)/2 간선이 가능\n",
    "  - 예: 5개 정점이 있는 그래프의 최대 간선 수는 10(= 5*4/2)개이다.\n",
    "##### 선형 자료구조나 트리 자료구조로 표현하기 어려운 N:N관계를 가지는 원소들을 표현하기에 용이하다."
   ]
  },
  {
   "cell_type": "markdown",
   "metadata": {},
   "source": [
    "### 그래프 유형\n",
    "##### 무향 그래프(Undirected Graph)\n",
    "##### 유향 그래프(Directed Graph)\n",
    "##### 가중치 그래프(Weighted Graph)\n",
    "##### 사이클 없는 방향 그래프(DAG, Directed Acyclic Graph)"
   ]
  },
  {
   "cell_type": "markdown",
   "metadata": {},
   "source": [
    "##### 완전 그래프\n",
    "- 정점들에 대해 가능한 모든 간선들을 가진 그래프\n",
    "##### 부분 그래프\n",
    "- 원래 그래프에서 일부의 정점이나 간선을 제외한 그래프"
   ]
  },
  {
   "cell_type": "markdown",
   "metadata": {},
   "source": [
    "### 인접 정점\n",
    "##### 인접(Adhacency)\n",
    "- 두 개의 정점에 간선이 존재(연결됨)하면 서로 인접해 있다고 한다.\n",
    "- 완전 그래프에 속한 임의의 두 정점들은 모두 인접해 있다."
   ]
  },
  {
   "cell_type": "markdown",
   "metadata": {},
   "source": [
    "### 그래프 경로\n",
    "##### 경로란 간선들을 순서대로 나열한 것\n",
    "- 간선들: (0, 2), (2, 4), (4, 6)\n",
    "- 정점들: 0, 2, 4, 6\n",
    "##### 경로 중 한 정점을 최대한 한번만 지나는 경로를 `단순경로`라 한다.\n",
    "- 0 -> 2 -> 4 -> 6, 0 -> 1 -> 6\n",
    "##### 시작한 정점에서 끝나는 경로를 `사이클(Cycle)`이라고 한다.\n",
    "- 1 -> 3 -> 5 -> 1"
   ]
  },
  {
   "cell_type": "markdown",
   "metadata": {},
   "source": [
    "### 그래프 표현\n",
    "##### 간선의 정보를 저장하는 방식, 메모리나 성능을 고려해서 결정\n",
    "##### 인접 행렬(Adjacent matrix)\n",
    "- |V|*|V| 크기의 2차원 배열을 이용해서 간선 정보를 저장\n",
    "- 배열의 배열(포인터 배열)\n",
    "##### 인접 리스트(Adjacent List)\n",
    "- 각 정점마다 해당 정점으로 나가는 간선의 정보를 저장\n",
    "##### 간선의 배열\n",
    "- 간선(시작 정점, 끝 정점)을 배열에 연속적으로 저장"
   ]
  },
  {
   "cell_type": "markdown",
   "metadata": {},
   "source": [
    "### 인접 행렬\n",
    "##### 두 정점을 연결하는 간선의 유무를 행렬로 표현\n",
    "- |V|*|V| 정방 행렬\n",
    "- 행 번호와 열 번호는 그래프의 정점에 대응\n",
    "- 두 정점이 인접되어 있으면 1, 그렇지 않으면 0으로 표현\n",
    "- 무향 그래프\n",
    "  - i번째 행의 합 = i번째 열의 합 = Vi의 차수\n",
    "- 유향 그래프\n",
    "  - 행 i의 합 = Vi의 진출 차수\n",
    "  - 열 i의 합 = Vi의 진입 차수"
   ]
  },
  {
   "cell_type": "markdown",
   "metadata": {},
   "source": [
    "### 인접 리스트\n",
    "##### 각 정점에 대한 인접 정점들을 순차적으로 표현\n",
    "##### 하나의 정점에 대한 인접 정점들을 각각 노드로 하는 연결 리스트로 저장"
   ]
  },
  {
   "cell_type": "markdown",
   "metadata": {},
   "source": [
    "### 그래프 순회(탐색)\n",
    "##### 그래프 순회는 비선형구조인 그래프로 표현된 모든 자료(정점)를 빠짐없이 탐색하는 것을 의미한다.\n",
    "##### 두 가지 방법\n",
    "- 깊이 우선 탐색(Depth First Search, DFS)\n",
    "- 너비 우선 탐색(Breadth First Search, BFS)"
   ]
  },
  {
   "cell_type": "markdown",
   "metadata": {},
   "source": [
    "### DFS(깊이우선탐색)\n",
    "##### 시작 정점의 한 방향으로 갈 수 있는 경로가 있는 곳까지 깊이 탐색해 가다가 더 이상 갈 곳이 없게 되면, 가장 마지막에 만났던 갈림길 간선이 있는 정점으로 되돌아와서 다른 방향의 정점으로 탐색을 계속 반복하여 결국 모든 정점을 방문하는 순회방법\n",
    "##### 가장 마지막에 만났던 갈림길의 정점으로 되돌아가서 다시 깊이우선탐색을 반복해야 하므로 후입선출 구조의 스택 사용"
   ]
  },
  {
   "cell_type": "markdown",
   "metadata": {},
   "source": [
    "##### DFS 알고리즘-재귀"
   ]
  },
  {
   "cell_type": "code",
   "execution_count": null,
   "metadata": {},
   "outputs": [],
   "source": [
    "'''\n",
    "DFS_Recursive(G, v)\n",
    "    \n",
    "    visited[v] <- TRUE  // v방문설정\n",
    "\n",
    "    FOR each all w in adjacency(G, v)\n",
    "        IF visited[w] != TRUE\n",
    "            DFS_Recursive(G, w)\n",
    "'''"
   ]
  },
  {
   "cell_type": "markdown",
   "metadata": {},
   "source": [
    "##### DFS 알고리즘-반복"
   ]
  },
  {
   "cell_type": "code",
   "execution_count": null,
   "metadata": {},
   "outputs": [],
   "source": [
    "'''\n",
    "STACK s\n",
    "visited[]\n",
    "\n",
    "DFS(v)\n",
    "    push(s, v)\n",
    "    WHILE NOT isEmpty(s)\n",
    "        v <- pop(s)\n",
    "        IF NOT visited[v]\n",
    "            visit(v)\n",
    "            FOR each w in adjacency(v)\n",
    "                IF NOT visited[w]\n",
    "                    push(s, w)\n",
    "'''"
   ]
  },
  {
   "cell_type": "markdown",
   "metadata": {},
   "source": [
    "### BFS(Breadth First Search)\n",
    "##### 너비우선탐색은 탐색 시작점의 인접한 정점들을 먼저 모두 차례로 방문한 후에, 방문했던 정점을 시작점으로 하여 다시 인접한 정점들을 차례로 방문하는 방식\n",
    "##### 인접한 정점들에 대해 탐색을 한 후, 차례로 다시 너비우선탐색을 진행해야 하므로, 선입선출 형태의 자료구조인 큐를 활용함"
   ]
  },
  {
   "cell_type": "markdown",
   "metadata": {},
   "source": [
    "##### BFS 알고리즘\n",
    "- 입력 파라미터: 그래프 G와 탐색 시작점 v"
   ]
  },
  {
   "cell_type": "code",
   "execution_count": null,
   "metadata": {},
   "outputs": [],
   "source": [
    "'''\n",
    "BFS(G, v)\n",
    "    큐 생성\n",
    "    시작점 v를 큐에 삽입\n",
    "    점 v를 방문한 것으로 표시\n",
    "    WHILE 큐가 비어있지 않은 경우\n",
    "        t <- 큐의 첫번째 원소 반환\n",
    "        FOR t와 연결된 모든 선에 대해\n",
    "            u <- t의 이웃점\n",
    "            u가 방문되지 않은 곳이면,\n",
    "            u를 큐에 넣고, 방문한 것으로 표시\n",
    "'''"
   ]
  },
  {
   "cell_type": "markdown",
   "metadata": {},
   "source": [
    "### 서로소 집합(Disjoint-sets)\n",
    "##### 서로소 또는 상호배타 집합들은 서로 중복 포함된 원소가 없는 집합들이다. 다시 말해 교집합이 없다.\n",
    "##### 집합에 속한 하나의 특정 멤버를 통해 각 집합들을 구분한다. 이를 대표자(representative)라 한다."
   ]
  },
  {
   "cell_type": "markdown",
   "metadata": {},
   "source": [
    "##### 상호배타 집합을 표현하는 방법\n",
    "- 연결 리스트\n",
    "- 트리\n",
    "##### 상호배타 집합 연산\n",
    "- Make_Set(x)\n",
    "- Find_Set(x)\n",
    "- Union(x, y)"
   ]
  },
  {
   "cell_type": "markdown",
   "metadata": {},
   "source": [
    "### 상호 배타 집합 표현-연결리스트\n",
    "##### 같은 집합의 원소들은 하나의 연결리스트로 관리한다.\n",
    "##### 연결리스트의 맨 앞의 원소를 집합의 대표 원소로 삼는다.\n",
    "##### 각 원소는 집합의 대표원소를 가리키는 링크를 갖는다."
   ]
  },
  {
   "cell_type": "markdown",
   "metadata": {},
   "source": [
    "### 상호 배타 집합 표현-트리\n",
    "##### 하나의 집합(a disjoint set)을 하나의 트리로 표현한다.\n",
    "##### 자식 노드가 부모 노드를 가리키며 루트 노드가 대표자가 된다."
   ]
  },
  {
   "cell_type": "markdown",
   "metadata": {},
   "source": [
    "### 상호 배타 집합에 대한 연산\n",
    "##### Make_Set(x): 유일한 멤버 x를 포함하는 새로운 집합을 생성하는 연산"
   ]
  },
  {
   "cell_type": "code",
   "execution_count": null,
   "metadata": {},
   "outputs": [],
   "source": [
    "'''\n",
    "Make_Set(x)\n",
    "    p[x] <- x\n",
    "'''"
   ]
  },
  {
   "cell_type": "markdown",
   "metadata": {},
   "source": [
    "##### Find_Set(x): x를 포함하는 집합을 찾는 연산"
   ]
  },
  {
   "cell_type": "code",
   "execution_count": null,
   "metadata": {},
   "outputs": [],
   "source": [
    "'''\n",
    "Find_Set(x)\n",
    "    IF x == p[x]: RETURN x\n",
    "    ELSE: RETURN Find_Set(p[x])\n",
    "'''"
   ]
  },
  {
   "cell_type": "markdown",
   "metadata": {},
   "source": [
    "##### Union(x, y): x와 y를 포함하는 두 집합을 통하는 연산"
   ]
  },
  {
   "cell_type": "code",
   "execution_count": null,
   "metadata": {},
   "outputs": [],
   "source": [
    "'''\n",
    "Union(x, y)\n",
    "    p[Find_Set(y)] <- Find_Set(x)\n",
    "'''"
   ]
  },
  {
   "cell_type": "markdown",
   "metadata": {},
   "source": [
    "### 참고\n",
    "##### Find_Set(x): x를 포함하는 집합을 찾는 연산(반복)"
   ]
  },
  {
   "cell_type": "code",
   "execution_count": null,
   "metadata": {},
   "outputs": [],
   "source": [
    "'''\n",
    "Find_Set(x)\n",
    "    while x != p[x]\n",
    "        x = p[x]\n",
    "    return x\n",
    "'''"
   ]
  },
  {
   "cell_type": "markdown",
   "metadata": {},
   "source": [
    "##### 연산의 효율을 높이는 방법\n",
    "- Rank를 이용한 Union\n",
    "  - 각 노드는 자신을 루트로 하는 subtree의 높이를 랭크라는 이름으로 저장한다.\n",
    "  - 두 집합을 합칠 때 랭크가 낮은 집합을 랭크가 높은 집합에 붙인다.\n",
    "- Path compression\n",
    "  - Find_Set을 행하는 과정에서 만나는 모든 노드들이 직접 root를 가리키도록 포인터를 바꾸어 준다."
   ]
  },
  {
   "cell_type": "markdown",
   "metadata": {},
   "source": [
    "##### Make_Set 연산\n",
    "- Make_Set(x): 유일한 멤버 x를 포함하는 새로운 집합을 생성하는 연산"
   ]
  },
  {
   "cell_type": "code",
   "execution_count": null,
   "metadata": {},
   "outputs": [],
   "source": [
    "'''\n",
    "p[x]: 노드 x의 부모 저장\n",
    "rank[x]: 루트 노드가 x인 트리의 랭크값 저장\n",
    "\n",
    "Make_Set(x)\n",
    "    p[x] <- x\n",
    "    rank[x] <- 0\n",
    "'''"
   ]
  },
  {
   "cell_type": "markdown",
   "metadata": {},
   "source": [
    "##### Find_set 연산\n",
    "- Find_Set(x): x를 포함하는 집합을 찾는 오퍼레이션\n",
    "- 특정 노드에서 루트까지의 경로를 찾아가면서 노드의 부모 정보를 갱신한다."
   ]
  },
  {
   "cell_type": "code",
   "execution_count": null,
   "metadata": {},
   "outputs": [],
   "source": [
    "'''\n",
    "Find_Set(x)\n",
    "    IF x != p[x]    // x 가 루트가 아닌 경우\n",
    "        p[x] <- Find_Set(p[x])\n",
    "    RETURN p[x]\n",
    "'''"
   ]
  },
  {
   "cell_type": "markdown",
   "metadata": {},
   "source": [
    "##### Union 연산\n",
    "- Union(x, y): x와 y를 포함하는 두 집합을 통합하는 오퍼레이션"
   ]
  },
  {
   "cell_type": "code",
   "execution_count": null,
   "metadata": {},
   "outputs": [],
   "source": [
    "'''\n",
    "Union(x, y)\n",
    "    Link(Find_Set(x), Find_Set(y))\n",
    "\n",
    "Link(x, y)\n",
    "    IF rank[x] > rank[y]    // rank는 트리의 높이\n",
    "        p[y] <- x\n",
    "    ELSE\n",
    "        p[x] <- y\n",
    "        IF rank[x] == rank[y]\n",
    "            rank[y]++\n",
    "'''"
   ]
  }
 ],
 "metadata": {
  "language_info": {
   "name": "python"
  }
 },
 "nbformat": 4,
 "nbformat_minor": 2
}
