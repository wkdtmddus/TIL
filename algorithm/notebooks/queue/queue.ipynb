{
 "cells": [
  {
   "cell_type": "markdown",
   "metadata": {},
   "source": [
    "### 큐\n",
    "##### 큐(Queue)의 특성\n",
    "- 스택과 마찬가지로 삽입과 삭제의 위치가 제한적인 자료구조\n",
    "    - 큐의 뒤에서는 삽입만 하고, 큐의 앞에서는 삭제만 이루어지는 구조\n",
    "- 선입선출구조(FIFO: First In Firt Out)\n",
    "    - 큐에서 삽입한 순서대로 원소가 저장되어, 가장 먼저 삽입(First In)된 원소는 가장 먼저 삭제(First Out)된다."
   ]
  },
  {
   "cell_type": "markdown",
   "metadata": {},
   "source": [
    "##### 큐의 기본 연산\n",
    "- 삽입: enQueue\n",
    "- 삭제: deQueue"
   ]
  },
  {
   "cell_type": "markdown",
   "metadata": {},
   "source": [
    "##### 큐의 사용을 위해 필요한 주요 연산은 다음과 같음\n",
    "- enQueue(item): 큐의 뒤쪽(rear 다음)에 원소를 삽입하는 연산\n",
    "- deQueue(): 큐의 앞쪽(front)에서 원소를 삭제하고 반환하는 연산\n",
    "- createQueue(): 공백상태의 큐를 생성하는 연산\n",
    "- isEmpty(): 큐가 공백상태인지를 확인하는 연산\n",
    "- isFull(): 큐가 포화상태인지를 확인하는 연산\n",
    "- Qpeek(): 큐의 앞쪽(front)에서 원소를 삭제 없이 반환하는 연산"
   ]
  },
  {
   "cell_type": "markdown",
   "metadata": {},
   "source": [
    "### 큐의 구현\n",
    "##### 선형큐\n",
    "- 1차원 배열을 이용한 큐\n",
    "    - 큐의 크기 = 배열의 크기\n",
    "    - front: 저장된 첫 번째 원소의 인덱스\n",
    "    - rear: 저장된 마지막 원소의 인덱스\n",
    "- 상태 표현\n",
    "    - 초기상태: front = rear = -1\n",
    "    - 공백상태: front = rear\n",
    "    - 포화상태: rear == n-1(n: 배열의 크기, n-1: 배열의 마지막 인덱스)"
   ]
  },
  {
   "cell_type": "markdown",
   "metadata": {},
   "source": [
    "##### 초기 공백 큐 생성\n",
    "- 크기 n인 1차원 배열 생성\n",
    "- front와 rear를 -1로 초기화"
   ]
  },
  {
   "cell_type": "markdown",
   "metadata": {},
   "source": [
    "##### 삽입: enQueue(item)\n",
    "- 마지막 원소 뒤에 새로운 원소를 삽입하기 위해\n",
    "    1) rear값을 하나 증가시켜 새로운 원소를 삽입할 자리를 마련\n",
    "    2) 그 인덱스에 해당하는 배열원소 Q[rear]에 item을 저장"
   ]
  },
  {
   "cell_type": "code",
   "execution_count": null,
   "metadata": {
    "vscode": {
     "languageId": "plaintext"
    }
   },
   "outputs": [],
   "source": [
    "def enQueue(item):\n",
    "    global rear\n",
    "    if isFull: print(\"Queue_Full\")\n",
    "    else:\n",
    "        rear <- rear + 1\n",
    "        Q[rear] <- item"
   ]
  },
  {
   "cell_type": "markdown",
   "metadata": {},
   "source": [
    "##### 삭제: deQueue()\n",
    "- 가장 앞에 있는 원소를 삭제하기 위해\n",
    "    1) front값을 하나 증가시켜 큐에 남아있는 첫 번째 원소 이동\n",
    "    2) 새로운 첫 번째 원소를 리턴 함으로써 삭제와 동일한 기능함"
   ]
  },
  {
   "cell_type": "code",
   "execution_count": null,
   "metadata": {
    "vscode": {
     "languageId": "plaintext"
    }
   },
   "outputs": [],
   "source": [
    "deQueue():\n",
    "    if(isEmpty()) then Queue_Empty();\n",
    "    else {\n",
    "        front <- front + 1;\n",
    "        return Q[front];\n",
    "    }"
   ]
  },
  {
   "cell_type": "markdown",
   "metadata": {},
   "source": [
    "##### 공백상태 및 포화상태 검사: isEmpty(), isFull()\n",
    "- 공백상태: front == rear\n",
    "- 포화상태: rear == n-1(n: 배열의 크기, n-1: 배열의 마지막 인덱스)"
   ]
  },
  {
   "cell_type": "code",
   "execution_count": null,
   "metadata": {
    "vscode": {
     "languageId": "plaintext"
    }
   },
   "outputs": [],
   "source": [
    "def isEmpty():\n",
    "    return front == rear\n",
    "\n",
    "def isFull():\n",
    "    return rear == len(Q) - 1"
   ]
  },
  {
   "cell_type": "markdown",
   "metadata": {},
   "source": [
    "##### 검색: Qpeek()\n",
    "- 가장 앞에 있는 원소를 검색하여 반환하는 연산\n",
    "- 현재 front의 한자리 뒤(front+1)에 있는 원소, 즉 큐의 첫 번째에 있는 원소를 반환"
   ]
  },
  {
   "cell_type": "code",
   "execution_count": null,
   "metadata": {
    "vscode": {
     "languageId": "plaintext"
    }
   },
   "outputs": [],
   "source": [
    "def Qpeek():\n",
    "    if isEmpty(): print(\"Queue_Empty\")\n",
    "    else: return Q[front+1]"
   ]
  },
  {
   "cell_type": "markdown",
   "metadata": {},
   "source": [
    "### 선형큐 이용시의 문제점\n",
    "##### 잘못된 포화상태 인식\n",
    "- 선형큐를 이용하여 원소의 삽입과 삭제를 계속할 경우, 배열의 앞부분에 활용할 수 있는 공간이 있음에도 불구하고, rear = n - 1인 상태 즉, 포화상태로 인식하여 더 이상의 삽입을 수행하지 않게 됨\n",
    "##### 해결방법1\n",
    "- 매 연산이 이루어질 때마다 저장된 원소들을 배열의 앞부분으로 모두 이동시킴\n",
    "- 원소 이동에 많은 시간이 소요되어 큐의 효율성이 급격히 떨어짐"
   ]
  },
  {
   "cell_type": "markdown",
   "metadata": {},
   "source": [
    "##### 해결방법2\n",
    "- 1차원 배열을 사용하되, 논리적으로는 배열의 처음과 끝이 연결되어 원형형태의 큐를 이룬다고 가정하고 사용\n",
    "- 원형큐의 논리적 구조"
   ]
  },
  {
   "cell_type": "markdown",
   "metadata": {},
   "source": [
    "### 원형큐의 구조\n",
    "##### 초기 공백상태\n",
    "- front = rear = 0\n",
    "##### Index의 순환\n",
    "- front와 rear의 위치가 배열의 마지막 인덱스인 n-1을 가르킨 후, 그 다음에는 논리적 순환을 이루어 배열의 처음 인덱스인 0으로 이동해야 함\n",
    "- 이를 위해 나머지 연산자 mod를 사용함"
   ]
  },
  {
   "cell_type": "markdown",
   "metadata": {},
   "source": [
    "##### front 변수\n",
    "- 공백상태와 포화상태 구분을 쉽게 하기 위해 front가 있는 자리는 사용하지 않고 항상 빈자리로 둠\n",
    "##### 삽입 위치 및 삭제 위치\n",
    "- 선형큐: rear = rear + 1, front = front + 1\n",
    "- 원형큐: rear = (rear + 1) mod n, front = (front + 1) mod n"
   ]
  },
  {
   "cell_type": "markdown",
   "metadata": {},
   "source": [
    "### 원형큐의 구현\n",
    "##### 초기 공백 큐 생성\n",
    "- 크기 n인 1차원 배열 생성\n",
    "- front와 rear를 0으로 초기화"
   ]
  },
  {
   "cell_type": "markdown",
   "metadata": {},
   "source": [
    "##### 공백상태 및 포화상태 검사: isEmpty(), isFull()\n",
    "- 공백상태: front == rear\n",
    "- 포화상태: 삽입할 rear의 다음 위치 == 현재 front\n",
    "    - (rear + 1) mod n == front"
   ]
  },
  {
   "cell_type": "code",
   "execution_count": null,
   "metadata": {
    "vscode": {
     "languageId": "plaintext"
    }
   },
   "outputs": [],
   "source": [
    "def isEmpty():\n",
    "    return front == rear\n",
    "\n",
    "def isFull():\n",
    "    return (rear+1) % len(cQ) == front"
   ]
  },
  {
   "cell_type": "markdown",
   "metadata": {},
   "source": [
    "##### 삽입: enQueue(item)\n",
    "- 마지막 원소 뒤에 새로운 원소를 삽입하기 위해\n",
    "    1) rear갑을 조정하여 새로운 원소를 삽입할 자리를 마련함:  \n",
    "        rear <- (rear + 1) mod n;\n",
    "    2) 그 인덱스에 해당하는 배열원소 cQ[rear]에 item을 저장"
   ]
  },
  {
   "cell_type": "code",
   "execution_count": null,
   "metadata": {
    "vscode": {
     "languageId": "plaintext"
    }
   },
   "outputs": [],
   "source": [
    "def enQueue(item):\n",
    "    global rear\n",
    "    if isFull():\n",
    "        print(\"Queue_Full\")\n",
    "    else:\n",
    "        rear = (rear+1) % len(cQ)\n",
    "        cQ[rear] = item"
   ]
  },
  {
   "cell_type": "markdown",
   "metadata": {},
   "source": [
    "##### 삭제: deQueue(), delete()\n",
    "- 가장 앞에 있는 원소를 삭제하기 위해\n",
    "    1) front값을 조정하여 삭제할 자리를 준비함\n",
    "    2) 새로운 front 원소를 리턴 함으로써 삭제와 동일한 기능함"
   ]
  },
  {
   "cell_type": "code",
   "execution_count": null,
   "metadata": {
    "vscode": {
     "languageId": "plaintext"
    }
   },
   "outputs": [],
   "source": [
    "def deQueue():\n",
    "    global front\n",
    "    if isEmpty():\n",
    "        print(\"Queue_Empty\")\n",
    "    else:\n",
    "        front = (front+1) % len(cQ)\n",
    "        return cQ[front]"
   ]
  },
  {
   "cell_type": "code",
   "execution_count": null,
   "metadata": {
    "vscode": {
     "languageId": "plaintext"
    }
   },
   "outputs": [],
   "source": [
    "def isEmpty():\n",
    "    return front == rear\n",
    "\n",
    "def isFull():\n",
    "    return (rear+1) % len(cQ) == front"
   ]
  },
  {
   "cell_type": "markdown",
   "metadata": {},
   "source": [
    "### 연결큐의 구조\n",
    "##### 단순 연결 리스트(Linked List)를 이용한 큐\n",
    "- 큐의 원소: 단순 연결 리스트의 노드\n",
    "- 큐의 원소 순서: 노드의 연결 순서. 링크로 연결되어 있음\n",
    "- front: 첫 번째 노드를 가리키는 링크\n",
    "- rear: 마지막 노드를 가리키는 링크\n",
    "##### 상태 표현\n",
    "- 초기상태: front = rear = null\n",
    "- 공백상태: front = rear = null"
   ]
  },
  {
   "cell_type": "markdown",
   "metadata": {},
   "source": [
    "### [참고] deque(덱)\n",
    "##### 컨테이너 자료형 중 하나\n",
    "##### deque 객체\n",
    "- 양쪽 끝에서 빠르게 추가와 삭제를 할 수 있는 리스트류 컨테이너\n",
    "##### 연산\n",
    "- append(x): 오른쪽에 x 추가\n",
    "- popleft(): 왼쪽에서 요소를 제거하고 반환. 요소가 없으면 IndexError"
   ]
  },
  {
   "cell_type": "code",
   "execution_count": null,
   "metadata": {
    "vscode": {
     "languageId": "plaintext"
    }
   },
   "outputs": [],
   "source": [
    "from collections import deque\n",
    "\n",
    "q = deque()\n",
    "\n",
    "# enqueue()\n",
    "q.append(1)\n",
    "\n",
    "# dequeue()\n",
    "t = q.popleft()"
   ]
  },
  {
   "cell_type": "markdown",
   "metadata": {},
   "source": [
    "### 우선순위 큐(Priority Queue)\n",
    "##### 우선순위 큐의 특성\n",
    "- 우선순위를 가진 항목들을 저장하는 큐\n",
    "- FIFO 순서가 아니라 우선순위가 높은 순서대로 먼저 나가게 된다.\n",
    "##### 우선순위 큐의 적용 분야\n",
    "- 시뮬레이션 시스템\n",
    "- 네트워크 트래픽 제어\n",
    "- 운영체제의 테스크 스케줄링"
   ]
  },
  {
   "cell_type": "markdown",
   "metadata": {},
   "source": [
    "##### 우선순위 큐의 구현\n",
    "- 배열을 이용한 우선순위 큐\n",
    "- 리스트를 이용한 우선순위 큐\n",
    "##### 우선순위 큐의 기본 연산\n",
    "- 삽입: enQueue\n",
    "- 삭제: deQueue"
   ]
  },
  {
   "cell_type": "markdown",
   "metadata": {},
   "source": [
    "### 배열을 이용한 우선순위 큐\n",
    "##### 배열을 이용하여 우선순위 큐 구현\n",
    "- 배열을 이용하여 자료 저장\n",
    "- 원소를 삽입하는 과정에서 우선순위를 비교하여 적절한 위치에 삽입하는 구조\n",
    "- 가장 앞에 최고 우선순위의 원소가 위치하게 됨\n",
    "##### 문제점\n",
    "- 배열을 사용하므로, 삽입이나 삭제 연산이 일어날 때 원소의 재배치가 발생함\n",
    "- 이에 소요되는 시간이나 메모리 낭비가 큼"
   ]
  },
  {
   "cell_type": "markdown",
   "metadata": {},
   "source": [
    "### 큐의 활용: 버퍼(Buffer)\n",
    "##### 버퍼\n",
    "- 데이터를 한 곳에서 다른 한 곳으로 전송하는 동안 일시적으로 그 데이터를 보관하는 메모리의 영역\n",
    "- 버퍼링: 버퍼를 활용하는 방식 또는 버퍼를 채우는 동작을 의미한다.\n",
    "##### 버퍼의 자료구조\n",
    "- 버퍼는 일반적으로 입출력 및 네트워크와 관련된 기능에서 이용된다.\n",
    "- 순서대로 입력/출력/전달되어야 하므로 FIFO 방식의 자료구조인 큐가 활용된다."
   ]
  },
  {
   "cell_type": "markdown",
   "metadata": {},
   "source": [
    "### BFS(Breadth First Search)\n",
    "##### 그래프를 탐색하는 방법에는 크게 두 가지가 있음\n",
    "- 깊이 우선 탐색(Depth First Search, DFS)\n",
    "- 너비 우선 탐색(Breadth First Search, BFS)\n",
    "##### 너비우선탐색은 탐색 시작점의 인접한 정점들을 먼저 모두 차례로 방문한 후에, 방문했던 정점을 시작점으로 하여 다시 인접한 정점들을 차례로 방문하는 방식\n",
    "##### 인접한 정점들에 대해 탐색을 한 후, 차례로 다시 너비우선탐색을 진행해야 하므로, 선입선출 형태의 자료구조인 큐를 활용함"
   ]
  },
  {
   "cell_type": "markdown",
   "metadata": {},
   "source": [
    "### BFS 알고리즘\n",
    "##### 입력 파라미터: 그래프 G와 탐색 시작점 v"
   ]
  },
  {
   "cell_type": "code",
   "execution_count": null,
   "metadata": {
    "vscode": {
     "languageId": "plaintext"
    }
   },
   "outputs": [],
   "source": [
    "# 그래프 G, 탐색 시작점 v\n",
    "def BFS(G, v):\n",
    "    # n: 정점의 개수\n",
    "    visied = [0]*(n+1)\n",
    "    # 큐 생성\n",
    "    queue = []\n",
    "    # 시작점 v를 큐에 삽입\n",
    "    queue.append(v)\n",
    "\n",
    "    # 큐가 비어있지 않은 경우\n",
    "    while queue:\n",
    "        # 큐의 첫 번째 원소 반환\n",
    "        t = queue.pop(0)\n",
    "\n",
    "        # 방문되지 않은 곳이라면\n",
    "        if not visied[t]:\n",
    "            # 방문한 것으로 표시\n",
    "            visied[t] = True\n",
    "            # 정점 t에서 할 일\n",
    "            visit(t)\n",
    "\n",
    "            # t와 연결된 모든 정점에 대해\n",
    "            for i in G[t]:\n",
    "                # 방문되지 않은 곳이라면\n",
    "                if not visied[i]:\n",
    "                    # 큐에 넣기\n",
    "                    queue.append(i)\n",
    "                    # n으로부터 1만큼 이동\n",
    "                    visied[i] = visied[t] + 1"
   ]
  },
  {
   "cell_type": "code",
   "execution_count": null,
   "metadata": {
    "vscode": {
     "languageId": "plaintext"
    }
   },
   "outputs": [],
   "source": [
    "'''\n",
    "BFS 방법일 때,\n",
    "꺼낼 때, 방문표시를 하면 중복되어 들어갈 수 있음\n",
    "시작점이 여러개 여도 상관이 없음\n",
    "\n",
    "V: 1~V번까지 V개의 정점\n",
    "E: E개의 간선\n",
    "7 8\n",
    "1 2 1 3 2 4 2 5 4 6 5 6 6 7 3 7\n",
    "'''\n",
    "\n",
    "# 시작정점 s, 노드갯수 N\n",
    "def bfs(s, N):\n",
    "    # 큐\n",
    "    q = []\n",
    "    # visited\n",
    "    visited = [0]*(N+1)\n",
    "    # 시작점 인큐\n",
    "    q.append(s)\n",
    "    # 시작점 방문표시\n",
    "    visited[s] = 1\n",
    "    # 큐가 비워질 때까지...(남은 정점이 있으면)\n",
    "    while q:\n",
    "        t = q.pop(0)\n",
    "        # t에서 할일...\n",
    "        print(t)\n",
    "        # t에 인접인 정점 i\n",
    "        for i in adjl[t]:\n",
    "            # 방문하지 않은 정점이면\n",
    "            if visited[i] == 0:\n",
    "                # 인큐\n",
    "                q.append(i)\n",
    "                # 방문표시\n",
    "                visited[i] = 1 + visited[t]\n",
    "    \n",
    "    print(visited)\n",
    "\n",
    "V, E = map(int, input().split())\n",
    "arr = list(map(int, input().split()))\n",
    "\n",
    "# 인접리스트\n",
    "adjl = [[] for _ in range(V+1)]\n",
    "for i in range(E):\n",
    "    n1, n2 = arr[i*2], arr[i*2+1]\n",
    "    adjl[n1].append(n2)\n",
    "    adjl[n2].append(n1) # 무향그래프\n",
    "\n",
    "# for i in range(0, E*2, 2):\n",
    "#     n1, n2 = arr[i], arr[i+1]\n",
    "\n",
    "bfs(1, V)"
   ]
  }
 ],
 "metadata": {
  "language_info": {
   "name": "python"
  }
 },
 "nbformat": 4,
 "nbformat_minor": 2
}
