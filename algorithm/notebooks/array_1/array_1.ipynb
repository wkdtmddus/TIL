{
 "cells": [
  {
   "cell_type": "markdown",
   "metadata": {},
   "source": [
    "##### 학습 내용\n",
    "- 자료구조와 알고리즘\n",
    "\n",
    "##### 학습 목표\n",
    "- 논리적 사고력 향상\n",
    "- 문제 해결 능력 향상  \n",
    "-> 최종 목표는 연습 문제가 아닌 \"현실 세계 문제\"\n",
    "\n",
    "##### 학습 도구\n",
    "- Python"
   ]
  },
  {
   "cell_type": "markdown",
   "metadata": {},
   "source": [
    "### 알고리즘\n",
    "\n",
    "알고리즘: 유한한 단계를 통해 `문제를 해결하기 위한 절차`나 방법이다.\n",
    "\n",
    "간단하게 다시 말하면 어떠한 문제를 해결하기 위한 절차라고 볼 수 있다."
   ]
  },
  {
   "cell_type": "markdown",
   "metadata": {},
   "source": [
    "##### 컴퓨터 분야에서 알고리즘을 표현 하는 방법은 크게 두 가지\n",
    "- 의사코드(슈도코드, Pseudocode)와 순서도"
   ]
  },
  {
   "cell_type": "markdown",
   "metadata": {},
   "source": [
    "##### APS(Algorithm Problem Solving) 과정의 목표 중의 하나는 보다 좋은 알고리즘을 이해하고 활용하는 것이다.\n",
    "\n",
    "##### 무엇이 좋은 알고리즘인가?\n",
    "1. 정확성: 얼마나 정확하게 동작하는가\n",
    "2. 작업량: 얼마나 적은 연산으로 원하는 결과를 얻어내는가\n",
    "3. 메모리 사용량: 얼마나 적은 메모리를 사용하는가\n",
    "4. 단순성: 얼마나 단순한가\n",
    "5. 최적성: 더 이상 개선할 여지없이 최적화되었는가"
   ]
  },
  {
   "cell_type": "markdown",
   "metadata": {},
   "source": [
    "##### 주어진 문제를 해결하기 위해 여러 개의 다양한 알고리즘이 가능\n",
    "-> 어떤 알고리즘을 사용해야 하는가?\n",
    "\n",
    "##### 알고리즘의 성능 분석 필요\n",
    "- 많은 문제에서 성능 분석의 기준으로 알고리즘의 작업량을 비교한다. "
   ]
  },
  {
   "cell_type": "markdown",
   "metadata": {},
   "source": [
    "##### 알고리즘의 작업량을 표현할 때 시간복잡도로 표현한다.\n",
    "##### 시간 복잡도(time Complexity)\n",
    "- 실제 걸리는 시간을 측정\n",
    "- 실행되는 명령문의 개수를 계산"
   ]
  },
  {
   "cell_type": "markdown",
   "metadata": {},
   "source": [
    "##### 시간 복잡도 = 빅-오(O) 표기법\n",
    "- 빅-오 표기법(Big-O Notation)\n",
    "- 시간 복잡도 함수 중에서 가장 큰 영향력을 주는 n에 대한 항만을 표시\n",
    "- 계수(Coefficient)는 생략하여 표시\n",
    "- 예: O(3n +2) = O(3n) = O(n)"
   ]
  },
  {
   "cell_type": "markdown",
   "metadata": {},
   "source": [
    "### 배열\n",
    "\n",
    "##### 배열이란 무엇인가\n",
    "- 일정한 자료형의 변수들을 하나의 이름으로 열거하여 사용하는 자료구조\n",
    "- 6개의 변수를 사용해야 하는 경우, 이를 배열로 바꾸어 사용하는 예"
   ]
  },
  {
   "cell_type": "code",
   "execution_count": null,
   "metadata": {
    "vscode": {
     "languageId": "plaintext"
    }
   },
   "outputs": [],
   "source": [
    "num0 = 0\n",
    "num1 = 1\n",
    "num2 = 2\n",
    "num3 = 3\n",
    "num4 = 4\n",
    "num5 = 5\n",
    "\n",
    "num = [0, 1, 2, 3, 4, 5]"
   ]
  },
  {
   "cell_type": "markdown",
   "metadata": {},
   "source": [
    "##### 배열의 필요성\n",
    "- 프로그램 내에서 여러 개의 변수가 필요할 때, 일일이 다른 변수명을 이용하여 자료에 접근하는 것은 매우 비효율적일 수 있다.\n",
    "- 배열을 사용하면 하나의 선언을 통해서 둘 이상의 변수를 선언할 수 있다.\n",
    "- 단순히 다수의 변수 선언을 의미하는 것이 아니라, 다수의 변수로는 하기 힘든 작업을 배열을 활용해 쉽게 할 수 있다."
   ]
  },
  {
   "cell_type": "markdown",
   "metadata": {},
   "source": [
    "##### 1차원 배열의 선언\n",
    "- 별도의 선언 방법이 없으면 변수에 처음 값을 할당할 때 생성\n",
    "- 이름: 프로그램에서 사용할 배열의 이름"
   ]
  },
  {
   "cell_type": "code",
   "execution_count": null,
   "metadata": {
    "vscode": {
     "languageId": "plaintext"
    }
   },
   "outputs": [],
   "source": [
    "# 1차원 배열 선언의 예\n",
    "arr = list()\n",
    "arr = []\n",
    "arr = [1, 2, 3]\n",
    "arr = [0]*10"
   ]
  },
  {
   "cell_type": "markdown",
   "metadata": {},
   "source": [
    "##### 1차원 배열의 접근\n",
    "- arr[0] = 10   # 배열 arr의 0번 원소에 10을 저장하라\n",
    "- arr[idx] = 20 # 배열 arr의 idx번 원소에 20을 저장하라"
   ]
  },
  {
   "cell_type": "markdown",
   "metadata": {},
   "source": [
    "### 정렬\n",
    "##### 2개 이상의 자료를 특정 기준에 의해 작은 값부터 큰 값(오름차순: ascending), 혹은 그 반대의 순서대로(내림차순: descending) 재배열하는 것\n",
    "##### 키\n",
    "- 자료를 정렬하는 기준이 되는 특정 값"
   ]
  },
  {
   "cell_type": "markdown",
   "metadata": {},
   "source": [
    "##### 대표적인 정렬 방식의 종류\n",
    "- 버블 정렬(Bubble Sort)\n",
    "- 카운팅 정렬(Counting Sort)\n",
    "- 선택 정렬(Selection Sort)\n",
    "- 퀵 정렬(Quick Sort)\n",
    "- 삽입 정렬(Insertion Sort)\n",
    "- 병합 정렬(Merge Sort)\n",
    "\n",
    "##### APS 과정을 통해 자료구조와 알고리즘을 학습하면서 다양한 형태의 정렬을 학습하게 된다."
   ]
  },
  {
   "cell_type": "markdown",
   "metadata": {},
   "source": [
    "### 버블 정렬(Bubble Sort)\n",
    "##### 인접한 두 개의 원소를 비교하며 자리를 계속 교환하는 방식\n",
    "##### 정렬 과정\n",
    "- 첫 번째 원소부터 인접한 원소끼리 계속 자리를 교환하면서 맨 마지막 자리까지 이동한다.\n",
    "- 한 단계가 끝나면 가장 큰 원소가 마지막 자리로 정렬된다.\n",
    "- 교환하며 자리를 이동하는 모습이 물 위에 올라오는 거품 모양과 같다고 하여 버블 정렬이라고 한다.\n",
    "###### 시간 복잡도\n",
    "- O(n**2)"
   ]
  },
  {
   "cell_type": "markdown",
   "metadata": {},
   "source": [
    "##### 배열을 활용한 버블 정렬\n",
    "- 앞서 살펴 본 정렬 과정을 코드로 구현하면 아래와 같다.(오름차순)"
   ]
  },
  {
   "cell_type": "code",
   "execution_count": null,
   "metadata": {
    "vscode": {
     "languageId": "plaintext"
    }
   },
   "outputs": [],
   "source": [
    "BubblSort(a, N)                 # 정렬할 배열과 배열의 크기\n",
    "    for i: N-1 -> 1             # 정렬될 구간의 끝\n",
    "        for j: 0 -> i-1         # 비교할 원소 중 왼쪽 원소의 인덱스\n",
    "            if a[j] > a[j+1]    # 왼쪽 원소가 더 크면\n",
    "                a[j] <-> a[j+1] # 오른쪽 원소와 교환"
   ]
  },
  {
   "cell_type": "code",
   "execution_count": null,
   "metadata": {
    "vscode": {
     "languageId": "plaintext"
    }
   },
   "outputs": [],
   "source": [
    "def BubbleSort(a, N):           # 정렬할 List, N 원소 수\n",
    "    for in range(N-1, 0, -1):   # 범위의 끝 위치\n",
    "        for j in range(0, i):   # 비교할 왼쪽 원소\n",
    "            if a[j] > a[j+1]:\n",
    "                a[j], a[j+1] = a[j+1], a[j]"
   ]
  },
  {
   "cell_type": "markdown",
   "metadata": {},
   "source": [
    "### 카운팅 정렬(Counting Sort)\n",
    "##### 항목들의 순서를 결정하기 위해 집합에 각 항목이 몇 개씩 있는지 세는 작업을 하여, 선형 시간에 정렬하는 효율적인 알고리즘\n",
    "##### 제한 사항\n",
    "- 정수나 정수로 표현할 수 있는 자료에 대해서만 적용 가능: 각 항목의 발생 횟수를 기록하기 위해, 정수 항목으로 인덱스 되는 카운트들의 배열을 사용하기 때문이다.\n",
    "- 카운트들을 위한 충분한 공간을 할당하려면 집합내의 가장 큰 정수를 알아야 한다.\n",
    "##### 시간 복잡도\n",
    "- O(n+k): n은 리스트 길이, k는 정수의 최대값"
   ]
  },
  {
   "cell_type": "code",
   "execution_count": null,
   "metadata": {
    "vscode": {
     "languageId": "plaintext"
    }
   },
   "outputs": [],
   "source": [
    "def Counting_Sort(DATA, TEMP, k)\n",
    "# DATA[] -- 입력 배열(0 to k)\n",
    "# TEMP[] -- 정렬된 배열\n",
    "# COUNTS[] -- 카운트 배열\n",
    "\n",
    "    COUNTS = [0]*(k+1)\n",
    "\n",
    "    for i in range(0, len(DATA)):\n",
    "        COUNTS[DATA[i]] += 1\n",
    "    \n",
    "    for i in range(1, k+1):\n",
    "        COUNTS[i] += COUNTS[i-1]\n",
    "    \n",
    "    for i in range(len(TEMP)-1, -1, -1):\n",
    "        COUNTS[DATA[i]] -= 1\n",
    "        TEMP[COUNTS[DATA[i]]] = DATA[i]"
   ]
  },
  {
   "cell_type": "code",
   "execution_count": null,
   "metadata": {
    "vscode": {
     "languageId": "plaintext"
    }
   },
   "outputs": [],
   "source": [
    "# 카운팅 정렬\n",
    "N = 6\n",
    "\n",
    "# 0~K\n",
    "K = 9\n",
    "\n",
    "# 0~9, K=9\n",
    "data = [7, 2, 4, 5, 1, 3]\n",
    "counts = [0]*(K+1)\n",
    "\n",
    "# data와 같은 갯수\n",
    "temp = [0]*N\n",
    "\n",
    "# counts 배열에 기록하기\n",
    "for x in data:\n",
    "    counts[x] += 1\n",
    "\n",
    "# counts 누적합 구하기\n",
    "for i in range(1, K+1):\n",
    "    counts[i] = counts[i-1] + counts[i]\n",
    "\n",
    "# data의 마지막 원소부터 정렬하기\n",
    "# N-1 -> 0 까지\n",
    "for i in range(N-1, -1, -1):\n",
    "\n",
    "    # 갯수를 인덱스로 변환(남은 갯수 계산)\n",
    "    counts[data[i]] -= 1\n",
    "    temp[counts[data[i]]] = data[i]\n",
    "    \n",
    "# 리스트로 된 값을 꺼내서 출력 함\n",
    "print(*temp)"
   ]
  },
  {
   "cell_type": "markdown",
   "metadata": {},
   "source": [
    "### 완전 검색(Exaustive Search)\n",
    "##### 완전 검색 방법은 문제의 해법으로 생각할 수 있는 모든 경우의 수를 나열해보고 확인하는 기법이다.\n",
    "##### Brute-force 혹은 generate-and-test 기법이라고도 불린다.\n",
    "##### 모든 경우의 수를 테스트한 후, 최종 해법을 도출한다.\n",
    "##### 일반적으로 경우의 수가 상대적으로 작을 때 유용하다."
   ]
  },
  {
   "cell_type": "markdown",
   "metadata": {},
   "source": [
    "##### 모든 경우의 수를 생성하고 테스트하기 때문에 수행 속도는 느리지만, 해답을 찾아내지 못할 확률이 작다.\n",
    "##### 자격검정평가 등에서 주어진 문제를 풀 때, 우선 완전 검색으로 접근하여 해답을 도출한 후, 성능 개선을 위해 다른 알고리즘을 사용하고 해답을 확인하는 것이 바람직하다."
   ]
  },
  {
   "cell_type": "markdown",
   "metadata": {},
   "source": [
    "### 순열\n",
    "##### 순열(Permutation)\n",
    "- 서로 다른 것들 중 몇 개를 뽑아서 한 줄로 나열하는 것\n",
    "- 서로 다른 n개 중 r개를 택하는 순열은 아래와 같이 표현한다.  \n",
    "`nPr`\n",
    "- 그리고 nPr은 다음과 같은 식이 성립한다.  \n",
    "`nPr = n * (n-1) * (n-2) * ... * (n-r+1)`\n",
    "- `nPn = n!`이라고 표기하며 Factorial이라 부른다.  \n",
    "`n! = n * (n-1) * (n-2) * ... * 2 * 1`"
   ]
  },
  {
   "cell_type": "markdown",
   "metadata": {},
   "source": [
    "##### 예: {1, 2, 3}을 포함하는 모든 순열을 생성하는 함수\n",
    "- 동일한 숫자가 포함되지 않았을 때, 각 자리 수 별로 loop를 이용해 아래와 같이 구현할 수 있다."
   ]
  },
  {
   "cell_type": "code",
   "execution_count": null,
   "metadata": {
    "vscode": {
     "languageId": "plaintext"
    }
   },
   "outputs": [],
   "source": [
    "for i1 in range(1, 4):\n",
    "    for i2 in range(1, 4):\n",
    "        if i2 != i1:\n",
    "            for i3 in range(1, 4):\n",
    "                if i3 != i1 and i3 != i2:\n",
    "                    print(i1, i2, i3)"
   ]
  },
  {
   "cell_type": "markdown",
   "metadata": {},
   "source": [
    "### 탐욕(Greedy) 알고리즘\n",
    "##### 탐욕 알고리즘은 최적해를 구하는 데 사용되는 근시안적인 방법\n",
    "##### 여러 경우 중 하나를 결정해야 할 때마다 그 순간에 최적이라고 생각되는 것을 선택해 나가는 방식으로 진행하여 최종적인 해답에 도달한다.\n",
    "##### 각 선택의 시점에서 이루어지는 결정은 지역적으로 최적이지만, 그 선택들을 계속 수집하여 최종적인 해답을 만들었다고 하여, 그것이 최적이라는 보장은 없다.\n",
    "##### 일반적으로, 머릿속에 떠오르는 생각을 검증 없이 바로 구현하면 Greedy 접근이 된다."
   ]
  },
  {
   "cell_type": "markdown",
   "metadata": {},
   "source": [
    "1) 해 선택: 현재 상태에서 부분 문제의 최적 해를 구한 뒤, 이를 부분해 집합(Solution Set)에 추가한다.\n",
    "2) 실행 가능성 검사: 새로운 부분해 집합이 실행 가능한지를 확인한다. 곧, 문제의 제약 조건을 위반하지 않는지를 검사한다.\n",
    "3) 해 검사: 새로운 부분해 집합이 문제의 해가 되는지를 확인한다. 아직 전체 문제의 해가 완성되지 않았다면 `1`의 해 선택부터 다시 시작한다."
   ]
  }
 ],
 "metadata": {
  "language_info": {
   "name": "python"
  }
 },
 "nbformat": 4,
 "nbformat_minor": 2
}
