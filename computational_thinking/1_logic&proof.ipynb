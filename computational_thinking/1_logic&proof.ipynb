{
 "cells": [
  {
   "cell_type": "markdown",
   "metadata": {},
   "source": [
    "### 논리와 증명\n",
    "##### 문제1: 다음 명제들이 항진명제라는 것을 진리표를 이용해서 보이시오.\n",
    "1) ~(~p^q)Vq\n",
    "2) (~pVq)V(p^~q)"
   ]
  },
  {
   "cell_type": "markdown",
   "metadata": {},
   "source": [
    "|p|q|~p|(~p^q)|~(~p^q)|~(~p^q)Vq|\n",
    "|-|-|-|-|-|-|\n",
    "|T|T|F|F|T|T|\n",
    "|T|F|F|F|T|T|\n",
    "|F|T|T|T|F|T|\n",
    "|F|F|T|F|T|T|"
   ]
  },
  {
   "cell_type": "markdown",
   "metadata": {},
   "source": [
    "##### 문제2: 다음 명제들이 모순명제라는 것을 진리표를 이용해서 보이시오.\n",
    "1) (~pVq)^(p^~q)\n",
    "2) (p^q)^(p^~q)"
   ]
  },
  {
   "cell_type": "markdown",
   "metadata": {},
   "source": [
    "|p|q|~p|(~pVq)|~q|(p^~q)|(~pVq)^(p^~q)|\n",
    "|-|-|-|-|-|-|-|\n",
    "|T|T|F|T|F|F|F|\n",
    "|T|F|F|F|T|T|F|\n",
    "|F|T|T|T|F|F|F|\n",
    "|F|F|T|T|T|F|F|"
   ]
  },
  {
   "cell_type": "markdown",
   "metadata": {},
   "source": [
    "##### 문제3: 다음 명제의 쌍들에 대해서 두 명제가 동등한지를 진리표를 이용해 확인하시오.\n",
    "1) p^(pvq)와 p\n",
    "2) ~pV~q와 ~(pVq)"
   ]
  },
  {
   "cell_type": "markdown",
   "metadata": {},
   "source": [
    "|p|q|pVq|p^(pVq)|\n",
    "|-|-|-|-|\n",
    "|T|T|T|T|\n",
    "|T|F|T|T|\n",
    "|F|T|T|F|\n",
    "|F|F|F|F|"
   ]
  },
  {
   "cell_type": "markdown",
   "metadata": {},
   "source": [
    "|p|q|pVq|~(pVq)|~p|~q|~pV~q|\n",
    "|-|-|-|-|-|-|-|\n",
    "|T|T|T|F|F|F|F|\n",
    "|T|F|T|F|F|T|T|\n",
    "|F|T|T|F|T|F|T|\n",
    "|F|F|F|T|T|T|T|"
   ]
  },
  {
   "cell_type": "markdown",
   "metadata": {},
   "source": [
    "##### 문제4: 명제식의 변형을 통하여 다음 명제를 간소화하시오.\n",
    "1) (p^~q)V(p^q)\n",
    "2) (pV~q)^(~pV~q)"
   ]
  },
  {
   "cell_type": "markdown",
   "metadata": {},
   "source": [
    "1) (p^~q)V(p^q)\n",
    "  - 분배법칙: p^(~qVq)\n",
    "  - 부정법칙: p^T\n",
    "  - 항등법칙: p\n",
    "2) (pV~q)^(~pV~q)\n",
    "  - 분배법칙: (p^~p)V~q\n",
    "  - 부정법칙: FV~q\n",
    "  - 항등법칙: ~q"
   ]
  },
  {
   "cell_type": "markdown",
   "metadata": {},
   "source": [
    "##### 문제5: 다음 명제들이 참인지 확인하시오. 단, R은 실수의 집합을 의미하고, Z는 정수의 집합을 의미한다.\n",
    "1) 모든 x는 R의 원소, x^2 >= x\n",
    "2) 모든 x는 Z의 원소, x^2 >= x\n",
    "3) 어떤 x는 R의 원소, x^2 < x\n",
    "4) 어떤 x는 Z의 원소, x^2 < x"
   ]
  },
  {
   "cell_type": "markdown",
   "metadata": {},
   "source": [
    "1) 모든 x는 R의 원소, x^2 >= x  \n",
    "  x^2 - x >= 0  \n",
    "  x(x - 1) >= 0  \n",
    "  x <= 0 or x >= 1  \n",
    "  0 < x < 1일 때, 성립하지 않음\n",
    "2) 모든 x는 Z의 원소, x^2 >= x  \n",
    "  x^2 - x >= 0  \n",
    "  x(x - 1) >= 0\n",
    "  x <= 0 or x >= 1\n",
    "  x는 정수이므로, 성립\n",
    "3) 어떤 x는 R의 원소, x^2 < x  \n",
    "  x^2 - x < 0  \n",
    "  x(x - 1) < 0  \n",
    "  0 < x < 1일 때 성립\n",
    "4) 어떤 x는 Z의 원소, x^2 < x  \n",
    "  x^2 - x < 0  \n",
    "  x(x - 1) < 0  \n",
    "  0 < x < 1인 정수가 존재하지 않으므로 성립하지 않음"
   ]
  },
  {
   "cell_type": "markdown",
   "metadata": {},
   "source": [
    "##### 문제6: (직접증명)n이 짝수이면 3n + 5는 홀수임을 증명하라.\n",
    "- 힌트: n = 2k로 두고 3n + 5가 2(어떤 정수) + 1 형태로 표현될 수 있는지..."
   ]
  },
  {
   "cell_type": "markdown",
   "metadata": {},
   "source": [
    "n = 2k일 때,  \n",
    "3(2k) + 5 = 6k + 5 = 2(3k + 2) + 1"
   ]
  },
  {
   "cell_type": "markdown",
   "metadata": {},
   "source": [
    "##### 문제7: n이 홀수이면 n^2 + n은 짝수임을 증명하라."
   ]
  },
  {
   "cell_type": "markdown",
   "metadata": {},
   "source": [
    "n = 2k + 1일 때,  \n",
    "(2k + 1)^2 + 1 = 4k^2 + 4k + 2 = 2(2k^2 + 2k + 1)"
   ]
  },
  {
   "cell_type": "markdown",
   "metadata": {},
   "source": [
    "##### 문제8: m이 짝수이고 n이 홀수이면 2m + 3n은 홀수임을 증명하라."
   ]
  },
  {
   "cell_type": "markdown",
   "metadata": {},
   "source": [
    "m = 2k, n = 2k + 1일 때,  \n",
    "2(2k) + 3(2k + 1) = 4k + 6k + 3 = 10k + 3 = 2(5k + 1) + 1"
   ]
  },
  {
   "cell_type": "markdown",
   "metadata": {},
   "source": [
    "##### 문제9: (대우를 증명)자연수 n에 대해, n^2 + 5가 홀수이면 n은 짝수임을 증명하라.\n",
    "- 힌트: 명제 대신, n이 홀수이면 n^2 + 5는 짝수임을 증명한다."
   ]
  },
  {
   "cell_type": "markdown",
   "metadata": {},
   "source": [
    "n = 2k + 1일 때,  \n",
    "(2k + 1)^2 + 5 = 4k^2 + 4k + 6 = 2(k^2 +4k + 3)"
   ]
  },
  {
   "cell_type": "markdown",
   "metadata": {},
   "source": [
    "##### 문제10: n^2이 짝수이면 n은 짝수임을 증명하라."
   ]
  },
  {
   "cell_type": "markdown",
   "metadata": {},
   "source": [
    "n이 홀수이면 n^2는 홀수이다.  \n",
    "n = 2k + 1일 때,  \n",
    "(2k + 1)^2 = 4k^2 + 4k + 1 = 4(k^2 + k) + 1"
   ]
  },
  {
   "cell_type": "markdown",
   "metadata": {},
   "source": [
    "##### 문제11: (경우를 나누어 증명)자연수 n에 대해 n^2 + 5n + 3은 항상 홀수임을 증명하라.\n",
    "- 힌트: n이 짝수인 경우와 홀수인 경우를 따로 증명한다."
   ]
  },
  {
   "cell_type": "markdown",
   "metadata": {},
   "source": [
    "n = 2k일 때,  \n",
    "(2k)^2 + 5(2k) + 3 = 4k^2 + 10k + 3 = 2(2k^2 + 5k + 1) + 1  \n",
    "n = 2k + 1일 때,  \n",
    "(2k + 1)^2 + 5(2k + 1) + 3 = 4k^2 + 14k + 9 = 2(2k^2 + 7k + 4) + 1"
   ]
  },
  {
   "cell_type": "markdown",
   "metadata": {},
   "source": [
    "##### 문제12: n^2이 3의 배수이면 n은 3의 배수임을 증명하라."
   ]
  },
  {
   "cell_type": "markdown",
   "metadata": {},
   "source": [
    "n이 3의 배수가 아니면, n^2는 3의 배수가 아니다.  \n",
    "n = 3k + 1일 때,  \n",
    "(3k + 1)^2 = 9k^2 + 6k + 1 = 3(3k^2 + 2k) + 1  \n",
    "n = 3k + 2일 때,  \n",
    "(3k + 2)^2 = 9k^2 + 12k + 4 = 3(3k^2 + 4k + 1) + 1"
   ]
  }
 ],
 "metadata": {
  "language_info": {
   "name": "python"
  }
 },
 "nbformat": 4,
 "nbformat_minor": 2
}
