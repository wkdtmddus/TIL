{
 "cells": [
  {
   "cell_type": "markdown",
   "metadata": {},
   "source": [
    "### 기초수식\n",
    "##### 약간의 설명\n",
    "- 알고리즘의 시간복잡도를 표현할 수 있는 다양한 수식들이 존재한다.\n",
    "- 풀이법을 익혀 두어야 알고리즘의 시간복잡도를 계산할 수 있고,알고리즘이 시간이 얼마나 걸릴 지 예측할 수 있다."
   ]
  },
  {
   "cell_type": "markdown",
   "metadata": {},
   "source": [
    "##### 연습문제들: 다음 재귀식들을 O() notation 수준으로 풀어라."
   ]
  },
  {
   "cell_type": "markdown",
   "metadata": {},
   "source": [
    "##### 문제1: T(n) = T(n - 1) + 1, T(0) = 1"
   ]
  },
  {
   "cell_type": "markdown",
   "metadata": {},
   "source": [
    "T(n - 1) = T(n - 2) + 1  \n",
    "`T(n) = T(n - 2) + 2`  \n",
    "T(n - 2) = T(n - 3) + 1  \n",
    "`T(n) = T(n - 3) + 3`  \n",
    "`T(n) = T(n - k) + k`  \n",
    "k = n일 때,  \n",
    "`T(n) = T(0) + n` = 1 + n  \n",
    "-> O(n)"
   ]
  },
  {
   "cell_type": "markdown",
   "metadata": {},
   "source": [
    "##### 문제2: T(n) = T(n - 1) + n, T(0) = 1"
   ]
  },
  {
   "cell_type": "markdown",
   "metadata": {},
   "source": [
    "T(n - 1) = T(n - 2) + n  \n",
    "`T(n) = T(n - 2) + 2n`  \n",
    "T(n - 2) = T(n - 3) + n  \n",
    "`T(n) = T(n - 3) + 3n`  \n",
    "`T(n) = T(n - k) + kn`  \n",
    "k = n일 때,  \n",
    "`T(n) = T(0) + kn` = 1 + n^2  \n",
    "-> O(n^2)"
   ]
  },
  {
   "cell_type": "markdown",
   "metadata": {},
   "source": [
    "##### 문제3: T(n) = T(n - 1) + logn, T(0) = 1"
   ]
  },
  {
   "cell_type": "markdown",
   "metadata": {},
   "source": [
    "T(n - 1) = T(n - 2) + logn  \n",
    "`T(n) = T(n - 2) + 2logn`  \n",
    "T(n - 2) = T(n - 3) + logn  \n",
    "`T(n) = T(n - 3) + 3logn`  \n",
    "`T(n) = T(n - k) + klogn`  \n",
    "k = n일 때,  \n",
    "`T(n) = T(0) + nlogn` = 1 + nlogn  \n",
    "-> O(nlogn)"
   ]
  },
  {
   "cell_type": "markdown",
   "metadata": {},
   "source": [
    "##### 문제4: T(n) = T(n/2) + 1, T(1) = 1"
   ]
  },
  {
   "cell_type": "markdown",
   "metadata": {},
   "source": [
    "T(n/2) = T(n/2^2) + 1  \n",
    "`T(n) = T(n/2^2) + 2`  \n",
    "T(n/2^2) = T(n/2^3) + 1  \n",
    "`T(n) = T(n/2^3) + 3`  \n",
    "`T(n) = T(n/2^k) + k`  \n",
    "k = logn일 때,  \n",
    "`T(n) = T(1) + logn` = 1 + logn  \n",
    "-> O(logn)"
   ]
  },
  {
   "cell_type": "markdown",
   "metadata": {},
   "source": [
    "##### 문제5: T(n) = T(n/2) + n, T(1) = 1"
   ]
  },
  {
   "cell_type": "markdown",
   "metadata": {},
   "source": [
    "T(n/2) = T(n/2^2) + n/2  \n",
    "`T(n) = T(n/2^2) + n + n/2`  \n",
    "T(n/2^2) = T(n/2^3) + n/2^2  \n",
    "`T(n) = T(n/2^3) + n + n/2 + n/2^3`  \n",
    "`T(n) = T(n/2^k) + n + n/2 + n/2^3 + ... + n/2^k`  \n",
    "k = logn일 때,  \n",
    "`T(n) = T(1) + n + n/2 + n/2^3 + ... + 1` <= 1 + 2n  \n",
    "-> O(n)"
   ]
  },
  {
   "cell_type": "markdown",
   "metadata": {},
   "source": [
    "##### 문제6: T(n) = 2T(n/2) + n, T(1) = 1"
   ]
  },
  {
   "cell_type": "markdown",
   "metadata": {},
   "source": [
    "T(n/2) = 2T(n/2^2) + n/2  \n",
    "`T(n) = 2(2T(n/2^2) + n/2) + n` = `2^2T(n/2^2) + 2n`  \n",
    "T(n/2^2) = 2T(n/2^3) + n/2^2  \n",
    "`T(n) = 2^3T(n/2^3) + 3n`  \n",
    "`T(n) = 2^kT(n/2^k) + kn`  \n",
    "k = logn일 때,  \n",
    "`T(n) = nT(1) + nlogn` = n + nlogn  \n",
    "-> O(nlogn)"
   ]
  },
  {
   "cell_type": "markdown",
   "metadata": {},
   "source": [
    "##### 문제7: T(n) = 3T(n/2) + n, T(1) = 1"
   ]
  },
  {
   "cell_type": "markdown",
   "metadata": {},
   "source": [
    "T(n/2) = 3T(n/2^2) + n/2  \n",
    "`T(n) = 3(3T(n/2^2) + n/2) + n` = `3^2T(n/2^2) + n(1 + (3/2)^1)`  \n",
    "T(n/2^2) = 3T(n/2^2) + n/2^2  \n",
    "`T(n) = 3^3T(n/2^3) + n(1 + (3/2)^1 + (3/2)^2)`  \n",
    "`T(n) = 3^kT(n/2^k) + n(1 + (3/2)^1 + (3/2)^2 + ... + (3/2)^(k - 1))`  \n",
    "1 + (3/2)^1 + (3/2)^2 + ... + (3/2)^(k - 1) = ((3/2)^k - 1)/((3/2) - 1)  \n",
    "`T(n) = 3^kT(n/2^k) + 2n(3/2)^k - 2n`  \n",
    "k = logn일 때,  \n",
    "`T(n) = 3^logn*T(1) + 2n(3^logn/n) - 2n`  \n",
    "= n^log3 + 2`*`3^logn - 2n  \n",
    "= 3*n^log3 - 2n   \n",
    "-> O(n^log3)"
   ]
  },
  {
   "cell_type": "markdown",
   "metadata": {},
   "source": [
    "##### 문제8: T(n) = T(n - 1) + 1/n, T(1) = 1"
   ]
  },
  {
   "cell_type": "markdown",
   "metadata": {},
   "source": [
    "T(n - 1) = T(n - 2) + 1/(n - 1)  \n",
    "`T(n) = T(n - 2) + 1/n + 1/(n - 1)`  \n",
    "T(n - 2) = T(n - 3) + 1/(n - 2)  \n",
    "`T(n) = T(n - 3) + 1/n + 1/(n - 1) + 1/(n - 2)`  \n",
    "`T(n) = T(n - k) + 1/n + 1/(n - 1) + ... + 1/(n - k + 1)`  \n",
    "k = n - 1일 때,  \n",
    "`T(n) = T(1) + lnn`  \n",
    "-> O(logn)"
   ]
  }
 ],
 "metadata": {
  "language_info": {
   "name": "python"
  }
 },
 "nbformat": 4,
 "nbformat_minor": 2
}
