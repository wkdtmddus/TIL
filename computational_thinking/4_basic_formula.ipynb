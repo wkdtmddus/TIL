{
 "cells": [
  {
   "cell_type": "markdown",
   "metadata": {},
   "source": [
    "### 기초수식\n",
    "##### 약간의 설명\n",
    "- 알고리즘의 시간복잡도를 표현할 수 있는 다양한 수식들이 존재한다.\n",
    "- 풀이법을 익혀 두어야 알고리즘의 시간복잡도를 계산할 수 있고,알고리즘이 시간이 얼마나 걸릴 지 예측할 수 있다."
   ]
  },
  {
   "cell_type": "markdown",
   "metadata": {},
   "source": [
    "##### 연습문제들: 다음 재귀식들을 O() notation 수준으로 풀어라."
   ]
  },
  {
   "cell_type": "markdown",
   "metadata": {},
   "source": [
    "##### 문제1: T(n) = T(n - 1) + 1, T(0) = 1"
   ]
  },
  {
   "cell_type": "markdown",
   "metadata": {},
   "source": [
    "n - 1일 때,  \n",
    "T(n - 1) = T(n - 2) + 1  \n",
    "`T(n) = T(n - 2) + 2`  \n",
    "n - 2일 때,  \n",
    "T(n - 2) = T(n - 3) + 1  \n",
    "`T(n) = T(n - 3) + 3`  \n",
    "n - k일 때,  \n",
    "`T(n) = T(n - k) + k`  \n",
    "k = n일 때,  \n",
    "`T(n) = T(0) + n` = 1 + n  \n",
    "-> O(n)"
   ]
  },
  {
   "cell_type": "markdown",
   "metadata": {},
   "source": [
    "##### 문제2: T(n) = T(n - 1) + n, T(0) = 1"
   ]
  },
  {
   "cell_type": "markdown",
   "metadata": {},
   "source": [
    "n - 1일 때,  \n",
    "T(n - 1) = T(n - 2) + n  \n",
    "`T(n) = T(n - 2) + 2n`  \n",
    "n - 2일 때,  \n",
    "T(n - 2) = T(n - 3) + n  \n",
    "`T(n) = T(n - 3) + 3n`  \n",
    "n - k일 때,  \n",
    "`T(n) = T(n - k) + kn`  \n",
    "k = n일 때,  \n",
    "`T(n) = T(0) + kn` = 1 + n^2  \n",
    "-> O(n^2)"
   ]
  },
  {
   "cell_type": "markdown",
   "metadata": {},
   "source": [
    "##### 문제3: T(n) = T(n - 1) + logn, T(0) = 1"
   ]
  },
  {
   "cell_type": "markdown",
   "metadata": {},
   "source": [
    "n - 1일 때,  \n",
    "T(n - 1) = T(n - 2) + logn  \n",
    "`T(n) = T(n - 2) + 2logn`  \n",
    "n - 2일 때,  \n",
    "T(n - 2) = T(n - 3) + logn  \n",
    "`T(n) = T(n - 3) + 3logn`  \n",
    "n - k일 때,  \n",
    "`T(n) = T(n - k) + klogn`  \n",
    "k = n일 때,  \n",
    "`T(n) = T(0) + nlogn` = 1 + nlogn  \n",
    "-> O(nlogn)"
   ]
  }
 ],
 "metadata": {
  "language_info": {
   "name": "python"
  }
 },
 "nbformat": 4,
 "nbformat_minor": 2
}
